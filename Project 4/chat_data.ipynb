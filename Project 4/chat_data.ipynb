{
 "cells": [
  {
   "cell_type": "markdown",
   "metadata": {},
   "source": [
    "# ChatData\n",
    "\n",
    "## Sqlite\n",
    "We are using a file system called **sqlite**. It looks and acts like a real single user relational database (RDB). sqlite3 comes packaged with python. You do not need to install the library. You simply import it (as below).\n",
    "\n",
    "- We are using Pandas to write and read to sqlite. Pandas will manage a lot of the complexity of dealing with a RDB. There are other ways of reading and writing to a RDB that are VERY common and often used in production systems.  \n",
    "\n",
    "- The most common other way is to read or write to the RDB row by row. As you can see Pandas puts the entire dataframe into the RDB or extracts a new dataframe from the RDB. These are not row by row operations. These are set operations. Set operations ARE more efficient. However, it is common to use row by row operations to avoid needing large memory computers to hold the dataframes. One row only takes a few bytes. An entire dataframe could be many gigabytes and even petabytes of data. Obviously you will end up with problems with your compute resource if your files are this big. This will not happen to you in this activity and may never happen to you while you are a data analyst. Please just be aware of this. \n",
    "\n",
    "- This activity is primarily about querying a RDB, so, we are using a simple way that Pandas provides. If you want to learn the more complex way, just google 'reading and wrting to a relational database using python'. There are many resources to learn from.\n",
    "\n",
    "- The data types that sqlite supports are quite limited. for example, it does not have a DATE type.  This is not a challenge for this project. However, more sophisticated database systems,such as Postgresql, have a large array of data types, such as \"DATE\", etc. that give those systems additional capability. \n",
    "\n",
    "- All of the SQL queries could also be performed on the Pandas DataFrames directly.  You may want to try this yourself for comparison (but make sure you do the SQL queries first, as this is an exercise in using SQL!).\n",
    "\n",
    "\n",
    "## SQL Magic\n",
    "Within the Jupyter notebook we will be using something called **SQL Magic**.  This provides a convenient way to write SQL queries directly into code cells in the notebook and to read the results back into a Pandas DataFrame.  This makes working with SQL much easier!\n",
    "\n",
    "Note that you may need to update your sqlite version using `conda update -c anaconda sqlite` in order for the SQL Magic to work correctly.\n",
    "\n",
    "## The Data Analysis Lifecycle\n",
    "The sections in this notebook follow the stages of the Data Analysis Lifecycle introduced in an earlier activity.  The stages are:\n",
    "\n",
    "- Acquire\n",
    "- Transform\n",
    "- Organise\n",
    "- Analyse\n",
    "- Communicate\n",
    "- Maintain\n"
   ]
  },
  {
   "cell_type": "markdown",
   "metadata": {},
   "source": [
    "The requirements document for this project is Template SQL queries.xlsx."
   ]
  },
  {
   "cell_type": "markdown",
   "metadata": {},
   "source": [
    "# Preliminary Steps: Create a Database\n",
    "First let's import Sqlite and the other libraries we will need."
   ]
  },
  {
   "cell_type": "code",
   "execution_count": null,
   "metadata": {},
   "outputs": [],
   "source": [
    "# Import Libraries\n",
    "import numpy as np\n",
    "import pandas as pd\n",
    "import sqlite3"
   ]
  },
  {
   "cell_type": "markdown",
   "metadata": {},
   "source": [
    "### Create the Database\n",
    "Now we will create the Sqlite database.  Here is some code that does this for you.  We use the `%load_ext` magic command to load the SQL Magic extension and then use `%sql` to connect to the database."
   ]
  },
  {
   "cell_type": "code",
   "execution_count": null,
   "metadata": {},
   "outputs": [],
   "source": [
    "# If the db does not exist, sqlite will create it.\n",
    "con = sqlite3.connect('chatdata.db')\n",
    "\n",
    "# loads sql magic\n",
    "%load_ext sql \n",
    "\n",
    "# connects sql magic command to the correct db\n",
    "%sql sqlite:///chatdata.db "
   ]
  },
  {
   "cell_type": "markdown",
   "metadata": {},
   "source": [
    "#### Drop the `queries` table if it already exists\n",
    "The queries table will be our record of the queries created to answer the questions from the requirements spreadsheet.  As we will be running this Jupyter notebook a few times, let's drop (i.e. remove) the queries table so that we start fresh each time.  Here is the code to do this.  We use the `%%sql` magic command to tell Jupyter that we are going to write SQL in the cell.\n"
   ]
  },
  {
   "cell_type": "code",
   "execution_count": null,
   "metadata": {},
   "outputs": [],
   "source": [
    "%%sql\n",
    "DROP TABLE IF EXISTS 'queries'"
   ]
  },
  {
   "cell_type": "markdown",
   "metadata": {},
   "source": [
    "# Task 1: Load the Data\n",
    "Now we can start loading the data.  The tables will be created as we load the data.  \n",
    "\n",
    "Note that some of these files are quite large, so make sure you have plenty of free memory!"
   ]
  },
  {
   "cell_type": "markdown",
   "metadata": {},
   "source": [
    "## Lifecycle Stages: Transform and Organise\n",
    "The data has already been processed into 3 clean data files ready for this project:\n",
    "\n",
    "- queries.csv\n",
    "- posts.csv\n",
    "- comments.csv\n",
    "\n",
    "We will load these files into our database."
   ]
  },
  {
   "cell_type": "markdown",
   "metadata": {},
   "source": [
    "## Lifecycle Stage: Acquire\n",
    "The data can be found in the OpenClassrooms instructions for this activity."
   ]
  },
  {
   "cell_type": "markdown",
   "metadata": {},
   "source": [
    "### Load Comments Data into a `comments` table\n",
    "Now we will load the data from the csv files into our sqlite database.\n",
    "\n",
    "First we load the csv file into a Pandas dataframe:"
   ]
  },
  {
   "cell_type": "code",
   "execution_count": null,
   "metadata": {},
   "outputs": [],
   "source": [
    "comments = pd.read_csv('comments.csv')\n",
    "comments.head()"
   ]
  },
  {
   "cell_type": "markdown",
   "metadata": {},
   "source": [
    "Now take the comments dataframe and push the data into the Sqlite database table called 'comments':"
   ]
  },
  {
   "cell_type": "code",
   "execution_count": null,
   "metadata": {},
   "outputs": [],
   "source": [
    "# load comments into sqlite\n",
    "comments.to_sql('comments', con, if_exists='replace', index=False)\n",
    "\n",
    "# read back in to prove that it worked\n",
    "sql = 'SELECT * FROM comments'\n",
    "comments = pd.read_sql(sql, con)\n",
    "comments.head()"
   ]
  },
  {
   "cell_type": "markdown",
   "metadata": {},
   "source": [
    "### Load Other CSVs\n",
    "Now that you have seen the code for loading in the comments.csv now do the same to read and write the posts.csv and users.csv to sqlite. \n",
    "\n",
    "<div style=\"background-color:lemonchiffon; border:1px solid; padding:5px; margin:5px; font-weight:bold\"><font color=\"crimson\">\n",
    "TODO: Enter code in the following cells. Insert as many cells as you want to do this.\n",
    "    </font></div>"
   ]
  },
  {
   "cell_type": "code",
   "execution_count": null,
   "metadata": {},
   "outputs": [],
   "source": [
    "# TODO"
   ]
  },
  {
   "cell_type": "code",
   "execution_count": null,
   "metadata": {},
   "outputs": [],
   "source": [
    "# TODO"
   ]
  },
  {
   "cell_type": "code",
   "execution_count": null,
   "metadata": {},
   "outputs": [],
   "source": [
    "# TODO"
   ]
  },
  {
   "cell_type": "code",
   "execution_count": null,
   "metadata": {},
   "outputs": [],
   "source": [
    "# TODO"
   ]
  },
  {
   "cell_type": "markdown",
   "metadata": {},
   "source": [
    "### **TODO**: Drop Duplicates\n",
    "Look for and drop any duplicates in all 3 of the tables (if they exist). Use Pandas to do this. If you find duplicates, you will need to rewrite the table.\n",
    "\n",
    "<div style=\"background-color:lemonchiffon; border:1px solid; padding:5px; margin:5px; font-weight:bold\"><font color=\"crimson\">\n",
    "TODO: Enter code in the following cells. \n",
    "    </font></div>"
   ]
  },
  {
   "cell_type": "code",
   "execution_count": null,
   "metadata": {},
   "outputs": [],
   "source": [
    "# TODO"
   ]
  },
  {
   "cell_type": "code",
   "execution_count": null,
   "metadata": {},
   "outputs": [],
   "source": [
    "# TODO"
   ]
  },
  {
   "cell_type": "code",
   "execution_count": null,
   "metadata": {},
   "outputs": [],
   "source": [
    "# TODO"
   ]
  },
  {
   "cell_type": "markdown",
   "metadata": {},
   "source": [
    "## Review the Data\n",
    "\n",
    "Spend some time reviewing the data.  Understand what data we have, think about how that data can be used to assist in the initiative of understanding how ChatData is used in the real world.  Is the data organised in a way that would lend itself to being manged in a relational database?  How would the different tables be connected?  What are the primary and foreign keys?  Would this give you a 3NF model?\n",
    "\n",
    "Also think about security and ethics.  Is there personal data in here?  Could individuals be identified through this data?  It it ethical to use the data in this way?  You will be asked to comment on these questions later!\n",
    "\n",
    "Use the code below to help you."
   ]
  },
  {
   "cell_type": "code",
   "execution_count": null,
   "metadata": {},
   "outputs": [],
   "source": [
    "users.columns"
   ]
  },
  {
   "cell_type": "code",
   "execution_count": null,
   "metadata": {},
   "outputs": [],
   "source": [
    "users.head()"
   ]
  },
  {
   "cell_type": "code",
   "execution_count": null,
   "metadata": {},
   "outputs": [],
   "source": [
    "comments.columns"
   ]
  },
  {
   "cell_type": "code",
   "execution_count": null,
   "metadata": {},
   "outputs": [],
   "source": [
    "comments.head()"
   ]
  },
  {
   "cell_type": "code",
   "execution_count": null,
   "metadata": {},
   "outputs": [],
   "source": [
    "posts.columns"
   ]
  },
  {
   "cell_type": "code",
   "execution_count": null,
   "metadata": {},
   "outputs": [],
   "source": [
    "posts.head()"
   ]
  },
  {
   "cell_type": "markdown",
   "metadata": {},
   "source": [
    "# Working with Sqlite and SQL Magic\n",
    "In this section let's spend a little time understanding a bit more about how we can work with Sqlite within Jupyter.\n",
    "\n",
    "Let's look at 2 ways to query the sqlite database: using SQL Magic or using Pandas.  Either way is fine for this project."
   ]
  },
  {
   "cell_type": "markdown",
   "metadata": {},
   "source": [
    "## Writing queries with SQL Magic\n",
    "\n",
    "You will now need to write some queries to get answers to the questions in the requirements.  \n",
    "\n",
    "For single-line queries, start the cell with `%sql` and simply enter your query:"
   ]
  },
  {
   "cell_type": "code",
   "execution_count": null,
   "metadata": {},
   "outputs": [],
   "source": [
    "# This is an example\n",
    "%sql SELECT COUNT(*) FROM comments"
   ]
  },
  {
   "cell_type": "markdown",
   "metadata": {},
   "source": [
    "For multi line sql statements use `%%sql` as follows. This tells Jupyter that *everything* in this cell should be interpreted as sql. So, NO comments other statements are allowed:"
   ]
  },
  {
   "cell_type": "code",
   "execution_count": null,
   "metadata": {},
   "outputs": [],
   "source": [
    "%%sql\n",
    "SELECT Id, PostId, Score, Text\n",
    "    FROM comments\n",
    "        LIMIT 5"
   ]
  },
  {
   "cell_type": "markdown",
   "metadata": {},
   "source": [
    "## Writing queries with Pandas\n",
    "Another way to write queries is to use pandas:"
   ]
  },
  {
   "cell_type": "code",
   "execution_count": null,
   "metadata": {
    "scrolled": true
   },
   "outputs": [],
   "source": [
    "sql = \"\"\"\n",
    "SELECT Id, PostId, Score, Text\n",
    "    FROM comments\n",
    "        LIMIT 5\n",
    "        \"\"\"\n",
    "result = pd.read_sql(sql, con)\n",
    "result"
   ]
  },
  {
   "cell_type": "markdown",
   "metadata": {},
   "source": [
    "# Creating Tables with Referential Integrity"
   ]
  },
  {
   "cell_type": "markdown",
   "metadata": {},
   "source": [
    "When we loaded the csv files into Sqlite database tables, Sqlite created the tables for us behind the scenes. Let's inspect this a bit more.\n",
    "\n",
    "We can see how Sqlite created the tables by querying the `sqlite_master` table, which Sqlite uses to keep track of what objects have been created in the database:"
   ]
  },
  {
   "cell_type": "code",
   "execution_count": null,
   "metadata": {},
   "outputs": [],
   "source": [
    "%%sql\n",
    "select sql from sqlite_master"
   ]
  },
  {
   "cell_type": "markdown",
   "metadata": {},
   "source": [
    "The above results show the `CREATE TABLE` statements that could be used by Sqlite to recreate the tables with the exact same structure.\n",
    "\n",
    "The problem with the CREATE TABLE statements above is that they don't enforce **referential integrity**.  In other words, they don't ensure that every UserId and PostId in the comments table refers to an actual UserId and PostId in the users and posts tables.  At the moment. we can insert any old number here, and even have multiple users with the same Id!  One of the advantages of working with relational databases is that they can enforce the correct uniqueness and relationships in the data, but at the moment we are not using that feature.  So let's fix that...\n",
    "\n",
    "First, let's drop the original tables:\n"
   ]
  },
  {
   "cell_type": "code",
   "execution_count": null,
   "metadata": {},
   "outputs": [],
   "source": [
    "%%sql\n",
    "DROP TABLE comments;\n",
    "DROP TABLE users;\n",
    "DROP TABLE posts;"
   ]
  },
  {
   "cell_type": "markdown",
   "metadata": {},
   "source": [
    "Prove that this worked by selecting the names of the tables back.  We should have no tables:"
   ]
  },
  {
   "cell_type": "code",
   "execution_count": null,
   "metadata": {},
   "outputs": [],
   "source": [
    "%%sql\n",
    "SELECT name FROM sqlite_master WHERE type='table'\n",
    "    ORDER BY name"
   ]
  },
  {
   "cell_type": "markdown",
   "metadata": {},
   "source": [
    "In Sqlite we need to enable the enforcement of foreign key constraints:"
   ]
  },
  {
   "cell_type": "code",
   "execution_count": null,
   "metadata": {},
   "outputs": [],
   "source": [
    "%%sql\n",
    "PRAGMA foreign_keys=ON;"
   ]
  },
  {
   "cell_type": "markdown",
   "metadata": {},
   "source": [
    "Now recreate the users table with a **primary key constraint** by copying the CREATE TABLE statement from above and adding the NOT NULL PRIMARY KEY clause to the Id:"
   ]
  },
  {
   "cell_type": "code",
   "execution_count": null,
   "metadata": {},
   "outputs": [],
   "source": [
    "%%sql\n",
    "CREATE TABLE \"users\" (\n",
    "\"Id\" INTEGER NOT NULL PRIMARY KEY,\n",
    "\"Reputation\" INTEGER,\n",
    "\"CreationDate\" TEXT,\n",
    "\"DisplayName\" TEXT,\n",
    "\"LastAccessDate\" TEXT,\n",
    "\"WebsiteUrl\" TEXT,\n",
    "\"Location\" TEXT,\n",
    "\"AboutMe\" TEXT,\n",
    "\"Views\" INTEGER,\n",
    "\"UpVotes\" INTEGER,\n",
    "\"DownVotes\" INTEGER,\n",
    "\"ProfileImageUrl\" TEXT,\n",
    "\"AccountId\" INTEGER\n",
    ");\n"
   ]
  },
  {
   "cell_type": "markdown",
   "metadata": {},
   "source": [
    "Now do the same for the posts table:\n",
    "\n",
    "<div style=\"background-color:lemonchiffon; border:1px solid; padding:5px; margin:5px; font-weight:bold\"><font color=\"crimson\">\n",
    "TODO: Complete the following code cell\n",
    "    </font></div>"
   ]
  },
  {
   "cell_type": "code",
   "execution_count": null,
   "metadata": {},
   "outputs": [],
   "source": [
    "# Run the CREATE TABLE statement for the posts table, including the primary key constraint\n",
    "# TODO"
   ]
  },
  {
   "cell_type": "markdown",
   "metadata": {},
   "source": [
    "Now for the comments table.  We need to add the primary key constraint on the id here as we did for users and posts, but we also need to add FOREIGN KEY constraints on the UserId and PostId. Read the documentation here and find our how to do that: https://www.sqlite.org/foreignkeys.html.  Then create the comments table with the correct constraints:\n",
    "\n",
    "<div style=\"background-color:lemonchiffon; border:1px solid; padding:5px; margin:5px; font-weight:bold\"><font color=\"crimson\">\n",
    "TODO: Complete the following code cell\n",
    "    </font></div>"
   ]
  },
  {
   "cell_type": "code",
   "execution_count": null,
   "metadata": {},
   "outputs": [],
   "source": [
    "# Run the CREATE TABLE statement for the comments table, including the primary key constraint and the 2 foreign key constraints\n",
    "# TODO"
   ]
  },
  {
   "cell_type": "markdown",
   "metadata": {},
   "source": [
    "Now we can re-insert the data into these constrained tables.  First users:"
   ]
  },
  {
   "cell_type": "code",
   "execution_count": null,
   "metadata": {},
   "outputs": [],
   "source": [
    "# Insert data into the new users table\n",
    "users.to_sql('users', con, if_exists='append', index=False)"
   ]
  },
  {
   "cell_type": "markdown",
   "metadata": {},
   "source": [
    "Now posts:\n",
    "\n",
    "<div style=\"background-color:lemonchiffon; border:1px solid; padding:5px; margin:5px; font-weight:bold\"><font color=\"crimson\">\n",
    "TODO: Complete the following code cell\n",
    "    </font></div>"
   ]
  },
  {
   "cell_type": "code",
   "execution_count": null,
   "metadata": {},
   "outputs": [],
   "source": [
    "# Insert data into the new posts table\n",
    "# TODO"
   ]
  },
  {
   "cell_type": "markdown",
   "metadata": {},
   "source": [
    "Finally comments, which references the users and posts tables:\n",
    "\n",
    "<div style=\"background-color:lemonchiffon; border:1px solid; padding:5px; margin:5px; font-weight:bold\"><font color=\"crimson\">\n",
    "TODO: Complete the following code cell\n",
    "    </font></div>"
   ]
  },
  {
   "cell_type": "code",
   "execution_count": null,
   "metadata": {},
   "outputs": [],
   "source": [
    "# Insert data into the new comments table\n",
    "# TODO"
   ]
  },
  {
   "cell_type": "markdown",
   "metadata": {},
   "source": [
    "Now check that we have the 3 new table definitions in Sqlite:"
   ]
  },
  {
   "cell_type": "code",
   "execution_count": null,
   "metadata": {},
   "outputs": [],
   "source": [
    "%%sql\n",
    "SELECT name FROM sqlite_master WHERE type='table'\n",
    "    ORDER BY name"
   ]
  },
  {
   "cell_type": "markdown",
   "metadata": {},
   "source": [
    "We now have all the data in tables in Sqlite and the tables will enforce the referential integrity."
   ]
  },
  {
   "cell_type": "markdown",
   "metadata": {},
   "source": [
    "# Example Query and Pattern for Tasks 2 and 3\n",
    "\n",
    "As you work through the next tasks, you will need to:\n",
    "\n",
    "1. Prepare the Sqlite query to answer the question\n",
    "2. Test it\n",
    "3. Insert it into the `queries` table, so we have a record of it for others.\n",
    "\n",
    "This is the process that we want you to follow for this project while completing it. "
   ]
  },
  {
   "cell_type": "markdown",
   "metadata": {},
   "source": [
    "Let's see an example of this by answering the following question:\n",
    "\n",
    "**Which 5 users have viewed the most times and what is the sum of those views per user?**\n",
    "\n",
    "## Prepare the Sqlite query\n",
    "\n",
    "First, let's write the query:"
   ]
  },
  {
   "cell_type": "code",
   "execution_count": null,
   "metadata": {},
   "outputs": [],
   "source": [
    "sql = \"\"\"\n",
    "SELECT Id, SUM(Views) AS TotalViews\n",
    "    FROM Users\n",
    "        GROUP BY Id\n",
    "            ORDER BY TotalViews DESC\n",
    "                LIMIT 5\n",
    "                \"\"\"\n",
    "result = pd.read_sql(sql, con) # con is the connection to the database\n",
    "result"
   ]
  },
  {
   "cell_type": "markdown",
   "metadata": {},
   "source": [
    "## Test the query\n",
    "You can optionally prove the query worked by performing the same query in Pandas:"
   ]
  },
  {
   "cell_type": "code",
   "execution_count": null,
   "metadata": {},
   "outputs": [],
   "source": [
    "results = users.groupby(['Id']).sum().sort_values('Views', ascending = False)[:5]\n",
    "results['Views']"
   ]
  },
  {
   "cell_type": "markdown",
   "metadata": {},
   "source": [
    "## Insert the query into the `queries` table\n",
    "Now we need to put this query into the `queries` table in sqlite. Remember we want these queries to be accessible to everybody that should have access to them. We do not want people writing and rewriting the same queires over and over again. The easiest thing to do is create a dictionary with the values and insert these into the queries table.  Note that the values are provided as lists as we are inserting a list of values (i.e. a number of rows) into the table.  In this case the number of rows is 1, so we have lists of 1 item.\n",
    "\n",
    "So here, we have a column called 'task' with a list of values, a column called 'action' with a list of values, etc."
   ]
  },
  {
   "cell_type": "code",
   "execution_count": null,
   "metadata": {},
   "outputs": [],
   "source": [
    "query_dict = {\n",
    "              'task': ['Single Table Queries'],\n",
    "              'action': ['Which 5 users have viewed the most times and what is the sum of those views per user?'],\n",
    "              'query': [sql]\n",
    "             }\n",
    "query_dict"
   ]
  },
  {
   "cell_type": "markdown",
   "metadata": {},
   "source": [
    "Now that you have the data structure (query_dict) containing the data, create a pandas dataframe that holds those values:"
   ]
  },
  {
   "cell_type": "code",
   "execution_count": null,
   "metadata": {},
   "outputs": [],
   "source": [
    "queries = pd.DataFrame(query_dict)\n",
    "queries"
   ]
  },
  {
   "cell_type": "markdown",
   "metadata": {},
   "source": [
    "Now load that pandas dataframe (queries) into the sqlite table called queries. In this case, you use append NOT replace. You will be adding to this tables as you go thru this project."
   ]
  },
  {
   "cell_type": "code",
   "execution_count": null,
   "metadata": {},
   "outputs": [],
   "source": [
    "# load query into sqlite\n",
    "queries.to_sql('queries', con, if_exists='append', index=False)\n",
    "\n",
    "# read back in to prove that it worked\n",
    "sql = 'SELECT * FROM queries'\n",
    "queries = pd.read_sql(sql, con)\n",
    "queries.head()"
   ]
  },
  {
   "cell_type": "markdown",
   "metadata": {},
   "source": [
    "It is likely that as you iterate thru this notebook you will create some duplicate entries in the query table. Not a big deal. Just tell sql or pandas (much easier in pandas) to drop the duplicates! If you drop the duplicates in Pandas you will have to write the entire dataframe back to sqlite. Otherwise it is changed in memory in Pandas but NOT in sqlite on the disk drive (or SDD). Just do this drop at the end of this notebook so that you are not constantly dealing with this. "
   ]
  },
  {
   "cell_type": "markdown",
   "metadata": {},
   "source": [
    "So, to summarise, as you go through the following tasks you need to:\n",
    "\n",
    "- answer the question in sql\n",
    "- prove it in pandas (if you want to)\n",
    "- put the query into the queries table"
   ]
  },
  {
   "cell_type": "markdown",
   "metadata": {},
   "source": [
    "# Task 1 (continued): Insert the CREATE TABLE Statements into the `queries` Table\n",
    "\n",
    "Now that we understand how to populate the `queries` table, let's insert the CREATE TABLE statements into it.  First let's define a function to help us insert into the queries table:\n"
   ]
  },
  {
   "cell_type": "code",
   "execution_count": null,
   "metadata": {},
   "outputs": [],
   "source": [
    "# Define a function that will insert into the queries table\n",
    "def store_query(task, action, query):\n",
    "    query_dict = {\n",
    "                  'task': [task],\n",
    "                  'action': [action],\n",
    "                  'query': [query]\n",
    "                 }\n",
    "\n",
    "    # put query into the query_dict\n",
    "    queries = pd.DataFrame(query_dict)\n",
    "\n",
    "    # load query into sqlite\n",
    "    queries.to_sql('queries', con, if_exists='append', index=False)    "
   ]
  },
  {
   "cell_type": "markdown",
   "metadata": {},
   "source": [
    "Now we can specify the queries and call the above function to store them.  The first one is done for you."
   ]
  },
  {
   "cell_type": "code",
   "execution_count": null,
   "metadata": {},
   "outputs": [],
   "source": [
    "sql = \"\"\"\n",
    "    CREATE TABLE \"comments\" (\n",
    "    \"Id\" INTEGER,\n",
    "    \"PostId\" INTEGER,\n",
    "    \"Score\" INTEGER,\n",
    "    \"Text\" TEXT,\n",
    "    \"CreationDate\" TEXT,\n",
    "    \"UserId\" INTEGER\n",
    "    )\n",
    "    \"\"\"\n",
    "store_query(\"Task 1\", \"Create table comments\", sql)"
   ]
  },
  {
   "cell_type": "markdown",
   "metadata": {},
   "source": [
    "Let's prove it works by selecting back from the queries table:"
   ]
  },
  {
   "cell_type": "code",
   "execution_count": null,
   "metadata": {},
   "outputs": [],
   "source": [
    "# Prove it works\n",
    "%sql SELECT * FROM queries"
   ]
  },
  {
   "cell_type": "markdown",
   "metadata": {},
   "source": [
    "## Insert the other CREATE TABLE statements into the `queries` table.\n",
    "Follow the above pattern to complete these code cells:\n",
    "\n",
    "<div style=\"background-color:lemonchiffon; border:1px solid; padding:5px; margin:5px; font-weight:bold\"><font color=\"crimson\">\n",
    "TODO: Complete the following code cells\n",
    "    </font></div>"
   ]
  },
  {
   "cell_type": "code",
   "execution_count": null,
   "metadata": {},
   "outputs": [],
   "source": [
    "# Insert the CREATE TABLE for posts into the queries table\n",
    "# TODO"
   ]
  },
  {
   "cell_type": "code",
   "execution_count": null,
   "metadata": {},
   "outputs": [],
   "source": [
    "# Insert the CREATE TABLE for users into the queries table\n",
    "# TODO"
   ]
  },
  {
   "cell_type": "markdown",
   "metadata": {},
   "source": [
    "## Count the Number of Rows in Each Table\n",
    "Run some queries to count the number of rows in each of the tables.  Don't forget to insert the query into the queries table.\n",
    "\n",
    "<div style=\"background-color:lemonchiffon; border:1px solid; padding:5px; margin:5px; font-weight:bold\"><font color=\"crimson\">\n",
    "TODO: Complete the following code cells\n",
    "    </font></div>"
   ]
  },
  {
   "cell_type": "code",
   "execution_count": null,
   "metadata": {},
   "outputs": [],
   "source": [
    "# Count the number of rows in the comments table\n",
    "# TODO"
   ]
  },
  {
   "cell_type": "code",
   "execution_count": null,
   "metadata": {},
   "outputs": [],
   "source": [
    "# Count the number of rows in the users table\n",
    "# TODO"
   ]
  },
  {
   "cell_type": "code",
   "execution_count": null,
   "metadata": {},
   "outputs": [],
   "source": [
    "# Count the number of rows in the posts table\n",
    "# TODO"
   ]
  },
  {
   "cell_type": "markdown",
   "metadata": {},
   "source": [
    "## Do some Random Checks on the Data\n",
    "Let's write some queries that select 5 random rows from each table.  The queries are provided here:\n",
    "\n",
    "    select * from Comments order by random() limit 5;\n",
    "    select * from Users order by random() limit 5;\n",
    "    select * from Posts order by random() limit 5;\n",
    "\n",
    "Enter the queries into the code cells below and insert the queries into the `queries` table in the same was as you did for the CREATE TABLE statements.\n",
    "\n",
    "<div style=\"background-color:lemonchiffon; border:1px solid; padding:5px; margin:5px; font-weight:bold\"><font color=\"crimson\">\n",
    "TODO: Complete the following code cells\n",
    "    </font></div>"
   ]
  },
  {
   "cell_type": "code",
   "execution_count": null,
   "metadata": {},
   "outputs": [],
   "source": [
    "# Run the query to select 5 random rows from the posts table\n",
    "# TODO"
   ]
  },
  {
   "cell_type": "code",
   "execution_count": null,
   "metadata": {},
   "outputs": [],
   "source": [
    "# Run the query to select 5 random rows from the posts comments\n",
    "# TODO"
   ]
  },
  {
   "cell_type": "code",
   "execution_count": null,
   "metadata": {},
   "outputs": [],
   "source": [
    "# Run the query to select 5 random rows from the users table\n",
    "# TODO"
   ]
  },
  {
   "cell_type": "markdown",
   "metadata": {},
   "source": [
    "# Task 2: Create Single Table Queries\n"
   ]
  },
  {
   "cell_type": "markdown",
   "metadata": {},
   "source": [
    "## Lifecycle Stage: Analyze\n",
    "We can now start the analysis with our single-table queries.  First we need to create a new computed column to help with one of the queries.  The code below creates a column called LEN_BODY which is the length of the BODY text:\n"
   ]
  },
  {
   "cell_type": "code",
   "execution_count": null,
   "metadata": {},
   "outputs": [],
   "source": [
    "%%sql\n",
    "ALTER TABLE POSTS ADD COLUMN LEN_BODY INT"
   ]
  },
  {
   "cell_type": "code",
   "execution_count": null,
   "metadata": {},
   "outputs": [],
   "source": [
    "%%sql\n",
    "UPDATE POSTS SET LEN_BODY = LENGTH(BODY)"
   ]
  },
  {
   "cell_type": "markdown",
   "metadata": {},
   "source": [
    "### Single Table Queries\n",
    "From the Template SQL Queries there are a series of queries requested. You are responsible for coding the result. Use the pattern above to accomplish the coding objective.  Copy and paste the question (column B Action) into a markdown cell and answer the query. Use the pattern that you have been using above. \n",
    "\n",
    "<div style=\"background-color:lemonchiffon; border:1px solid; padding:5px; margin:5px; font-weight:bold\"><font color=\"crimson\">\n",
    "TODO: Enter your code below.  Just keep on inserting cells as you need them.\n",
    "    </font></div>"
   ]
  },
  {
   "cell_type": "code",
   "execution_count": null,
   "metadata": {},
   "outputs": [],
   "source": [
    "# TODO"
   ]
  },
  {
   "cell_type": "code",
   "execution_count": null,
   "metadata": {},
   "outputs": [],
   "source": [
    "# TODO"
   ]
  },
  {
   "cell_type": "code",
   "execution_count": null,
   "metadata": {},
   "outputs": [],
   "source": [
    "# TODO"
   ]
  },
  {
   "cell_type": "code",
   "execution_count": null,
   "metadata": {},
   "outputs": [],
   "source": [
    "# TODO"
   ]
  },
  {
   "cell_type": "markdown",
   "metadata": {},
   "source": [
    "# Task 3: Cross Table Queries"
   ]
  },
  {
   "cell_type": "markdown",
   "metadata": {},
   "source": [
    "## Lifecycle Stage: Analyze\n",
    "Let's continue the analysis with our multi-table queries.  "
   ]
  },
  {
   "cell_type": "markdown",
   "metadata": {},
   "source": [
    "### Cross Table Queries\n",
    "\n",
    "From the Template SQL Queries there are a series of queries requested. You are responsible for coding the result. Use the pattern above to accomplish the coding objective.  Copy and paste the question (column B Action) into a markdown cell and answer the query. Use the pattern that you have been using above. \n",
    "\n",
    "<div style=\"background-color:lemonchiffon; border:1px solid; padding:5px; margin:5px; font-weight:bold\"><font color=\"crimson\">\n",
    "TODO: Enter your code below.  Just keep on inserting cells as you need them.\n",
    "    </font></div>\n",
    "\n"
   ]
  },
  {
   "cell_type": "code",
   "execution_count": null,
   "metadata": {},
   "outputs": [],
   "source": [
    "# TODO"
   ]
  },
  {
   "cell_type": "code",
   "execution_count": null,
   "metadata": {},
   "outputs": [],
   "source": [
    "# TODO"
   ]
  },
  {
   "cell_type": "code",
   "execution_count": null,
   "metadata": {},
   "outputs": [],
   "source": [
    "# TODO"
   ]
  },
  {
   "cell_type": "code",
   "execution_count": null,
   "metadata": {},
   "outputs": [],
   "source": [
    "# TODO"
   ]
  },
  {
   "cell_type": "markdown",
   "metadata": {},
   "source": [
    "# Task 4: Check the Queries Table\n",
    "\n",
    "Now let's tidy up and check the queries table.\n",
    "\n",
    "First let's check it's contents:"
   ]
  },
  {
   "cell_type": "code",
   "execution_count": null,
   "metadata": {},
   "outputs": [],
   "source": [
    "%sql SELECT * FROM queries"
   ]
  },
  {
   "cell_type": "markdown",
   "metadata": {},
   "source": [
    "## Drop Duplicates\n",
    "\n",
    "You likely have some duplicates. Lets drop them. "
   ]
  },
  {
   "cell_type": "code",
   "execution_count": null,
   "metadata": {},
   "outputs": [],
   "source": [
    "# Read the queries table into pandas\n",
    "sql = 'SELECT * FROM queries'\n",
    "queries = pd.read_sql(sql, con)\n",
    "\n",
    "# Drop duplicates\n",
    "queries.drop_duplicates(inplace = True) # drop duplicates"
   ]
  },
  {
   "cell_type": "markdown",
   "metadata": {},
   "source": [
    "## Case Issues"
   ]
  },
  {
   "cell_type": "markdown",
   "metadata": {},
   "source": [
    "Remember, SQL is case insensitive. Pandas IS case sensitive. Lets deal with this now by making all of the text uppercase. "
   ]
  },
  {
   "cell_type": "code",
   "execution_count": null,
   "metadata": {},
   "outputs": [],
   "source": [
    "for col in queries.columns:\n",
    "    queries[col] = queries[col].str.upper()\n",
    "    \n",
    "queries"
   ]
  },
  {
   "cell_type": "code",
   "execution_count": null,
   "metadata": {},
   "outputs": [],
   "source": [
    "# Write the now deduped uppercase dataframe back to sqlite and replace the table\n",
    "queries.to_sql('queries', con, if_exists='replace', index=False)"
   ]
  },
  {
   "cell_type": "markdown",
   "metadata": {},
   "source": [
    "## Use Case\n",
    "\n",
    "Now that we have this queries table, lets give you some ideas about how you would use it.\n",
    "\n",
    "Suppose you wanted to find all of the queries where you did a GROUP BY:"
   ]
  },
  {
   "cell_type": "code",
   "execution_count": null,
   "metadata": {},
   "outputs": [],
   "source": [
    "%%sql\n",
    "SELECT query\n",
    "    FROM queries\n",
    "        WHERE query LIKE '%GROUP BY%'"
   ]
  },
  {
   "cell_type": "markdown",
   "metadata": {},
   "source": [
    "## Now Your Turn\n",
    "Find the queries that have 'DISTINCT' in them. You can do it with the %sql command or with Pandas and sql.\n",
    "\n",
    "<div style=\"background-color:lemonchiffon; border:1px solid; padding:5px; margin:5px; font-weight:bold\"><font color=\"crimson\">\n",
    "TODO: Complete the following code cell\n",
    "    </font></div>"
   ]
  },
  {
   "cell_type": "code",
   "execution_count": null,
   "metadata": {},
   "outputs": [],
   "source": [
    "# TODO"
   ]
  },
  {
   "cell_type": "markdown",
   "metadata": {},
   "source": [
    "# Close SQLite\n",
    "\n",
    "It is good practise to close all relational databases as soon as you are finished updating them."
   ]
  },
  {
   "cell_type": "code",
   "execution_count": null,
   "metadata": {},
   "outputs": [],
   "source": [
    "con.close()"
   ]
  },
  {
   "cell_type": "markdown",
   "metadata": {},
   "source": [
    "# All Done!\n",
    "\n",
    "Great job. You now have a good idea for how to use sql and pandas with sql. You can create your own databases from csv files and you can do extensive querying using sql. These are valuable skills that will take you a long ways in todays technological world."
   ]
  }
 ],
 "metadata": {
  "kernelspec": {
   "display_name": "Python 3",
   "language": "python",
   "name": "python3"
  },
  "language_info": {
   "codemirror_mode": {
    "name": "ipython",
    "version": 3
   },
   "file_extension": ".py",
   "mimetype": "text/x-python",
   "name": "python",
   "nbconvert_exporter": "python",
   "pygments_lexer": "ipython3",
   "version": "3.8.8"
  },
  "toc": {
   "base_numbering": 1,
   "nav_menu": {},
   "number_sections": true,
   "sideBar": true,
   "skip_h1_title": false,
   "title_cell": "Table of Contents",
   "title_sidebar": "Contents",
   "toc_cell": false,
   "toc_position": {
    "height": "calc(100% - 180px)",
    "left": "10px",
    "top": "150px",
    "width": "293.993px"
   },
   "toc_section_display": true,
   "toc_window_display": true
  }
 },
 "nbformat": 4,
 "nbformat_minor": 4
}
