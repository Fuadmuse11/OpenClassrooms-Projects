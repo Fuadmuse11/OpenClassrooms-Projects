{
 "cells": [
  {
   "cell_type": "markdown",
   "metadata": {},
   "source": [
    "# ChatData\n",
    "\n",
    "## Sqlite\n",
    "We are using a file system called **sqlite**. It looks and acts like a real single user relational database (RDB). sqlite3 comes packaged with python. You do not need to install the library. You simply import it (as below).\n",
    "\n",
    "- We are using Pandas to write and read to sqlite. Pandas will manage a lot of the complexity of dealing with a RDB. There are other ways of reading and writing to a RDB that are VERY common and often used in production systems.  \n",
    "\n",
    "- The most common other way is to read or write to the RDB row by row. As you can see Pandas puts the entire dataframe into the RDB or extracts a new dataframe from the RDB. These are not row by row operations. These are set operations. Set operations ARE more efficient. However, it is common to use row by row operations to avoid needing large memory computers to hold the dataframes. One row only takes a few bytes. An entire dataframe could be many gigabytes and even petabytes of data. Obviously you will end up with problems with your compute resource if your files are this big. This will not happen to you in this activity and may never happen to you while you are a data analyst. Please just be aware of this. \n",
    "\n",
    "- This activity is primarily about querying a RDB, so, we are using a simple way that Pandas provides. If you want to learn the more complex way, just google 'reading and wrting to a relational database using python'. There are many resources to learn from.\n",
    "\n",
    "- The data types that sqlite supports are quite limited. for example, it does not have a DATE type.  This is not a challenge for this project. However, more sophisticated database systems,such as Postgresql, have a large array of data types, such as \"DATE\", etc. that give those systems additional capability. \n",
    "\n",
    "- All of the SQL queries could also be performed on the Pandas DataFrames directly.  You may want to try this yourself for comparison (but make sure you do the SQL queries first, as this is an exercise in using SQL!).\n",
    "\n",
    "\n",
    "## SQL Magic\n",
    "Within the Jupyter notebook we will be using something called **SQL Magic**.  This provides a convenient way to write SQL queries directly into code cells in the notebook and to read the results back into a Pandas DataFrame.  This makes working with SQL much easier!\n",
    "\n",
    "Note that you may need to update your sqlite version using `conda update -c anaconda sqlite` in order for the SQL Magic to work correctly.\n",
    "\n",
    "## The Data Analysis Lifecycle\n",
    "The sections in this notebook follow the stages of the Data Analysis Lifecycle introduced in an earlier activity.  The stages are:\n",
    "\n",
    "- Acquire\n",
    "- Transform\n",
    "- Organise\n",
    "- Analyse\n",
    "- Communicate\n",
    "- Maintain\n"
   ]
  },
  {
   "cell_type": "markdown",
   "metadata": {},
   "source": [
    "The requirements document for this project is Template SQL queries.xlsx."
   ]
  },
  {
   "cell_type": "markdown",
   "metadata": {},
   "source": [
    "# Preliminary Steps: Create a Database\n",
    "First let's import Sqlite and the other libraries we will need."
   ]
  },
  {
   "cell_type": "code",
   "execution_count": 1,
   "metadata": {},
   "outputs": [],
   "source": [
    "# Import Libraries\n",
    "import numpy as np\n",
    "import pandas as pd\n",
    "import sqlite3 "
   ]
  },
  {
   "cell_type": "code",
   "execution_count": 2,
   "metadata": {},
   "outputs": [],
   "source": [
    "#!pip install ipython-sql"
   ]
  },
  {
   "cell_type": "markdown",
   "metadata": {},
   "source": [
    "### Create the Database\n",
    "Now we will create the Sqlite database.  Here is some code that does this for you.  We use the `%load_ext` magic command to load the SQL Magic extension and then use `%sql` to connect to the database."
   ]
  },
  {
   "cell_type": "code",
   "execution_count": 3,
   "metadata": {},
   "outputs": [],
   "source": [
    "# If the db does not exist, sqlite will create it.\n",
    "con = sqlite3.connect('chatdata.db')\n",
    "\n",
    "# loads sql magic\n",
    "%load_ext sql \n",
    "\n",
    "# connects sql magic command to the correct db\n",
    "%sql sqlite:///chatdata.db "
   ]
  },
  {
   "cell_type": "markdown",
   "metadata": {},
   "source": [
    "#### Drop the `queries` table if it already exists\n",
    "The queries table will be our record of the queries created to answer the questions from the requirements spreadsheet.  As we will be running this Jupyter notebook a few times, let's drop (i.e. remove) the queries table so that we start fresh each time.  Here is the code to do this.  We use the `%%sql` magic command to tell Jupyter that we are going to write SQL in the cell.\n"
   ]
  },
  {
   "cell_type": "code",
   "execution_count": 4,
   "metadata": {},
   "outputs": [
    {
     "name": "stdout",
     "output_type": "stream",
     "text": [
      " * sqlite:///chatdata.db\n",
      "Done.\n"
     ]
    },
    {
     "data": {
      "text/plain": [
       "[]"
      ]
     },
     "execution_count": 4,
     "metadata": {},
     "output_type": "execute_result"
    }
   ],
   "source": [
    "%%sql\n",
    "DROP TABLE IF EXISTS 'queries'"
   ]
  },
  {
   "cell_type": "markdown",
   "metadata": {},
   "source": [
    "# Task 1: Load the Data\n",
    "Now we can start loading the data.  The tables will be created as we load the data.  \n",
    "\n",
    "Note that some of these files are quite large, so make sure you have plenty of free memory!"
   ]
  },
  {
   "cell_type": "markdown",
   "metadata": {},
   "source": [
    "## Lifecycle Stages: Transform and Organise\n",
    "The data has already been processed into 3 clean data files ready for this project:\n",
    "\n",
    "- queries.csv\n",
    "- posts.csv\n",
    "- comments.csv\n",
    "\n",
    "We will load these files into our database."
   ]
  },
  {
   "cell_type": "markdown",
   "metadata": {},
   "source": [
    "## Lifecycle Stage: Acquire\n",
    "The data can be found in the OpenClassrooms instructions for this activity."
   ]
  },
  {
   "cell_type": "markdown",
   "metadata": {},
   "source": [
    "### Load Comments Data into a `comments` table\n",
    "Now we will load the data from the csv files into our sqlite database.\n",
    "\n",
    "First we load the csv file into a Pandas dataframe:"
   ]
  },
  {
   "cell_type": "code",
   "execution_count": 30,
   "metadata": {},
   "outputs": [
    {
     "data": {
      "text/html": [
       "<div>\n",
       "<style scoped>\n",
       "    .dataframe tbody tr th:only-of-type {\n",
       "        vertical-align: middle;\n",
       "    }\n",
       "\n",
       "    .dataframe tbody tr th {\n",
       "        vertical-align: top;\n",
       "    }\n",
       "\n",
       "    .dataframe thead th {\n",
       "        text-align: right;\n",
       "    }\n",
       "</style>\n",
       "<table border=\"1\" class=\"dataframe\">\n",
       "  <thead>\n",
       "    <tr style=\"text-align: right;\">\n",
       "      <th></th>\n",
       "      <th>Id</th>\n",
       "      <th>PostId</th>\n",
       "      <th>Score</th>\n",
       "      <th>Text</th>\n",
       "      <th>CreationDate</th>\n",
       "      <th>UserId</th>\n",
       "    </tr>\n",
       "  </thead>\n",
       "  <tbody>\n",
       "    <tr>\n",
       "      <th>0</th>\n",
       "      <td>723182</td>\n",
       "      <td>385124</td>\n",
       "      <td>0</td>\n",
       "      <td>@BenBolker I don't understand. The fit cannot ...</td>\n",
       "      <td>2019-01-01 00:06:39</td>\n",
       "      <td>78575</td>\n",
       "    </tr>\n",
       "    <tr>\n",
       "      <th>1</th>\n",
       "      <td>723183</td>\n",
       "      <td>385124</td>\n",
       "      <td>3</td>\n",
       "      <td>You can't add *less* than (`-min(y)`), but you...</td>\n",
       "      <td>2019-01-01 00:09:22</td>\n",
       "      <td>2126</td>\n",
       "    </tr>\n",
       "    <tr>\n",
       "      <th>2</th>\n",
       "      <td>723186</td>\n",
       "      <td>385137</td>\n",
       "      <td>0</td>\n",
       "      <td>nice. If you felt like doing the work it would...</td>\n",
       "      <td>2019-01-01 00:32:11</td>\n",
       "      <td>2126</td>\n",
       "    </tr>\n",
       "    <tr>\n",
       "      <th>3</th>\n",
       "      <td>723187</td>\n",
       "      <td>385137</td>\n",
       "      <td>0</td>\n",
       "      <td>i.e. `emdbook::curve3d(-sum(dnbinom(y,mu=mu,si...</td>\n",
       "      <td>2019-01-01 00:40:36</td>\n",
       "      <td>2126</td>\n",
       "    </tr>\n",
       "    <tr>\n",
       "      <th>4</th>\n",
       "      <td>723188</td>\n",
       "      <td>385134</td>\n",
       "      <td>0</td>\n",
       "      <td>Don't you mean \"so variance should be $\\sigma^...</td>\n",
       "      <td>2019-01-01 00:41:28</td>\n",
       "      <td>112141</td>\n",
       "    </tr>\n",
       "  </tbody>\n",
       "</table>\n",
       "</div>"
      ],
      "text/plain": [
       "       Id  PostId  Score                                               Text  \\\n",
       "0  723182  385124      0  @BenBolker I don't understand. The fit cannot ...   \n",
       "1  723183  385124      3  You can't add *less* than (`-min(y)`), but you...   \n",
       "2  723186  385137      0  nice. If you felt like doing the work it would...   \n",
       "3  723187  385137      0  i.e. `emdbook::curve3d(-sum(dnbinom(y,mu=mu,si...   \n",
       "4  723188  385134      0  Don't you mean \"so variance should be $\\sigma^...   \n",
       "\n",
       "          CreationDate  UserId  \n",
       "0  2019-01-01 00:06:39   78575  \n",
       "1  2019-01-01 00:09:22    2126  \n",
       "2  2019-01-01 00:32:11    2126  \n",
       "3  2019-01-01 00:40:36    2126  \n",
       "4  2019-01-01 00:41:28  112141  "
      ]
     },
     "execution_count": 30,
     "metadata": {},
     "output_type": "execute_result"
    }
   ],
   "source": [
    "comments = pd.read_csv('comments.csv')\n",
    "comments.head()\n"
   ]
  },
  {
   "cell_type": "markdown",
   "metadata": {},
   "source": [
    "Now take the comments dataframe and push the data into the Sqlite database table called 'comments':"
   ]
  },
  {
   "cell_type": "code",
   "execution_count": 31,
   "metadata": {},
   "outputs": [
    {
     "data": {
      "text/html": [
       "<div>\n",
       "<style scoped>\n",
       "    .dataframe tbody tr th:only-of-type {\n",
       "        vertical-align: middle;\n",
       "    }\n",
       "\n",
       "    .dataframe tbody tr th {\n",
       "        vertical-align: top;\n",
       "    }\n",
       "\n",
       "    .dataframe thead th {\n",
       "        text-align: right;\n",
       "    }\n",
       "</style>\n",
       "<table border=\"1\" class=\"dataframe\">\n",
       "  <thead>\n",
       "    <tr style=\"text-align: right;\">\n",
       "      <th></th>\n",
       "      <th>Id</th>\n",
       "      <th>PostId</th>\n",
       "      <th>Score</th>\n",
       "      <th>Text</th>\n",
       "      <th>CreationDate</th>\n",
       "      <th>UserId</th>\n",
       "    </tr>\n",
       "  </thead>\n",
       "  <tbody>\n",
       "    <tr>\n",
       "      <th>0</th>\n",
       "      <td>723182</td>\n",
       "      <td>385124</td>\n",
       "      <td>0</td>\n",
       "      <td>@BenBolker I don't understand. The fit cannot ...</td>\n",
       "      <td>2019-01-01 00:06:39</td>\n",
       "      <td>78575</td>\n",
       "    </tr>\n",
       "    <tr>\n",
       "      <th>1</th>\n",
       "      <td>723183</td>\n",
       "      <td>385124</td>\n",
       "      <td>3</td>\n",
       "      <td>You can't add *less* than (`-min(y)`), but you...</td>\n",
       "      <td>2019-01-01 00:09:22</td>\n",
       "      <td>2126</td>\n",
       "    </tr>\n",
       "    <tr>\n",
       "      <th>2</th>\n",
       "      <td>723186</td>\n",
       "      <td>385137</td>\n",
       "      <td>0</td>\n",
       "      <td>nice. If you felt like doing the work it would...</td>\n",
       "      <td>2019-01-01 00:32:11</td>\n",
       "      <td>2126</td>\n",
       "    </tr>\n",
       "    <tr>\n",
       "      <th>3</th>\n",
       "      <td>723187</td>\n",
       "      <td>385137</td>\n",
       "      <td>0</td>\n",
       "      <td>i.e. `emdbook::curve3d(-sum(dnbinom(y,mu=mu,si...</td>\n",
       "      <td>2019-01-01 00:40:36</td>\n",
       "      <td>2126</td>\n",
       "    </tr>\n",
       "    <tr>\n",
       "      <th>4</th>\n",
       "      <td>723188</td>\n",
       "      <td>385134</td>\n",
       "      <td>0</td>\n",
       "      <td>Don't you mean \"so variance should be $\\sigma^...</td>\n",
       "      <td>2019-01-01 00:41:28</td>\n",
       "      <td>112141</td>\n",
       "    </tr>\n",
       "  </tbody>\n",
       "</table>\n",
       "</div>"
      ],
      "text/plain": [
       "       Id  PostId  Score                                               Text  \\\n",
       "0  723182  385124      0  @BenBolker I don't understand. The fit cannot ...   \n",
       "1  723183  385124      3  You can't add *less* than (`-min(y)`), but you...   \n",
       "2  723186  385137      0  nice. If you felt like doing the work it would...   \n",
       "3  723187  385137      0  i.e. `emdbook::curve3d(-sum(dnbinom(y,mu=mu,si...   \n",
       "4  723188  385134      0  Don't you mean \"so variance should be $\\sigma^...   \n",
       "\n",
       "          CreationDate  UserId  \n",
       "0  2019-01-01 00:06:39   78575  \n",
       "1  2019-01-01 00:09:22    2126  \n",
       "2  2019-01-01 00:32:11    2126  \n",
       "3  2019-01-01 00:40:36    2126  \n",
       "4  2019-01-01 00:41:28  112141  "
      ]
     },
     "execution_count": 31,
     "metadata": {},
     "output_type": "execute_result"
    }
   ],
   "source": [
    "# load comments into sqlite\n",
    "comments.to_sql('comments', con, if_exists='replace', index=False)\n",
    "\n",
    "# read back in to prove that it worked\n",
    "sql = 'SELECT * FROM comments'\n",
    "comments = pd.read_sql(sql, con)\n",
    "comments.head()"
   ]
  },
  {
   "cell_type": "markdown",
   "metadata": {},
   "source": [
    "### Load Other CSVs\n",
    "Now that you have seen the code for loading in the comments.csv now do the same to read and write the posts.csv and users.csv to sqlite. \n",
    "\n",
    "<div style=\"background-color:lemonchiffon; border:1px solid; padding:5px; margin:5px; font-weight:bold\"><font color=\"crimson\">\n",
    "TODO: Enter code in the following cells. Insert as many cells as you want to do this.\n",
    "    </font></div>"
   ]
  },
  {
   "cell_type": "code",
   "execution_count": 20,
   "metadata": {},
   "outputs": [
    {
     "data": {
      "text/html": [
       "<div>\n",
       "<style scoped>\n",
       "    .dataframe tbody tr th:only-of-type {\n",
       "        vertical-align: middle;\n",
       "    }\n",
       "\n",
       "    .dataframe tbody tr th {\n",
       "        vertical-align: top;\n",
       "    }\n",
       "\n",
       "    .dataframe thead th {\n",
       "        text-align: right;\n",
       "    }\n",
       "</style>\n",
       "<table border=\"1\" class=\"dataframe\">\n",
       "  <thead>\n",
       "    <tr style=\"text-align: right;\">\n",
       "      <th></th>\n",
       "      <th>Id</th>\n",
       "      <th>PostTypeId</th>\n",
       "      <th>AcceptedAnswerId</th>\n",
       "      <th>ParentId</th>\n",
       "      <th>CreationDate</th>\n",
       "      <th>Score</th>\n",
       "      <th>ViewCount</th>\n",
       "      <th>Body</th>\n",
       "      <th>OwnerUserId</th>\n",
       "      <th>OwnerDisplayName</th>\n",
       "      <th>...</th>\n",
       "      <th>LastEditorDisplayName</th>\n",
       "      <th>LastEditDate</th>\n",
       "      <th>LastActivityDate</th>\n",
       "      <th>Title</th>\n",
       "      <th>Tags</th>\n",
       "      <th>AnswerCount</th>\n",
       "      <th>CommentCount</th>\n",
       "      <th>FavoriteCount</th>\n",
       "      <th>ClosedDate</th>\n",
       "      <th>CommunityOwnedDate</th>\n",
       "    </tr>\n",
       "  </thead>\n",
       "  <tbody>\n",
       "    <tr>\n",
       "      <th>0</th>\n",
       "      <td>423497</td>\n",
       "      <td>1</td>\n",
       "      <td>423511</td>\n",
       "      <td>0</td>\n",
       "      <td>2019-08-24 09:39:31</td>\n",
       "      <td>2</td>\n",
       "      <td>68</td>\n",
       "      <td>&lt;p&gt;From wikipedia &lt;a href=\"https://en.wikipedi...</td>\n",
       "      <td>64552</td>\n",
       "      <td>NaN</td>\n",
       "      <td>...</td>\n",
       "      <td>NaN</td>\n",
       "      <td>NaN</td>\n",
       "      <td>2019-08-24 11:38:54</td>\n",
       "      <td>When are biased estimators with lower MSE pref...</td>\n",
       "      <td>&lt;bias&gt;&lt;unbiased-estimator&gt;&lt;mse&gt;</td>\n",
       "      <td>1</td>\n",
       "      <td>0</td>\n",
       "      <td>1</td>\n",
       "      <td>2019-08-25 10:25:24</td>\n",
       "      <td>NaN</td>\n",
       "    </tr>\n",
       "    <tr>\n",
       "      <th>1</th>\n",
       "      <td>423498</td>\n",
       "      <td>1</td>\n",
       "      <td>0</td>\n",
       "      <td>0</td>\n",
       "      <td>2019-08-24 09:47:42</td>\n",
       "      <td>1</td>\n",
       "      <td>24</td>\n",
       "      <td>&lt;p&gt;I am currently doing local sensitivity anal...</td>\n",
       "      <td>87231</td>\n",
       "      <td>NaN</td>\n",
       "      <td>...</td>\n",
       "      <td>NaN</td>\n",
       "      <td>2019-09-06 12:52:32</td>\n",
       "      <td>2019-09-06 12:52:32</td>\n",
       "      <td>How to interpret the result from local sensiti...</td>\n",
       "      <td>&lt;sensitivity-analysis&gt;&lt;elasticity&gt;</td>\n",
       "      <td>1</td>\n",
       "      <td>0</td>\n",
       "      <td>0</td>\n",
       "      <td>NaN</td>\n",
       "      <td>NaN</td>\n",
       "    </tr>\n",
       "    <tr>\n",
       "      <th>2</th>\n",
       "      <td>423499</td>\n",
       "      <td>1</td>\n",
       "      <td>0</td>\n",
       "      <td>0</td>\n",
       "      <td>2019-08-24 09:48:26</td>\n",
       "      <td>1</td>\n",
       "      <td>56</td>\n",
       "      <td>&lt;p&gt;I'm an honours student in psychology doing ...</td>\n",
       "      <td>257207</td>\n",
       "      <td>NaN</td>\n",
       "      <td>...</td>\n",
       "      <td>NaN</td>\n",
       "      <td>NaN</td>\n",
       "      <td>2019-08-25 08:54:17</td>\n",
       "      <td>Power Analysis in G-Power - Mixed Model Anova</td>\n",
       "      <td>&lt;anova&gt;&lt;gpower&gt;</td>\n",
       "      <td>2</td>\n",
       "      <td>0</td>\n",
       "      <td>0</td>\n",
       "      <td>NaN</td>\n",
       "      <td>NaN</td>\n",
       "    </tr>\n",
       "    <tr>\n",
       "      <th>3</th>\n",
       "      <td>423500</td>\n",
       "      <td>2</td>\n",
       "      <td>0</td>\n",
       "      <td>215865</td>\n",
       "      <td>2019-08-24 09:57:01</td>\n",
       "      <td>0</td>\n",
       "      <td>0</td>\n",
       "      <td>&lt;p&gt;Maybe you can look this &lt;a href=\"https://me...</td>\n",
       "      <td>106606</td>\n",
       "      <td>NaN</td>\n",
       "      <td>...</td>\n",
       "      <td>NaN</td>\n",
       "      <td>NaN</td>\n",
       "      <td>2019-08-24 09:57:01</td>\n",
       "      <td>NaN</td>\n",
       "      <td>NaN</td>\n",
       "      <td>0</td>\n",
       "      <td>0</td>\n",
       "      <td>0</td>\n",
       "      <td>NaN</td>\n",
       "      <td>NaN</td>\n",
       "    </tr>\n",
       "    <tr>\n",
       "      <th>4</th>\n",
       "      <td>423502</td>\n",
       "      <td>2</td>\n",
       "      <td>0</td>\n",
       "      <td>423286</td>\n",
       "      <td>2019-08-24 10:44:52</td>\n",
       "      <td>3</td>\n",
       "      <td>0</td>\n",
       "      <td>&lt;blockquote&gt;\\n  &lt;p&gt;Q1) Is my approach valid?&lt;/...</td>\n",
       "      <td>220643</td>\n",
       "      <td>NaN</td>\n",
       "      <td>...</td>\n",
       "      <td>NaN</td>\n",
       "      <td>2019-08-24 12:13:46</td>\n",
       "      <td>2019-08-24 12:13:46</td>\n",
       "      <td>NaN</td>\n",
       "      <td>NaN</td>\n",
       "      <td>0</td>\n",
       "      <td>1</td>\n",
       "      <td>0</td>\n",
       "      <td>NaN</td>\n",
       "      <td>NaN</td>\n",
       "    </tr>\n",
       "  </tbody>\n",
       "</table>\n",
       "<p>5 rows × 21 columns</p>\n",
       "</div>"
      ],
      "text/plain": [
       "       Id  PostTypeId  AcceptedAnswerId  ParentId         CreationDate  Score  \\\n",
       "0  423497           1            423511         0  2019-08-24 09:39:31      2   \n",
       "1  423498           1                 0         0  2019-08-24 09:47:42      1   \n",
       "2  423499           1                 0         0  2019-08-24 09:48:26      1   \n",
       "3  423500           2                 0    215865  2019-08-24 09:57:01      0   \n",
       "4  423502           2                 0    423286  2019-08-24 10:44:52      3   \n",
       "\n",
       "   ViewCount                                               Body  OwnerUserId  \\\n",
       "0         68  <p>From wikipedia <a href=\"https://en.wikipedi...        64552   \n",
       "1         24  <p>I am currently doing local sensitivity anal...        87231   \n",
       "2         56  <p>I'm an honours student in psychology doing ...       257207   \n",
       "3          0  <p>Maybe you can look this <a href=\"https://me...       106606   \n",
       "4          0  <blockquote>\\n  <p>Q1) Is my approach valid?</...       220643   \n",
       "\n",
       "  OwnerDisplayName  ...  LastEditorDisplayName         LastEditDate  \\\n",
       "0              NaN  ...                    NaN                  NaN   \n",
       "1              NaN  ...                    NaN  2019-09-06 12:52:32   \n",
       "2              NaN  ...                    NaN                  NaN   \n",
       "3              NaN  ...                    NaN                  NaN   \n",
       "4              NaN  ...                    NaN  2019-08-24 12:13:46   \n",
       "\n",
       "      LastActivityDate                                              Title  \\\n",
       "0  2019-08-24 11:38:54  When are biased estimators with lower MSE pref...   \n",
       "1  2019-09-06 12:52:32  How to interpret the result from local sensiti...   \n",
       "2  2019-08-25 08:54:17      Power Analysis in G-Power - Mixed Model Anova   \n",
       "3  2019-08-24 09:57:01                                                NaN   \n",
       "4  2019-08-24 12:13:46                                                NaN   \n",
       "\n",
       "                                 Tags AnswerCount  CommentCount  \\\n",
       "0     <bias><unbiased-estimator><mse>           1             0   \n",
       "1  <sensitivity-analysis><elasticity>           1             0   \n",
       "2                     <anova><gpower>           2             0   \n",
       "3                                 NaN           0             0   \n",
       "4                                 NaN           0             1   \n",
       "\n",
       "   FavoriteCount           ClosedDate CommunityOwnedDate  \n",
       "0              1  2019-08-25 10:25:24                NaN  \n",
       "1              0                  NaN                NaN  \n",
       "2              0                  NaN                NaN  \n",
       "3              0                  NaN                NaN  \n",
       "4              0                  NaN                NaN  \n",
       "\n",
       "[5 rows x 21 columns]"
      ]
     },
     "execution_count": 20,
     "metadata": {},
     "output_type": "execute_result"
    }
   ],
   "source": [
    "# Read the post data set into a DataFrame\n",
    "posts = pd.read_csv('posts.csv')\n",
    "\n",
    "# Explore the first 5 rows\n",
    "posts.head()\n"
   ]
  },
  {
   "cell_type": "code",
   "execution_count": 22,
   "metadata": {},
   "outputs": [
    {
     "data": {
      "text/html": [
       "<div>\n",
       "<style scoped>\n",
       "    .dataframe tbody tr th:only-of-type {\n",
       "        vertical-align: middle;\n",
       "    }\n",
       "\n",
       "    .dataframe tbody tr th {\n",
       "        vertical-align: top;\n",
       "    }\n",
       "\n",
       "    .dataframe thead th {\n",
       "        text-align: right;\n",
       "    }\n",
       "</style>\n",
       "<table border=\"1\" class=\"dataframe\">\n",
       "  <thead>\n",
       "    <tr style=\"text-align: right;\">\n",
       "      <th></th>\n",
       "      <th>Id</th>\n",
       "      <th>PostTypeId</th>\n",
       "      <th>AcceptedAnswerId</th>\n",
       "      <th>ParentId</th>\n",
       "      <th>CreationDate</th>\n",
       "      <th>Score</th>\n",
       "      <th>ViewCount</th>\n",
       "      <th>Body</th>\n",
       "      <th>OwnerUserId</th>\n",
       "      <th>OwnerDisplayName</th>\n",
       "      <th>...</th>\n",
       "      <th>LastEditorDisplayName</th>\n",
       "      <th>LastEditDate</th>\n",
       "      <th>LastActivityDate</th>\n",
       "      <th>Title</th>\n",
       "      <th>Tags</th>\n",
       "      <th>AnswerCount</th>\n",
       "      <th>CommentCount</th>\n",
       "      <th>FavoriteCount</th>\n",
       "      <th>ClosedDate</th>\n",
       "      <th>CommunityOwnedDate</th>\n",
       "    </tr>\n",
       "  </thead>\n",
       "  <tbody>\n",
       "    <tr>\n",
       "      <th>0</th>\n",
       "      <td>423497</td>\n",
       "      <td>1</td>\n",
       "      <td>423511</td>\n",
       "      <td>0</td>\n",
       "      <td>2019-08-24 09:39:31</td>\n",
       "      <td>2</td>\n",
       "      <td>68</td>\n",
       "      <td>&lt;p&gt;From wikipedia &lt;a href=\"https://en.wikipedi...</td>\n",
       "      <td>64552</td>\n",
       "      <td>None</td>\n",
       "      <td>...</td>\n",
       "      <td>None</td>\n",
       "      <td>None</td>\n",
       "      <td>2019-08-24 11:38:54</td>\n",
       "      <td>When are biased estimators with lower MSE pref...</td>\n",
       "      <td>&lt;bias&gt;&lt;unbiased-estimator&gt;&lt;mse&gt;</td>\n",
       "      <td>1</td>\n",
       "      <td>0</td>\n",
       "      <td>1</td>\n",
       "      <td>2019-08-25 10:25:24</td>\n",
       "      <td>None</td>\n",
       "    </tr>\n",
       "    <tr>\n",
       "      <th>1</th>\n",
       "      <td>423498</td>\n",
       "      <td>1</td>\n",
       "      <td>0</td>\n",
       "      <td>0</td>\n",
       "      <td>2019-08-24 09:47:42</td>\n",
       "      <td>1</td>\n",
       "      <td>24</td>\n",
       "      <td>&lt;p&gt;I am currently doing local sensitivity anal...</td>\n",
       "      <td>87231</td>\n",
       "      <td>None</td>\n",
       "      <td>...</td>\n",
       "      <td>None</td>\n",
       "      <td>2019-09-06 12:52:32</td>\n",
       "      <td>2019-09-06 12:52:32</td>\n",
       "      <td>How to interpret the result from local sensiti...</td>\n",
       "      <td>&lt;sensitivity-analysis&gt;&lt;elasticity&gt;</td>\n",
       "      <td>1</td>\n",
       "      <td>0</td>\n",
       "      <td>0</td>\n",
       "      <td>None</td>\n",
       "      <td>None</td>\n",
       "    </tr>\n",
       "    <tr>\n",
       "      <th>2</th>\n",
       "      <td>423499</td>\n",
       "      <td>1</td>\n",
       "      <td>0</td>\n",
       "      <td>0</td>\n",
       "      <td>2019-08-24 09:48:26</td>\n",
       "      <td>1</td>\n",
       "      <td>56</td>\n",
       "      <td>&lt;p&gt;I'm an honours student in psychology doing ...</td>\n",
       "      <td>257207</td>\n",
       "      <td>None</td>\n",
       "      <td>...</td>\n",
       "      <td>None</td>\n",
       "      <td>None</td>\n",
       "      <td>2019-08-25 08:54:17</td>\n",
       "      <td>Power Analysis in G-Power - Mixed Model Anova</td>\n",
       "      <td>&lt;anova&gt;&lt;gpower&gt;</td>\n",
       "      <td>2</td>\n",
       "      <td>0</td>\n",
       "      <td>0</td>\n",
       "      <td>None</td>\n",
       "      <td>None</td>\n",
       "    </tr>\n",
       "    <tr>\n",
       "      <th>3</th>\n",
       "      <td>423500</td>\n",
       "      <td>2</td>\n",
       "      <td>0</td>\n",
       "      <td>215865</td>\n",
       "      <td>2019-08-24 09:57:01</td>\n",
       "      <td>0</td>\n",
       "      <td>0</td>\n",
       "      <td>&lt;p&gt;Maybe you can look this &lt;a href=\"https://me...</td>\n",
       "      <td>106606</td>\n",
       "      <td>None</td>\n",
       "      <td>...</td>\n",
       "      <td>None</td>\n",
       "      <td>None</td>\n",
       "      <td>2019-08-24 09:57:01</td>\n",
       "      <td>None</td>\n",
       "      <td>None</td>\n",
       "      <td>0</td>\n",
       "      <td>0</td>\n",
       "      <td>0</td>\n",
       "      <td>None</td>\n",
       "      <td>None</td>\n",
       "    </tr>\n",
       "    <tr>\n",
       "      <th>4</th>\n",
       "      <td>423502</td>\n",
       "      <td>2</td>\n",
       "      <td>0</td>\n",
       "      <td>423286</td>\n",
       "      <td>2019-08-24 10:44:52</td>\n",
       "      <td>3</td>\n",
       "      <td>0</td>\n",
       "      <td>&lt;blockquote&gt;\\n  &lt;p&gt;Q1) Is my approach valid?&lt;/...</td>\n",
       "      <td>220643</td>\n",
       "      <td>None</td>\n",
       "      <td>...</td>\n",
       "      <td>None</td>\n",
       "      <td>2019-08-24 12:13:46</td>\n",
       "      <td>2019-08-24 12:13:46</td>\n",
       "      <td>None</td>\n",
       "      <td>None</td>\n",
       "      <td>0</td>\n",
       "      <td>1</td>\n",
       "      <td>0</td>\n",
       "      <td>None</td>\n",
       "      <td>None</td>\n",
       "    </tr>\n",
       "  </tbody>\n",
       "</table>\n",
       "<p>5 rows × 21 columns</p>\n",
       "</div>"
      ],
      "text/plain": [
       "       Id  PostTypeId  AcceptedAnswerId  ParentId         CreationDate  Score  \\\n",
       "0  423497           1            423511         0  2019-08-24 09:39:31      2   \n",
       "1  423498           1                 0         0  2019-08-24 09:47:42      1   \n",
       "2  423499           1                 0         0  2019-08-24 09:48:26      1   \n",
       "3  423500           2                 0    215865  2019-08-24 09:57:01      0   \n",
       "4  423502           2                 0    423286  2019-08-24 10:44:52      3   \n",
       "\n",
       "   ViewCount                                               Body  OwnerUserId  \\\n",
       "0         68  <p>From wikipedia <a href=\"https://en.wikipedi...        64552   \n",
       "1         24  <p>I am currently doing local sensitivity anal...        87231   \n",
       "2         56  <p>I'm an honours student in psychology doing ...       257207   \n",
       "3          0  <p>Maybe you can look this <a href=\"https://me...       106606   \n",
       "4          0  <blockquote>\\n  <p>Q1) Is my approach valid?</...       220643   \n",
       "\n",
       "  OwnerDisplayName  ...  LastEditorDisplayName         LastEditDate  \\\n",
       "0             None  ...                   None                 None   \n",
       "1             None  ...                   None  2019-09-06 12:52:32   \n",
       "2             None  ...                   None                 None   \n",
       "3             None  ...                   None                 None   \n",
       "4             None  ...                   None  2019-08-24 12:13:46   \n",
       "\n",
       "      LastActivityDate                                              Title  \\\n",
       "0  2019-08-24 11:38:54  When are biased estimators with lower MSE pref...   \n",
       "1  2019-09-06 12:52:32  How to interpret the result from local sensiti...   \n",
       "2  2019-08-25 08:54:17      Power Analysis in G-Power - Mixed Model Anova   \n",
       "3  2019-08-24 09:57:01                                               None   \n",
       "4  2019-08-24 12:13:46                                               None   \n",
       "\n",
       "                                 Tags AnswerCount  CommentCount  \\\n",
       "0     <bias><unbiased-estimator><mse>           1             0   \n",
       "1  <sensitivity-analysis><elasticity>           1             0   \n",
       "2                     <anova><gpower>           2             0   \n",
       "3                                None           0             0   \n",
       "4                                None           0             1   \n",
       "\n",
       "   FavoriteCount           ClosedDate CommunityOwnedDate  \n",
       "0              1  2019-08-25 10:25:24               None  \n",
       "1              0                 None               None  \n",
       "2              0                 None               None  \n",
       "3              0                 None               None  \n",
       "4              0                 None               None  \n",
       "\n",
       "[5 rows x 21 columns]"
      ]
     },
     "execution_count": 22,
     "metadata": {},
     "output_type": "execute_result"
    }
   ],
   "source": [
    "#Load posts Dataframe into sqlite\n",
    "posts.to_sql('posts', con, if_exists='replace',index=False)\n",
    "\n",
    "#Read back in to prove that it worked\n",
    "sql = 'SELECT * FROM posts'\n",
    "posts = pd.read_sql(sql,con)\n",
    "posts.head()\n"
   ]
  },
  {
   "cell_type": "code",
   "execution_count": 33,
   "metadata": {},
   "outputs": [
    {
     "data": {
      "text/html": [
       "<div>\n",
       "<style scoped>\n",
       "    .dataframe tbody tr th:only-of-type {\n",
       "        vertical-align: middle;\n",
       "    }\n",
       "\n",
       "    .dataframe tbody tr th {\n",
       "        vertical-align: top;\n",
       "    }\n",
       "\n",
       "    .dataframe thead th {\n",
       "        text-align: right;\n",
       "    }\n",
       "</style>\n",
       "<table border=\"1\" class=\"dataframe\">\n",
       "  <thead>\n",
       "    <tr style=\"text-align: right;\">\n",
       "      <th></th>\n",
       "      <th>Id</th>\n",
       "      <th>Reputation</th>\n",
       "      <th>CreationDate</th>\n",
       "      <th>DisplayName</th>\n",
       "      <th>LastAccessDate</th>\n",
       "      <th>WebsiteUrl</th>\n",
       "      <th>Location</th>\n",
       "      <th>AboutMe</th>\n",
       "      <th>Views</th>\n",
       "      <th>UpVotes</th>\n",
       "      <th>DownVotes</th>\n",
       "      <th>ProfileImageUrl</th>\n",
       "      <th>AccountId</th>\n",
       "    </tr>\n",
       "  </thead>\n",
       "  <tbody>\n",
       "    <tr>\n",
       "      <th>0</th>\n",
       "      <td>157607</td>\n",
       "      <td>31</td>\n",
       "      <td>2017-04-17 14:50:42</td>\n",
       "      <td>user157607</td>\n",
       "      <td>2019-07-23 16:44:08</td>\n",
       "      <td>NaN</td>\n",
       "      <td>NaN</td>\n",
       "      <td>NaN</td>\n",
       "      <td>0</td>\n",
       "      <td>0</td>\n",
       "      <td>0</td>\n",
       "      <td>https://www.gravatar.com/avatar/2efb161849efa4...</td>\n",
       "      <td>10705183</td>\n",
       "    </tr>\n",
       "    <tr>\n",
       "      <th>1</th>\n",
       "      <td>157656</td>\n",
       "      <td>101</td>\n",
       "      <td>2017-04-17 20:08:20</td>\n",
       "      <td>user102859</td>\n",
       "      <td>2019-06-26 13:42:13</td>\n",
       "      <td>NaN</td>\n",
       "      <td>NaN</td>\n",
       "      <td>NaN</td>\n",
       "      <td>3</td>\n",
       "      <td>0</td>\n",
       "      <td>0</td>\n",
       "      <td>https://i.stack.imgur.com/eY4ka.jpg?s=128&amp;g=1</td>\n",
       "      <td>10567606</td>\n",
       "    </tr>\n",
       "    <tr>\n",
       "      <th>2</th>\n",
       "      <td>157704</td>\n",
       "      <td>133</td>\n",
       "      <td>2017-04-18 05:10:47</td>\n",
       "      <td>jupiar</td>\n",
       "      <td>2019-11-25 13:32:27</td>\n",
       "      <td>NaN</td>\n",
       "      <td>Shanghai, China</td>\n",
       "      <td>&lt;p&gt;Originally from the U.K, I have an Undergra...</td>\n",
       "      <td>1</td>\n",
       "      <td>1</td>\n",
       "      <td>0</td>\n",
       "      <td>https://www.gravatar.com/avatar/720e20205122c5...</td>\n",
       "      <td>9501631</td>\n",
       "    </tr>\n",
       "    <tr>\n",
       "      <th>3</th>\n",
       "      <td>157709</td>\n",
       "      <td>155</td>\n",
       "      <td>2017-04-18 06:39:18</td>\n",
       "      <td>farmer</td>\n",
       "      <td>2019-02-17 19:44:24</td>\n",
       "      <td>NaN</td>\n",
       "      <td>NaN</td>\n",
       "      <td>NaN</td>\n",
       "      <td>16</td>\n",
       "      <td>0</td>\n",
       "      <td>0</td>\n",
       "      <td>https://www.gravatar.com/avatar/0f8c4bde3d8f25...</td>\n",
       "      <td>10709837</td>\n",
       "    </tr>\n",
       "    <tr>\n",
       "      <th>4</th>\n",
       "      <td>157755</td>\n",
       "      <td>101</td>\n",
       "      <td>2017-04-18 12:56:17</td>\n",
       "      <td>Miki P</td>\n",
       "      <td>2019-08-12 17:02:21</td>\n",
       "      <td>NaN</td>\n",
       "      <td>NaN</td>\n",
       "      <td>NaN</td>\n",
       "      <td>1</td>\n",
       "      <td>9</td>\n",
       "      <td>0</td>\n",
       "      <td>https://www.gravatar.com/avatar/af088558cd81c5...</td>\n",
       "      <td>7969290</td>\n",
       "    </tr>\n",
       "  </tbody>\n",
       "</table>\n",
       "</div>"
      ],
      "text/plain": [
       "       Id  Reputation         CreationDate DisplayName       LastAccessDate  \\\n",
       "0  157607          31  2017-04-17 14:50:42  user157607  2019-07-23 16:44:08   \n",
       "1  157656         101  2017-04-17 20:08:20  user102859  2019-06-26 13:42:13   \n",
       "2  157704         133  2017-04-18 05:10:47      jupiar  2019-11-25 13:32:27   \n",
       "3  157709         155  2017-04-18 06:39:18      farmer  2019-02-17 19:44:24   \n",
       "4  157755         101  2017-04-18 12:56:17      Miki P  2019-08-12 17:02:21   \n",
       "\n",
       "  WebsiteUrl         Location  \\\n",
       "0        NaN              NaN   \n",
       "1        NaN              NaN   \n",
       "2        NaN  Shanghai, China   \n",
       "3        NaN              NaN   \n",
       "4        NaN              NaN   \n",
       "\n",
       "                                             AboutMe  Views  UpVotes  \\\n",
       "0                                                NaN      0        0   \n",
       "1                                                NaN      3        0   \n",
       "2  <p>Originally from the U.K, I have an Undergra...      1        1   \n",
       "3                                                NaN     16        0   \n",
       "4                                                NaN      1        9   \n",
       "\n",
       "   DownVotes                                    ProfileImageUrl  AccountId  \n",
       "0          0  https://www.gravatar.com/avatar/2efb161849efa4...   10705183  \n",
       "1          0      https://i.stack.imgur.com/eY4ka.jpg?s=128&g=1   10567606  \n",
       "2          0  https://www.gravatar.com/avatar/720e20205122c5...    9501631  \n",
       "3          0  https://www.gravatar.com/avatar/0f8c4bde3d8f25...   10709837  \n",
       "4          0  https://www.gravatar.com/avatar/af088558cd81c5...    7969290  "
      ]
     },
     "execution_count": 33,
     "metadata": {},
     "output_type": "execute_result"
    }
   ],
   "source": [
    "# Read the users data set into a DataFrame\n",
    "users = pd.read_csv('users.csv',parse_dates=True)\n",
    "\n",
    "#Explore the first 5 rows\n",
    "users.head()\n"
   ]
  },
  {
   "cell_type": "code",
   "execution_count": 34,
   "metadata": {},
   "outputs": [
    {
     "data": {
      "text/html": [
       "<div>\n",
       "<style scoped>\n",
       "    .dataframe tbody tr th:only-of-type {\n",
       "        vertical-align: middle;\n",
       "    }\n",
       "\n",
       "    .dataframe tbody tr th {\n",
       "        vertical-align: top;\n",
       "    }\n",
       "\n",
       "    .dataframe thead th {\n",
       "        text-align: right;\n",
       "    }\n",
       "</style>\n",
       "<table border=\"1\" class=\"dataframe\">\n",
       "  <thead>\n",
       "    <tr style=\"text-align: right;\">\n",
       "      <th></th>\n",
       "      <th>Id</th>\n",
       "      <th>Reputation</th>\n",
       "      <th>CreationDate</th>\n",
       "      <th>DisplayName</th>\n",
       "      <th>LastAccessDate</th>\n",
       "      <th>WebsiteUrl</th>\n",
       "      <th>Location</th>\n",
       "      <th>AboutMe</th>\n",
       "      <th>Views</th>\n",
       "      <th>UpVotes</th>\n",
       "      <th>DownVotes</th>\n",
       "      <th>ProfileImageUrl</th>\n",
       "      <th>AccountId</th>\n",
       "    </tr>\n",
       "  </thead>\n",
       "  <tbody>\n",
       "    <tr>\n",
       "      <th>0</th>\n",
       "      <td>157607</td>\n",
       "      <td>31</td>\n",
       "      <td>2017-04-17 14:50:42</td>\n",
       "      <td>user157607</td>\n",
       "      <td>2019-07-23 16:44:08</td>\n",
       "      <td>None</td>\n",
       "      <td>None</td>\n",
       "      <td>None</td>\n",
       "      <td>0</td>\n",
       "      <td>0</td>\n",
       "      <td>0</td>\n",
       "      <td>https://www.gravatar.com/avatar/2efb161849efa4...</td>\n",
       "      <td>10705183</td>\n",
       "    </tr>\n",
       "    <tr>\n",
       "      <th>1</th>\n",
       "      <td>157656</td>\n",
       "      <td>101</td>\n",
       "      <td>2017-04-17 20:08:20</td>\n",
       "      <td>user102859</td>\n",
       "      <td>2019-06-26 13:42:13</td>\n",
       "      <td>None</td>\n",
       "      <td>None</td>\n",
       "      <td>None</td>\n",
       "      <td>3</td>\n",
       "      <td>0</td>\n",
       "      <td>0</td>\n",
       "      <td>https://i.stack.imgur.com/eY4ka.jpg?s=128&amp;g=1</td>\n",
       "      <td>10567606</td>\n",
       "    </tr>\n",
       "    <tr>\n",
       "      <th>2</th>\n",
       "      <td>157704</td>\n",
       "      <td>133</td>\n",
       "      <td>2017-04-18 05:10:47</td>\n",
       "      <td>jupiar</td>\n",
       "      <td>2019-11-25 13:32:27</td>\n",
       "      <td>None</td>\n",
       "      <td>Shanghai, China</td>\n",
       "      <td>&lt;p&gt;Originally from the U.K, I have an Undergra...</td>\n",
       "      <td>1</td>\n",
       "      <td>1</td>\n",
       "      <td>0</td>\n",
       "      <td>https://www.gravatar.com/avatar/720e20205122c5...</td>\n",
       "      <td>9501631</td>\n",
       "    </tr>\n",
       "    <tr>\n",
       "      <th>3</th>\n",
       "      <td>157709</td>\n",
       "      <td>155</td>\n",
       "      <td>2017-04-18 06:39:18</td>\n",
       "      <td>farmer</td>\n",
       "      <td>2019-02-17 19:44:24</td>\n",
       "      <td>None</td>\n",
       "      <td>None</td>\n",
       "      <td>None</td>\n",
       "      <td>16</td>\n",
       "      <td>0</td>\n",
       "      <td>0</td>\n",
       "      <td>https://www.gravatar.com/avatar/0f8c4bde3d8f25...</td>\n",
       "      <td>10709837</td>\n",
       "    </tr>\n",
       "    <tr>\n",
       "      <th>4</th>\n",
       "      <td>157755</td>\n",
       "      <td>101</td>\n",
       "      <td>2017-04-18 12:56:17</td>\n",
       "      <td>Miki P</td>\n",
       "      <td>2019-08-12 17:02:21</td>\n",
       "      <td>None</td>\n",
       "      <td>None</td>\n",
       "      <td>None</td>\n",
       "      <td>1</td>\n",
       "      <td>9</td>\n",
       "      <td>0</td>\n",
       "      <td>https://www.gravatar.com/avatar/af088558cd81c5...</td>\n",
       "      <td>7969290</td>\n",
       "    </tr>\n",
       "  </tbody>\n",
       "</table>\n",
       "</div>"
      ],
      "text/plain": [
       "       Id  Reputation         CreationDate DisplayName       LastAccessDate  \\\n",
       "0  157607          31  2017-04-17 14:50:42  user157607  2019-07-23 16:44:08   \n",
       "1  157656         101  2017-04-17 20:08:20  user102859  2019-06-26 13:42:13   \n",
       "2  157704         133  2017-04-18 05:10:47      jupiar  2019-11-25 13:32:27   \n",
       "3  157709         155  2017-04-18 06:39:18      farmer  2019-02-17 19:44:24   \n",
       "4  157755         101  2017-04-18 12:56:17      Miki P  2019-08-12 17:02:21   \n",
       "\n",
       "  WebsiteUrl         Location  \\\n",
       "0       None             None   \n",
       "1       None             None   \n",
       "2       None  Shanghai, China   \n",
       "3       None             None   \n",
       "4       None             None   \n",
       "\n",
       "                                             AboutMe  Views  UpVotes  \\\n",
       "0                                               None      0        0   \n",
       "1                                               None      3        0   \n",
       "2  <p>Originally from the U.K, I have an Undergra...      1        1   \n",
       "3                                               None     16        0   \n",
       "4                                               None      1        9   \n",
       "\n",
       "   DownVotes                                    ProfileImageUrl  AccountId  \n",
       "0          0  https://www.gravatar.com/avatar/2efb161849efa4...   10705183  \n",
       "1          0      https://i.stack.imgur.com/eY4ka.jpg?s=128&g=1   10567606  \n",
       "2          0  https://www.gravatar.com/avatar/720e20205122c5...    9501631  \n",
       "3          0  https://www.gravatar.com/avatar/0f8c4bde3d8f25...   10709837  \n",
       "4          0  https://www.gravatar.com/avatar/af088558cd81c5...    7969290  "
      ]
     },
     "execution_count": 34,
     "metadata": {},
     "output_type": "execute_result"
    }
   ],
   "source": [
    "# Read the USER data set into a DataFrame\n",
    "users.to_sql('users', con, if_exists='replace',index=False)\n",
    "\n",
    "#Read back in to prove that it worked\n",
    "sql= 'SELECT * FROM users'\n",
    "users = pd.read_sql(sql,con)\n",
    "users.head()"
   ]
  },
  {
   "cell_type": "markdown",
   "metadata": {},
   "source": [
    "### **TODO**: Drop Duplicates\n",
    "Look for and drop any duplicates in all 3 of the tables (if they exist). Use Pandas to do this. If you find duplicates, you will need to rewrite the table.\n",
    "\n",
    "<div style=\"background-color:lemonchiffon; border:1px solid; padding:5px; margin:5px; font-weight:bold\"><font color=\"crimson\">\n",
    "TODO: Enter code in the following cells. \n",
    "    </font></div>"
   ]
  },
  {
   "cell_type": "code",
   "execution_count": 35,
   "metadata": {},
   "outputs": [
    {
     "data": {
      "text/html": [
       "<div>\n",
       "<style scoped>\n",
       "    .dataframe tbody tr th:only-of-type {\n",
       "        vertical-align: middle;\n",
       "    }\n",
       "\n",
       "    .dataframe tbody tr th {\n",
       "        vertical-align: top;\n",
       "    }\n",
       "\n",
       "    .dataframe thead th {\n",
       "        text-align: right;\n",
       "    }\n",
       "</style>\n",
       "<table border=\"1\" class=\"dataframe\">\n",
       "  <thead>\n",
       "    <tr style=\"text-align: right;\">\n",
       "      <th></th>\n",
       "      <th>Id</th>\n",
       "      <th>PostId</th>\n",
       "      <th>Score</th>\n",
       "      <th>Text</th>\n",
       "      <th>CreationDate</th>\n",
       "      <th>UserId</th>\n",
       "    </tr>\n",
       "  </thead>\n",
       "  <tbody>\n",
       "  </tbody>\n",
       "</table>\n",
       "</div>"
      ],
      "text/plain": [
       "Empty DataFrame\n",
       "Columns: [Id, PostId, Score, Text, CreationDate, UserId]\n",
       "Index: []"
      ]
     },
     "execution_count": 35,
     "metadata": {},
     "output_type": "execute_result"
    }
   ],
   "source": [
    "#Find duplicates in the comments Dataframe\n",
    "comments[comments.duplicated()]"
   ]
  },
  {
   "cell_type": "code",
   "execution_count": 36,
   "metadata": {},
   "outputs": [
    {
     "data": {
      "text/html": [
       "<div>\n",
       "<style scoped>\n",
       "    .dataframe tbody tr th:only-of-type {\n",
       "        vertical-align: middle;\n",
       "    }\n",
       "\n",
       "    .dataframe tbody tr th {\n",
       "        vertical-align: top;\n",
       "    }\n",
       "\n",
       "    .dataframe thead th {\n",
       "        text-align: right;\n",
       "    }\n",
       "</style>\n",
       "<table border=\"1\" class=\"dataframe\">\n",
       "  <thead>\n",
       "    <tr style=\"text-align: right;\">\n",
       "      <th></th>\n",
       "      <th>Id</th>\n",
       "      <th>PostTypeId</th>\n",
       "      <th>AcceptedAnswerId</th>\n",
       "      <th>ParentId</th>\n",
       "      <th>CreationDate</th>\n",
       "      <th>Score</th>\n",
       "      <th>ViewCount</th>\n",
       "      <th>Body</th>\n",
       "      <th>OwnerUserId</th>\n",
       "      <th>OwnerDisplayName</th>\n",
       "      <th>...</th>\n",
       "      <th>LastEditorDisplayName</th>\n",
       "      <th>LastEditDate</th>\n",
       "      <th>LastActivityDate</th>\n",
       "      <th>Title</th>\n",
       "      <th>Tags</th>\n",
       "      <th>AnswerCount</th>\n",
       "      <th>CommentCount</th>\n",
       "      <th>FavoriteCount</th>\n",
       "      <th>ClosedDate</th>\n",
       "      <th>CommunityOwnedDate</th>\n",
       "    </tr>\n",
       "  </thead>\n",
       "  <tbody>\n",
       "  </tbody>\n",
       "</table>\n",
       "<p>0 rows × 21 columns</p>\n",
       "</div>"
      ],
      "text/plain": [
       "Empty DataFrame\n",
       "Columns: [Id, PostTypeId, AcceptedAnswerId, ParentId, CreationDate, Score, ViewCount, Body, OwnerUserId, OwnerDisplayName, LastEditorUserId, LastEditorDisplayName, LastEditDate, LastActivityDate, Title, Tags, AnswerCount, CommentCount, FavoriteCount, ClosedDate, CommunityOwnedDate]\n",
       "Index: []\n",
       "\n",
       "[0 rows x 21 columns]"
      ]
     },
     "execution_count": 36,
     "metadata": {},
     "output_type": "execute_result"
    }
   ],
   "source": [
    "#Find duplicates in the posts Dataframe\n",
    "posts[posts.duplicated()]"
   ]
  },
  {
   "cell_type": "code",
   "execution_count": 38,
   "metadata": {},
   "outputs": [
    {
     "data": {
      "text/html": [
       "<div>\n",
       "<style scoped>\n",
       "    .dataframe tbody tr th:only-of-type {\n",
       "        vertical-align: middle;\n",
       "    }\n",
       "\n",
       "    .dataframe tbody tr th {\n",
       "        vertical-align: top;\n",
       "    }\n",
       "\n",
       "    .dataframe thead th {\n",
       "        text-align: right;\n",
       "    }\n",
       "</style>\n",
       "<table border=\"1\" class=\"dataframe\">\n",
       "  <thead>\n",
       "    <tr style=\"text-align: right;\">\n",
       "      <th></th>\n",
       "      <th>Id</th>\n",
       "      <th>Reputation</th>\n",
       "      <th>CreationDate</th>\n",
       "      <th>DisplayName</th>\n",
       "      <th>LastAccessDate</th>\n",
       "      <th>WebsiteUrl</th>\n",
       "      <th>Location</th>\n",
       "      <th>AboutMe</th>\n",
       "      <th>Views</th>\n",
       "      <th>UpVotes</th>\n",
       "      <th>DownVotes</th>\n",
       "      <th>ProfileImageUrl</th>\n",
       "      <th>AccountId</th>\n",
       "    </tr>\n",
       "  </thead>\n",
       "  <tbody>\n",
       "  </tbody>\n",
       "</table>\n",
       "</div>"
      ],
      "text/plain": [
       "Empty DataFrame\n",
       "Columns: [Id, Reputation, CreationDate, DisplayName, LastAccessDate, WebsiteUrl, Location, AboutMe, Views, UpVotes, DownVotes, ProfileImageUrl, AccountId]\n",
       "Index: []"
      ]
     },
     "execution_count": 38,
     "metadata": {},
     "output_type": "execute_result"
    }
   ],
   "source": [
    "#Find duplicates in the users Dataframe\n",
    "users[users.duplicated()]"
   ]
  },
  {
   "cell_type": "markdown",
   "metadata": {},
   "source": [
    "## Review the Data\n",
    "\n",
    "Spend some time reviewing the data.  Understand what data we have, think about how that data can be used to assist in the initiative of understanding how ChatData is used in the real world.  Is the data organised in a way that would lend itself to being manged in a relational database?  How would the different tables be connected?  What are the primary and foreign keys?  Would this give you a 3NF model?\n",
    "\n",
    "Also think about security and ethics.  Is there personal data in here?  Could individuals be identified through this data?  It it ethical to use the data in this way?  You will be asked to comment on these questions later!\n",
    "\n",
    "Use the code below to help you."
   ]
  },
  {
   "cell_type": "code",
   "execution_count": 39,
   "metadata": {},
   "outputs": [
    {
     "data": {
      "text/plain": [
       "Index(['Id', 'Reputation', 'CreationDate', 'DisplayName', 'LastAccessDate',\n",
       "       'WebsiteUrl', 'Location', 'AboutMe', 'Views', 'UpVotes', 'DownVotes',\n",
       "       'ProfileImageUrl', 'AccountId'],\n",
       "      dtype='object')"
      ]
     },
     "execution_count": 39,
     "metadata": {},
     "output_type": "execute_result"
    }
   ],
   "source": [
    "users.columns"
   ]
  },
  {
   "cell_type": "code",
   "execution_count": 40,
   "metadata": {},
   "outputs": [
    {
     "data": {
      "text/html": [
       "<div>\n",
       "<style scoped>\n",
       "    .dataframe tbody tr th:only-of-type {\n",
       "        vertical-align: middle;\n",
       "    }\n",
       "\n",
       "    .dataframe tbody tr th {\n",
       "        vertical-align: top;\n",
       "    }\n",
       "\n",
       "    .dataframe thead th {\n",
       "        text-align: right;\n",
       "    }\n",
       "</style>\n",
       "<table border=\"1\" class=\"dataframe\">\n",
       "  <thead>\n",
       "    <tr style=\"text-align: right;\">\n",
       "      <th></th>\n",
       "      <th>Id</th>\n",
       "      <th>Reputation</th>\n",
       "      <th>CreationDate</th>\n",
       "      <th>DisplayName</th>\n",
       "      <th>LastAccessDate</th>\n",
       "      <th>WebsiteUrl</th>\n",
       "      <th>Location</th>\n",
       "      <th>AboutMe</th>\n",
       "      <th>Views</th>\n",
       "      <th>UpVotes</th>\n",
       "      <th>DownVotes</th>\n",
       "      <th>ProfileImageUrl</th>\n",
       "      <th>AccountId</th>\n",
       "    </tr>\n",
       "  </thead>\n",
       "  <tbody>\n",
       "    <tr>\n",
       "      <th>0</th>\n",
       "      <td>157607</td>\n",
       "      <td>31</td>\n",
       "      <td>2017-04-17 14:50:42</td>\n",
       "      <td>user157607</td>\n",
       "      <td>2019-07-23 16:44:08</td>\n",
       "      <td>None</td>\n",
       "      <td>None</td>\n",
       "      <td>None</td>\n",
       "      <td>0</td>\n",
       "      <td>0</td>\n",
       "      <td>0</td>\n",
       "      <td>https://www.gravatar.com/avatar/2efb161849efa4...</td>\n",
       "      <td>10705183</td>\n",
       "    </tr>\n",
       "    <tr>\n",
       "      <th>1</th>\n",
       "      <td>157656</td>\n",
       "      <td>101</td>\n",
       "      <td>2017-04-17 20:08:20</td>\n",
       "      <td>user102859</td>\n",
       "      <td>2019-06-26 13:42:13</td>\n",
       "      <td>None</td>\n",
       "      <td>None</td>\n",
       "      <td>None</td>\n",
       "      <td>3</td>\n",
       "      <td>0</td>\n",
       "      <td>0</td>\n",
       "      <td>https://i.stack.imgur.com/eY4ka.jpg?s=128&amp;g=1</td>\n",
       "      <td>10567606</td>\n",
       "    </tr>\n",
       "    <tr>\n",
       "      <th>2</th>\n",
       "      <td>157704</td>\n",
       "      <td>133</td>\n",
       "      <td>2017-04-18 05:10:47</td>\n",
       "      <td>jupiar</td>\n",
       "      <td>2019-11-25 13:32:27</td>\n",
       "      <td>None</td>\n",
       "      <td>Shanghai, China</td>\n",
       "      <td>&lt;p&gt;Originally from the U.K, I have an Undergra...</td>\n",
       "      <td>1</td>\n",
       "      <td>1</td>\n",
       "      <td>0</td>\n",
       "      <td>https://www.gravatar.com/avatar/720e20205122c5...</td>\n",
       "      <td>9501631</td>\n",
       "    </tr>\n",
       "    <tr>\n",
       "      <th>3</th>\n",
       "      <td>157709</td>\n",
       "      <td>155</td>\n",
       "      <td>2017-04-18 06:39:18</td>\n",
       "      <td>farmer</td>\n",
       "      <td>2019-02-17 19:44:24</td>\n",
       "      <td>None</td>\n",
       "      <td>None</td>\n",
       "      <td>None</td>\n",
       "      <td>16</td>\n",
       "      <td>0</td>\n",
       "      <td>0</td>\n",
       "      <td>https://www.gravatar.com/avatar/0f8c4bde3d8f25...</td>\n",
       "      <td>10709837</td>\n",
       "    </tr>\n",
       "    <tr>\n",
       "      <th>4</th>\n",
       "      <td>157755</td>\n",
       "      <td>101</td>\n",
       "      <td>2017-04-18 12:56:17</td>\n",
       "      <td>Miki P</td>\n",
       "      <td>2019-08-12 17:02:21</td>\n",
       "      <td>None</td>\n",
       "      <td>None</td>\n",
       "      <td>None</td>\n",
       "      <td>1</td>\n",
       "      <td>9</td>\n",
       "      <td>0</td>\n",
       "      <td>https://www.gravatar.com/avatar/af088558cd81c5...</td>\n",
       "      <td>7969290</td>\n",
       "    </tr>\n",
       "  </tbody>\n",
       "</table>\n",
       "</div>"
      ],
      "text/plain": [
       "       Id  Reputation         CreationDate DisplayName       LastAccessDate  \\\n",
       "0  157607          31  2017-04-17 14:50:42  user157607  2019-07-23 16:44:08   \n",
       "1  157656         101  2017-04-17 20:08:20  user102859  2019-06-26 13:42:13   \n",
       "2  157704         133  2017-04-18 05:10:47      jupiar  2019-11-25 13:32:27   \n",
       "3  157709         155  2017-04-18 06:39:18      farmer  2019-02-17 19:44:24   \n",
       "4  157755         101  2017-04-18 12:56:17      Miki P  2019-08-12 17:02:21   \n",
       "\n",
       "  WebsiteUrl         Location  \\\n",
       "0       None             None   \n",
       "1       None             None   \n",
       "2       None  Shanghai, China   \n",
       "3       None             None   \n",
       "4       None             None   \n",
       "\n",
       "                                             AboutMe  Views  UpVotes  \\\n",
       "0                                               None      0        0   \n",
       "1                                               None      3        0   \n",
       "2  <p>Originally from the U.K, I have an Undergra...      1        1   \n",
       "3                                               None     16        0   \n",
       "4                                               None      1        9   \n",
       "\n",
       "   DownVotes                                    ProfileImageUrl  AccountId  \n",
       "0          0  https://www.gravatar.com/avatar/2efb161849efa4...   10705183  \n",
       "1          0      https://i.stack.imgur.com/eY4ka.jpg?s=128&g=1   10567606  \n",
       "2          0  https://www.gravatar.com/avatar/720e20205122c5...    9501631  \n",
       "3          0  https://www.gravatar.com/avatar/0f8c4bde3d8f25...   10709837  \n",
       "4          0  https://www.gravatar.com/avatar/af088558cd81c5...    7969290  "
      ]
     },
     "execution_count": 40,
     "metadata": {},
     "output_type": "execute_result"
    }
   ],
   "source": [
    "users.head()"
   ]
  },
  {
   "cell_type": "code",
   "execution_count": 41,
   "metadata": {},
   "outputs": [
    {
     "data": {
      "text/plain": [
       "Index(['Id', 'PostId', 'Score', 'Text', 'CreationDate', 'UserId'], dtype='object')"
      ]
     },
     "execution_count": 41,
     "metadata": {},
     "output_type": "execute_result"
    }
   ],
   "source": [
    "comments.columns"
   ]
  },
  {
   "cell_type": "code",
   "execution_count": 42,
   "metadata": {},
   "outputs": [
    {
     "data": {
      "text/html": [
       "<div>\n",
       "<style scoped>\n",
       "    .dataframe tbody tr th:only-of-type {\n",
       "        vertical-align: middle;\n",
       "    }\n",
       "\n",
       "    .dataframe tbody tr th {\n",
       "        vertical-align: top;\n",
       "    }\n",
       "\n",
       "    .dataframe thead th {\n",
       "        text-align: right;\n",
       "    }\n",
       "</style>\n",
       "<table border=\"1\" class=\"dataframe\">\n",
       "  <thead>\n",
       "    <tr style=\"text-align: right;\">\n",
       "      <th></th>\n",
       "      <th>Id</th>\n",
       "      <th>PostId</th>\n",
       "      <th>Score</th>\n",
       "      <th>Text</th>\n",
       "      <th>CreationDate</th>\n",
       "      <th>UserId</th>\n",
       "    </tr>\n",
       "  </thead>\n",
       "  <tbody>\n",
       "    <tr>\n",
       "      <th>0</th>\n",
       "      <td>723182</td>\n",
       "      <td>385124</td>\n",
       "      <td>0</td>\n",
       "      <td>@BenBolker I don't understand. The fit cannot ...</td>\n",
       "      <td>2019-01-01 00:06:39</td>\n",
       "      <td>78575</td>\n",
       "    </tr>\n",
       "    <tr>\n",
       "      <th>1</th>\n",
       "      <td>723183</td>\n",
       "      <td>385124</td>\n",
       "      <td>3</td>\n",
       "      <td>You can't add *less* than (`-min(y)`), but you...</td>\n",
       "      <td>2019-01-01 00:09:22</td>\n",
       "      <td>2126</td>\n",
       "    </tr>\n",
       "    <tr>\n",
       "      <th>2</th>\n",
       "      <td>723186</td>\n",
       "      <td>385137</td>\n",
       "      <td>0</td>\n",
       "      <td>nice. If you felt like doing the work it would...</td>\n",
       "      <td>2019-01-01 00:32:11</td>\n",
       "      <td>2126</td>\n",
       "    </tr>\n",
       "    <tr>\n",
       "      <th>3</th>\n",
       "      <td>723187</td>\n",
       "      <td>385137</td>\n",
       "      <td>0</td>\n",
       "      <td>i.e. `emdbook::curve3d(-sum(dnbinom(y,mu=mu,si...</td>\n",
       "      <td>2019-01-01 00:40:36</td>\n",
       "      <td>2126</td>\n",
       "    </tr>\n",
       "    <tr>\n",
       "      <th>4</th>\n",
       "      <td>723188</td>\n",
       "      <td>385134</td>\n",
       "      <td>0</td>\n",
       "      <td>Don't you mean \"so variance should be $\\sigma^...</td>\n",
       "      <td>2019-01-01 00:41:28</td>\n",
       "      <td>112141</td>\n",
       "    </tr>\n",
       "  </tbody>\n",
       "</table>\n",
       "</div>"
      ],
      "text/plain": [
       "       Id  PostId  Score                                               Text  \\\n",
       "0  723182  385124      0  @BenBolker I don't understand. The fit cannot ...   \n",
       "1  723183  385124      3  You can't add *less* than (`-min(y)`), but you...   \n",
       "2  723186  385137      0  nice. If you felt like doing the work it would...   \n",
       "3  723187  385137      0  i.e. `emdbook::curve3d(-sum(dnbinom(y,mu=mu,si...   \n",
       "4  723188  385134      0  Don't you mean \"so variance should be $\\sigma^...   \n",
       "\n",
       "          CreationDate  UserId  \n",
       "0  2019-01-01 00:06:39   78575  \n",
       "1  2019-01-01 00:09:22    2126  \n",
       "2  2019-01-01 00:32:11    2126  \n",
       "3  2019-01-01 00:40:36    2126  \n",
       "4  2019-01-01 00:41:28  112141  "
      ]
     },
     "execution_count": 42,
     "metadata": {},
     "output_type": "execute_result"
    }
   ],
   "source": [
    "comments.head()"
   ]
  },
  {
   "cell_type": "code",
   "execution_count": 43,
   "metadata": {},
   "outputs": [
    {
     "data": {
      "text/plain": [
       "Index(['Id', 'PostTypeId', 'AcceptedAnswerId', 'ParentId', 'CreationDate',\n",
       "       'Score', 'ViewCount', 'Body', 'OwnerUserId', 'OwnerDisplayName',\n",
       "       'LastEditorUserId', 'LastEditorDisplayName', 'LastEditDate',\n",
       "       'LastActivityDate', 'Title', 'Tags', 'AnswerCount', 'CommentCount',\n",
       "       'FavoriteCount', 'ClosedDate', 'CommunityOwnedDate'],\n",
       "      dtype='object')"
      ]
     },
     "execution_count": 43,
     "metadata": {},
     "output_type": "execute_result"
    }
   ],
   "source": [
    "posts.columns"
   ]
  },
  {
   "cell_type": "code",
   "execution_count": 44,
   "metadata": {},
   "outputs": [
    {
     "data": {
      "text/html": [
       "<div>\n",
       "<style scoped>\n",
       "    .dataframe tbody tr th:only-of-type {\n",
       "        vertical-align: middle;\n",
       "    }\n",
       "\n",
       "    .dataframe tbody tr th {\n",
       "        vertical-align: top;\n",
       "    }\n",
       "\n",
       "    .dataframe thead th {\n",
       "        text-align: right;\n",
       "    }\n",
       "</style>\n",
       "<table border=\"1\" class=\"dataframe\">\n",
       "  <thead>\n",
       "    <tr style=\"text-align: right;\">\n",
       "      <th></th>\n",
       "      <th>Id</th>\n",
       "      <th>PostTypeId</th>\n",
       "      <th>AcceptedAnswerId</th>\n",
       "      <th>ParentId</th>\n",
       "      <th>CreationDate</th>\n",
       "      <th>Score</th>\n",
       "      <th>ViewCount</th>\n",
       "      <th>Body</th>\n",
       "      <th>OwnerUserId</th>\n",
       "      <th>OwnerDisplayName</th>\n",
       "      <th>...</th>\n",
       "      <th>LastEditorDisplayName</th>\n",
       "      <th>LastEditDate</th>\n",
       "      <th>LastActivityDate</th>\n",
       "      <th>Title</th>\n",
       "      <th>Tags</th>\n",
       "      <th>AnswerCount</th>\n",
       "      <th>CommentCount</th>\n",
       "      <th>FavoriteCount</th>\n",
       "      <th>ClosedDate</th>\n",
       "      <th>CommunityOwnedDate</th>\n",
       "    </tr>\n",
       "  </thead>\n",
       "  <tbody>\n",
       "    <tr>\n",
       "      <th>0</th>\n",
       "      <td>423497</td>\n",
       "      <td>1</td>\n",
       "      <td>423511</td>\n",
       "      <td>0</td>\n",
       "      <td>2019-08-24 09:39:31</td>\n",
       "      <td>2</td>\n",
       "      <td>68</td>\n",
       "      <td>&lt;p&gt;From wikipedia &lt;a href=\"https://en.wikipedi...</td>\n",
       "      <td>64552</td>\n",
       "      <td>None</td>\n",
       "      <td>...</td>\n",
       "      <td>None</td>\n",
       "      <td>None</td>\n",
       "      <td>2019-08-24 11:38:54</td>\n",
       "      <td>When are biased estimators with lower MSE pref...</td>\n",
       "      <td>&lt;bias&gt;&lt;unbiased-estimator&gt;&lt;mse&gt;</td>\n",
       "      <td>1</td>\n",
       "      <td>0</td>\n",
       "      <td>1</td>\n",
       "      <td>2019-08-25 10:25:24</td>\n",
       "      <td>None</td>\n",
       "    </tr>\n",
       "    <tr>\n",
       "      <th>1</th>\n",
       "      <td>423498</td>\n",
       "      <td>1</td>\n",
       "      <td>0</td>\n",
       "      <td>0</td>\n",
       "      <td>2019-08-24 09:47:42</td>\n",
       "      <td>1</td>\n",
       "      <td>24</td>\n",
       "      <td>&lt;p&gt;I am currently doing local sensitivity anal...</td>\n",
       "      <td>87231</td>\n",
       "      <td>None</td>\n",
       "      <td>...</td>\n",
       "      <td>None</td>\n",
       "      <td>2019-09-06 12:52:32</td>\n",
       "      <td>2019-09-06 12:52:32</td>\n",
       "      <td>How to interpret the result from local sensiti...</td>\n",
       "      <td>&lt;sensitivity-analysis&gt;&lt;elasticity&gt;</td>\n",
       "      <td>1</td>\n",
       "      <td>0</td>\n",
       "      <td>0</td>\n",
       "      <td>None</td>\n",
       "      <td>None</td>\n",
       "    </tr>\n",
       "    <tr>\n",
       "      <th>2</th>\n",
       "      <td>423499</td>\n",
       "      <td>1</td>\n",
       "      <td>0</td>\n",
       "      <td>0</td>\n",
       "      <td>2019-08-24 09:48:26</td>\n",
       "      <td>1</td>\n",
       "      <td>56</td>\n",
       "      <td>&lt;p&gt;I'm an honours student in psychology doing ...</td>\n",
       "      <td>257207</td>\n",
       "      <td>None</td>\n",
       "      <td>...</td>\n",
       "      <td>None</td>\n",
       "      <td>None</td>\n",
       "      <td>2019-08-25 08:54:17</td>\n",
       "      <td>Power Analysis in G-Power - Mixed Model Anova</td>\n",
       "      <td>&lt;anova&gt;&lt;gpower&gt;</td>\n",
       "      <td>2</td>\n",
       "      <td>0</td>\n",
       "      <td>0</td>\n",
       "      <td>None</td>\n",
       "      <td>None</td>\n",
       "    </tr>\n",
       "    <tr>\n",
       "      <th>3</th>\n",
       "      <td>423500</td>\n",
       "      <td>2</td>\n",
       "      <td>0</td>\n",
       "      <td>215865</td>\n",
       "      <td>2019-08-24 09:57:01</td>\n",
       "      <td>0</td>\n",
       "      <td>0</td>\n",
       "      <td>&lt;p&gt;Maybe you can look this &lt;a href=\"https://me...</td>\n",
       "      <td>106606</td>\n",
       "      <td>None</td>\n",
       "      <td>...</td>\n",
       "      <td>None</td>\n",
       "      <td>None</td>\n",
       "      <td>2019-08-24 09:57:01</td>\n",
       "      <td>None</td>\n",
       "      <td>None</td>\n",
       "      <td>0</td>\n",
       "      <td>0</td>\n",
       "      <td>0</td>\n",
       "      <td>None</td>\n",
       "      <td>None</td>\n",
       "    </tr>\n",
       "    <tr>\n",
       "      <th>4</th>\n",
       "      <td>423502</td>\n",
       "      <td>2</td>\n",
       "      <td>0</td>\n",
       "      <td>423286</td>\n",
       "      <td>2019-08-24 10:44:52</td>\n",
       "      <td>3</td>\n",
       "      <td>0</td>\n",
       "      <td>&lt;blockquote&gt;\\n  &lt;p&gt;Q1) Is my approach valid?&lt;/...</td>\n",
       "      <td>220643</td>\n",
       "      <td>None</td>\n",
       "      <td>...</td>\n",
       "      <td>None</td>\n",
       "      <td>2019-08-24 12:13:46</td>\n",
       "      <td>2019-08-24 12:13:46</td>\n",
       "      <td>None</td>\n",
       "      <td>None</td>\n",
       "      <td>0</td>\n",
       "      <td>1</td>\n",
       "      <td>0</td>\n",
       "      <td>None</td>\n",
       "      <td>None</td>\n",
       "    </tr>\n",
       "  </tbody>\n",
       "</table>\n",
       "<p>5 rows × 21 columns</p>\n",
       "</div>"
      ],
      "text/plain": [
       "       Id  PostTypeId  AcceptedAnswerId  ParentId         CreationDate  Score  \\\n",
       "0  423497           1            423511         0  2019-08-24 09:39:31      2   \n",
       "1  423498           1                 0         0  2019-08-24 09:47:42      1   \n",
       "2  423499           1                 0         0  2019-08-24 09:48:26      1   \n",
       "3  423500           2                 0    215865  2019-08-24 09:57:01      0   \n",
       "4  423502           2                 0    423286  2019-08-24 10:44:52      3   \n",
       "\n",
       "   ViewCount                                               Body  OwnerUserId  \\\n",
       "0         68  <p>From wikipedia <a href=\"https://en.wikipedi...        64552   \n",
       "1         24  <p>I am currently doing local sensitivity anal...        87231   \n",
       "2         56  <p>I'm an honours student in psychology doing ...       257207   \n",
       "3          0  <p>Maybe you can look this <a href=\"https://me...       106606   \n",
       "4          0  <blockquote>\\n  <p>Q1) Is my approach valid?</...       220643   \n",
       "\n",
       "  OwnerDisplayName  ...  LastEditorDisplayName         LastEditDate  \\\n",
       "0             None  ...                   None                 None   \n",
       "1             None  ...                   None  2019-09-06 12:52:32   \n",
       "2             None  ...                   None                 None   \n",
       "3             None  ...                   None                 None   \n",
       "4             None  ...                   None  2019-08-24 12:13:46   \n",
       "\n",
       "      LastActivityDate                                              Title  \\\n",
       "0  2019-08-24 11:38:54  When are biased estimators with lower MSE pref...   \n",
       "1  2019-09-06 12:52:32  How to interpret the result from local sensiti...   \n",
       "2  2019-08-25 08:54:17      Power Analysis in G-Power - Mixed Model Anova   \n",
       "3  2019-08-24 09:57:01                                               None   \n",
       "4  2019-08-24 12:13:46                                               None   \n",
       "\n",
       "                                 Tags AnswerCount  CommentCount  \\\n",
       "0     <bias><unbiased-estimator><mse>           1             0   \n",
       "1  <sensitivity-analysis><elasticity>           1             0   \n",
       "2                     <anova><gpower>           2             0   \n",
       "3                                None           0             0   \n",
       "4                                None           0             1   \n",
       "\n",
       "   FavoriteCount           ClosedDate CommunityOwnedDate  \n",
       "0              1  2019-08-25 10:25:24               None  \n",
       "1              0                 None               None  \n",
       "2              0                 None               None  \n",
       "3              0                 None               None  \n",
       "4              0                 None               None  \n",
       "\n",
       "[5 rows x 21 columns]"
      ]
     },
     "execution_count": 44,
     "metadata": {},
     "output_type": "execute_result"
    }
   ],
   "source": [
    "posts.head()"
   ]
  },
  {
   "cell_type": "markdown",
   "metadata": {},
   "source": [
    "# Working with Sqlite and SQL Magic\n",
    "In this section let's spend a little time understanding a bit more about how we can work with Sqlite within Jupyter.\n",
    "\n",
    "Let's look at 2 ways to query the sqlite database: using SQL Magic or using Pandas.  Either way is fine for this project."
   ]
  },
  {
   "cell_type": "markdown",
   "metadata": {},
   "source": [
    "## Writing queries with SQL Magic\n",
    "\n",
    "You will now need to write some queries to get answers to the questions in the requirements.  \n",
    "\n",
    "For single-line queries, start the cell with `%sql` and simply enter your query:"
   ]
  },
  {
   "cell_type": "code",
   "execution_count": 49,
   "metadata": {},
   "outputs": [
    {
     "name": "stdout",
     "output_type": "stream",
     "text": [
      " * sqlite:///chatdata.db\n",
      "Done.\n"
     ]
    },
    {
     "data": {
      "text/html": [
       "<table>\n",
       "    <tr>\n",
       "        <th>COUNT(*)</th>\n",
       "    </tr>\n",
       "    <tr>\n",
       "        <td>50000</td>\n",
       "    </tr>\n",
       "</table>"
      ],
      "text/plain": [
       "[(50000,)]"
      ]
     },
     "execution_count": 49,
     "metadata": {},
     "output_type": "execute_result"
    }
   ],
   "source": [
    "# This is an example\n",
    "%sql SELECT COUNT(*) FROM comments"
   ]
  },
  {
   "cell_type": "markdown",
   "metadata": {},
   "source": [
    "For multi line sql statements use `%%sql` as follows. This tells Jupyter that *everything* in this cell should be interpreted as sql. So, NO comments other statements are allowed:"
   ]
  },
  {
   "cell_type": "code",
   "execution_count": 50,
   "metadata": {},
   "outputs": [
    {
     "name": "stdout",
     "output_type": "stream",
     "text": [
      " * sqlite:///chatdata.db\n",
      "Done.\n"
     ]
    },
    {
     "data": {
      "text/html": [
       "<table>\n",
       "    <tr>\n",
       "        <th>Id</th>\n",
       "        <th>PostId</th>\n",
       "        <th>Score</th>\n",
       "        <th>Text</th>\n",
       "    </tr>\n",
       "    <tr>\n",
       "        <td>723182</td>\n",
       "        <td>385124</td>\n",
       "        <td>0</td>\n",
       "        <td>@BenBolker I don&#x27;t understand. The fit cannot be done for the negative $y$. So intuitively I&#x27;d think that in order to retain the relativity of the data, one&#x27;d ideally &quot;mirror&quot; or &quot;flip&quot; it to the positive axis? Would it be possible to adjust every point individually? Basically e.g. take $abs(y_i)$ instead of minimums.</td>\n",
       "    </tr>\n",
       "    <tr>\n",
       "        <td>723183</td>\n",
       "        <td>385124</td>\n",
       "        <td>3</td>\n",
       "        <td>You can&#x27;t add *less* than (`-min(y)`), but you could add *more*. I&#x27;m going to stop answering now sorry, because **judging what the &#x27;best&#x27; approach is depends on much more context that we don&#x27;t have** (the goal of the analysis, why you need to fit an exponential, your level of computational and statistical sophistication and that of your audience, etc. ...)</td>\n",
       "    </tr>\n",
       "    <tr>\n",
       "        <td>723186</td>\n",
       "        <td>385137</td>\n",
       "        <td>0</td>\n",
       "        <td>nice. If you felt like doing the work it would be nice to generate an image/contour plot of log-likelihood as a function of (mu, theta) and show the lines corresponding to the two `size` values .</td>\n",
       "    </tr>\n",
       "    <tr>\n",
       "        <td>723187</td>\n",
       "        <td>385137</td>\n",
       "        <td>0</td>\n",
       "        <td>i.e. `emdbook::curve3d(-sum(dnbinom(y,mu=mu,size=size,log=TRUE)),<br>                 xlim=c(2,5),ylim=c(0.2,0.5),<br>                 varnames=c(&quot;mu&quot;,&quot;size&quot;),<br>                 sys3d=&quot;contour&quot;)<br>abline(h=3.2/7,col=&quot;red&quot;)<br>abline(h=fit.what$theta,col=&quot;blue&quot;)<br>` ... although doesn&#x27;t look this is actually the answer - mu-hat is independent of theta-hat ... ?</td>\n",
       "    </tr>\n",
       "    <tr>\n",
       "        <td>723188</td>\n",
       "        <td>385134</td>\n",
       "        <td>0</td>\n",
       "        <td>Don&#x27;t you mean &quot;so variance should be $\\sigma^2/(n\\mu^2)$&quot;</td>\n",
       "    </tr>\n",
       "</table>"
      ],
      "text/plain": [
       "[(723182, 385124, 0, '@BenBolker I don\\'t understand. The fit cannot be done for the negative $y$. So intuitively I\\'d think that in order to retain the relativity of the  ... (24 characters truncated) ... rror\" or \"flip\" it to the positive axis? Would it be possible to adjust every point individually? Basically e.g. take $abs(y_i)$ instead of minimums.'),\n",
       " (723183, 385124, 3, \"You can't add *less* than (`-min(y)`), but you could add *more*. I'm going to stop answering now sorry, because **judging what the 'best' approach is ... (60 characters truncated) ...  of the analysis, why you need to fit an exponential, your level of computational and statistical sophistication and that of your audience, etc. ...)\"),\n",
       " (723186, 385137, 0, 'nice. If you felt like doing the work it would be nice to generate an image/contour plot of log-likelihood as a function of (mu, theta) and show the lines corresponding to the two `size` values .'),\n",
       " (723187, 385137, 0, 'i.e. `emdbook::curve3d(-sum(dnbinom(y,mu=mu,size=size,log=TRUE)),\\n                 xlim=c(2,5),ylim=c(0.2,0.5),\\n                 varnames=c(\"mu\",\"s ... (57 characters truncated) ... ,col=\"red\")\\nabline(h=fit.what$theta,col=\"blue\")\\n` ... although doesn\\'t look this is actually the answer - mu-hat is independent of theta-hat ... ?'),\n",
       " (723188, 385134, 0, 'Don\\'t you mean \"so variance should be $\\\\sigma^2/(n\\\\mu^2)$\"')]"
      ]
     },
     "execution_count": 50,
     "metadata": {},
     "output_type": "execute_result"
    }
   ],
   "source": [
    "%%sql\n",
    "SELECT Id, PostId, Score, Text\n",
    "    FROM comments\n",
    "        LIMIT 5"
   ]
  },
  {
   "cell_type": "markdown",
   "metadata": {},
   "source": [
    "## Writing queries with Pandas\n",
    "Another way to write queries is to use pandas:"
   ]
  },
  {
   "cell_type": "code",
   "execution_count": 51,
   "metadata": {
    "scrolled": true
   },
   "outputs": [
    {
     "data": {
      "text/html": [
       "<div>\n",
       "<style scoped>\n",
       "    .dataframe tbody tr th:only-of-type {\n",
       "        vertical-align: middle;\n",
       "    }\n",
       "\n",
       "    .dataframe tbody tr th {\n",
       "        vertical-align: top;\n",
       "    }\n",
       "\n",
       "    .dataframe thead th {\n",
       "        text-align: right;\n",
       "    }\n",
       "</style>\n",
       "<table border=\"1\" class=\"dataframe\">\n",
       "  <thead>\n",
       "    <tr style=\"text-align: right;\">\n",
       "      <th></th>\n",
       "      <th>Id</th>\n",
       "      <th>PostId</th>\n",
       "      <th>Score</th>\n",
       "      <th>Text</th>\n",
       "    </tr>\n",
       "  </thead>\n",
       "  <tbody>\n",
       "    <tr>\n",
       "      <th>0</th>\n",
       "      <td>723182</td>\n",
       "      <td>385124</td>\n",
       "      <td>0</td>\n",
       "      <td>@BenBolker I don't understand. The fit cannot ...</td>\n",
       "    </tr>\n",
       "    <tr>\n",
       "      <th>1</th>\n",
       "      <td>723183</td>\n",
       "      <td>385124</td>\n",
       "      <td>3</td>\n",
       "      <td>You can't add *less* than (`-min(y)`), but you...</td>\n",
       "    </tr>\n",
       "    <tr>\n",
       "      <th>2</th>\n",
       "      <td>723186</td>\n",
       "      <td>385137</td>\n",
       "      <td>0</td>\n",
       "      <td>nice. If you felt like doing the work it would...</td>\n",
       "    </tr>\n",
       "    <tr>\n",
       "      <th>3</th>\n",
       "      <td>723187</td>\n",
       "      <td>385137</td>\n",
       "      <td>0</td>\n",
       "      <td>i.e. `emdbook::curve3d(-sum(dnbinom(y,mu=mu,si...</td>\n",
       "    </tr>\n",
       "    <tr>\n",
       "      <th>4</th>\n",
       "      <td>723188</td>\n",
       "      <td>385134</td>\n",
       "      <td>0</td>\n",
       "      <td>Don't you mean \"so variance should be $\\sigma^...</td>\n",
       "    </tr>\n",
       "  </tbody>\n",
       "</table>\n",
       "</div>"
      ],
      "text/plain": [
       "       Id  PostId  Score                                               Text\n",
       "0  723182  385124      0  @BenBolker I don't understand. The fit cannot ...\n",
       "1  723183  385124      3  You can't add *less* than (`-min(y)`), but you...\n",
       "2  723186  385137      0  nice. If you felt like doing the work it would...\n",
       "3  723187  385137      0  i.e. `emdbook::curve3d(-sum(dnbinom(y,mu=mu,si...\n",
       "4  723188  385134      0  Don't you mean \"so variance should be $\\sigma^..."
      ]
     },
     "execution_count": 51,
     "metadata": {},
     "output_type": "execute_result"
    }
   ],
   "source": [
    "sql = \"\"\"\n",
    "SELECT Id, PostId, Score, Text\n",
    "    FROM comments\n",
    "        LIMIT 5\n",
    "        \"\"\"\n",
    "result = pd.read_sql(sql, con)\n",
    "result"
   ]
  },
  {
   "cell_type": "markdown",
   "metadata": {},
   "source": [
    "# Creating Tables with Referential Integrity"
   ]
  },
  {
   "cell_type": "markdown",
   "metadata": {},
   "source": [
    "When we loaded the csv files into Sqlite database tables, Sqlite created the tables for us behind the scenes. Let's inspect this a bit more.\n",
    "\n",
    "We can see how Sqlite created the tables by querying the `sqlite_master` table, which Sqlite uses to keep track of what objects have been created in the database:"
   ]
  },
  {
   "cell_type": "code",
   "execution_count": 52,
   "metadata": {},
   "outputs": [
    {
     "name": "stdout",
     "output_type": "stream",
     "text": [
      " * sqlite:///chatdata.db\n",
      "Done.\n"
     ]
    },
    {
     "data": {
      "text/html": [
       "<table>\n",
       "    <tr>\n",
       "        <th>sql</th>\n",
       "    </tr>\n",
       "    <tr>\n",
       "        <td>CREATE TABLE &quot;posts&quot; (<br>&quot;Id&quot; INTEGER,<br>  &quot;PostTypeId&quot; INTEGER,<br>  &quot;AcceptedAnswerId&quot; INTEGER,<br>  &quot;ParentId&quot; INTEGER,<br>  &quot;CreationDate&quot; TEXT,<br>  &quot;Score&quot; INTEGER,<br>  &quot;ViewCount&quot; INTEGER,<br>  &quot;Body&quot; TEXT,<br>  &quot;OwnerUserId&quot; INTEGER,<br>  &quot;OwnerDisplayName&quot; TEXT,<br>  &quot;LastEditorUserId&quot; INTEGER,<br>  &quot;LastEditorDisplayName&quot; TEXT,<br>  &quot;LastEditDate&quot; TEXT,<br>  &quot;LastActivityDate&quot; TEXT,<br>  &quot;Title&quot; TEXT,<br>  &quot;Tags&quot; TEXT,<br>  &quot;AnswerCount&quot; INTEGER,<br>  &quot;CommentCount&quot; INTEGER,<br>  &quot;FavoriteCount&quot; INTEGER,<br>  &quot;ClosedDate&quot; TEXT,<br>  &quot;CommunityOwnedDate&quot; TEXT<br>)</td>\n",
       "    </tr>\n",
       "    <tr>\n",
       "        <td>CREATE TABLE &quot;comments&quot; (<br>&quot;Id&quot; INTEGER,<br>  &quot;PostId&quot; INTEGER,<br>  &quot;Score&quot; INTEGER,<br>  &quot;Text&quot; TEXT,<br>  &quot;CreationDate&quot; TEXT,<br>  &quot;UserId&quot; INTEGER<br>)</td>\n",
       "    </tr>\n",
       "    <tr>\n",
       "        <td>CREATE TABLE &quot;users&quot; (<br>&quot;Id&quot; INTEGER,<br>  &quot;Reputation&quot; INTEGER,<br>  &quot;CreationDate&quot; TEXT,<br>  &quot;DisplayName&quot; TEXT,<br>  &quot;LastAccessDate&quot; TEXT,<br>  &quot;WebsiteUrl&quot; TEXT,<br>  &quot;Location&quot; TEXT,<br>  &quot;AboutMe&quot; TEXT,<br>  &quot;Views&quot; INTEGER,<br>  &quot;UpVotes&quot; INTEGER,<br>  &quot;DownVotes&quot; INTEGER,<br>  &quot;ProfileImageUrl&quot; TEXT,<br>  &quot;AccountId&quot; INTEGER<br>)</td>\n",
       "    </tr>\n",
       "</table>"
      ],
      "text/plain": [
       "[('CREATE TABLE \"posts\" (\\n\"Id\" INTEGER,\\n  \"PostTypeId\" INTEGER,\\n  \"AcceptedAnswerId\" INTEGER,\\n  \"ParentId\" INTEGER,\\n  \"CreationDate\" TEXT,\\n  \"Scor ... (240 characters truncated) ...   \"Tags\" TEXT,\\n  \"AnswerCount\" INTEGER,\\n  \"CommentCount\" INTEGER,\\n  \"FavoriteCount\" INTEGER,\\n  \"ClosedDate\" TEXT,\\n  \"CommunityOwnedDate\" TEXT\\n)',),\n",
       " ('CREATE TABLE \"comments\" (\\n\"Id\" INTEGER,\\n  \"PostId\" INTEGER,\\n  \"Score\" INTEGER,\\n  \"Text\" TEXT,\\n  \"CreationDate\" TEXT,\\n  \"UserId\" INTEGER\\n)',),\n",
       " ('CREATE TABLE \"users\" (\\n\"Id\" INTEGER,\\n  \"Reputation\" INTEGER,\\n  \"CreationDate\" TEXT,\\n  \"DisplayName\" TEXT,\\n  \"LastAccessDate\" TEXT,\\n  \"WebsiteUr ... (17 characters truncated) ... tion\" TEXT,\\n  \"AboutMe\" TEXT,\\n  \"Views\" INTEGER,\\n  \"UpVotes\" INTEGER,\\n  \"DownVotes\" INTEGER,\\n  \"ProfileImageUrl\" TEXT,\\n  \"AccountId\" INTEGER\\n)',)]"
      ]
     },
     "execution_count": 52,
     "metadata": {},
     "output_type": "execute_result"
    }
   ],
   "source": [
    "%%sql\n",
    "select sql from sqlite_master"
   ]
  },
  {
   "cell_type": "markdown",
   "metadata": {},
   "source": [
    "The above results show the `CREATE TABLE` statements that could be used by Sqlite to recreate the tables with the exact same structure.\n",
    "\n",
    "The problem with the CREATE TABLE statements above is that they don't enforce **referential integrity**.  In other words, they don't ensure that every UserId and PostId in the comments table refers to an actual UserId and PostId in the users and posts tables.  At the moment. we can insert any old number here, and even have multiple users with the same Id!  One of the advantages of working with relational databases is that they can enforce the correct uniqueness and relationships in the data, but at the moment we are not using that feature.  So let's fix that...\n",
    "\n",
    "First, let's drop the original tables:\n"
   ]
  },
  {
   "cell_type": "code",
   "execution_count": 53,
   "metadata": {},
   "outputs": [
    {
     "name": "stdout",
     "output_type": "stream",
     "text": [
      " * sqlite:///chatdata.db\n",
      "Done.\n",
      "Done.\n",
      "Done.\n"
     ]
    },
    {
     "data": {
      "text/plain": [
       "[]"
      ]
     },
     "execution_count": 53,
     "metadata": {},
     "output_type": "execute_result"
    }
   ],
   "source": [
    "%%sql\n",
    "DROP TABLE comments;\n",
    "DROP TABLE users;\n",
    "DROP TABLE posts;"
   ]
  },
  {
   "cell_type": "markdown",
   "metadata": {},
   "source": [
    "Prove that this worked by selecting the names of the tables back.  We should have no tables:"
   ]
  },
  {
   "cell_type": "code",
   "execution_count": 54,
   "metadata": {},
   "outputs": [
    {
     "name": "stdout",
     "output_type": "stream",
     "text": [
      " * sqlite:///chatdata.db\n",
      "Done.\n"
     ]
    },
    {
     "data": {
      "text/html": [
       "<table>\n",
       "    <tr>\n",
       "        <th>name</th>\n",
       "    </tr>\n",
       "</table>"
      ],
      "text/plain": [
       "[]"
      ]
     },
     "execution_count": 54,
     "metadata": {},
     "output_type": "execute_result"
    }
   ],
   "source": [
    "%%sql\n",
    "SELECT name FROM sqlite_master WHERE type='table'\n",
    "    ORDER BY name"
   ]
  },
  {
   "cell_type": "markdown",
   "metadata": {},
   "source": [
    "In Sqlite we need to enable the enforcement of foreign key constraints:"
   ]
  },
  {
   "cell_type": "code",
   "execution_count": 55,
   "metadata": {},
   "outputs": [
    {
     "name": "stdout",
     "output_type": "stream",
     "text": [
      " * sqlite:///chatdata.db\n",
      "Done.\n"
     ]
    },
    {
     "data": {
      "text/plain": [
       "[]"
      ]
     },
     "execution_count": 55,
     "metadata": {},
     "output_type": "execute_result"
    }
   ],
   "source": [
    "%%sql\n",
    "PRAGMA foreign_keys=ON;"
   ]
  },
  {
   "cell_type": "markdown",
   "metadata": {},
   "source": [
    "Now recreate the users table with a **primary key constraint** by copying the CREATE TABLE statement from above and adding the NOT NULL PRIMARY KEY clause to the Id:"
   ]
  },
  {
   "cell_type": "code",
   "execution_count": 56,
   "metadata": {},
   "outputs": [
    {
     "name": "stdout",
     "output_type": "stream",
     "text": [
      " * sqlite:///chatdata.db\n",
      "Done.\n"
     ]
    },
    {
     "data": {
      "text/plain": [
       "[]"
      ]
     },
     "execution_count": 56,
     "metadata": {},
     "output_type": "execute_result"
    }
   ],
   "source": [
    "%%sql\n",
    "CREATE TABLE \"users\" (\n",
    "\"Id\" INTEGER NOT NULL PRIMARY KEY,\n",
    "\"Reputation\" INTEGER,\n",
    "\"CreationDate\" TEXT,\n",
    "\"DisplayName\" TEXT,\n",
    "\"LastAccessDate\" TEXT,\n",
    "\"WebsiteUrl\" TEXT,\n",
    "\"Location\" TEXT,\n",
    "\"AboutMe\" TEXT,\n",
    "\"Views\" INTEGER,\n",
    "\"UpVotes\" INTEGER,\n",
    "\"DownVotes\" INTEGER,\n",
    "\"ProfileImageUrl\" TEXT,\n",
    "\"AccountId\" INTEGER\n",
    ");\n"
   ]
  },
  {
   "cell_type": "markdown",
   "metadata": {},
   "source": [
    "Now do the same for the posts table:\n",
    "\n",
    "<div style=\"background-color:lemonchiffon; border:1px solid; padding:5px; margin:5px; font-weight:bold\"><font color=\"crimson\">\n",
    "TODO: Complete the following code cell\n",
    "    </font></div>"
   ]
  },
  {
   "cell_type": "code",
   "execution_count": null,
   "metadata": {},
   "outputs": [],
   "source": [
    "# Run the CREATE TABLE statement for the posts table, including the primary key constraint"
   ]
  },
  {
   "cell_type": "code",
   "execution_count": 81,
   "metadata": {},
   "outputs": [],
   "source": [
    "#%%sql\n",
    "#DROP TABLE posts"
   ]
  },
  {
   "cell_type": "code",
   "execution_count": 82,
   "metadata": {},
   "outputs": [
    {
     "name": "stdout",
     "output_type": "stream",
     "text": [
      " * sqlite:///chatdata.db\n",
      "(sqlite3.OperationalError) table \"posts\" already exists\n",
      "[SQL: CREATE TABLE \"posts\" (\n",
      "\"Id\" INTEGER NOT NULL PRIMARY KEY,\n",
      "\"PostTypeId\" INTEGER,\n",
      "\"AcceptedAnswerId\" INTEGER,\n",
      "\"ParentId\" INTEGER,\n",
      "\"CreationDate\" TEXT,\n",
      "\"Score\" INTEGER,\n",
      "\"ViewCount\" INTEGER,\n",
      "\"Body\" TEXT,\n",
      "\"OwnerUserId\" INTEGER,\n",
      "\"OwnerDisplayName\" TEXT,\n",
      "\"LastEditorUserId\" INTEGER,\n",
      "\"LastEditorDisplayName\" TEXT,\n",
      "\"LastEditDate\" TEXT,\n",
      "\"LastActivityDate\" TEXT,\n",
      "\"Title\" TEXT,\n",
      "\"Tags\" TEXT,\n",
      "\"AnswerCount\" INTEGER,\n",
      "\"CommentCount\" INTEGER,\n",
      "\"FavoriteCount\" INTEGER,\n",
      "\"ClosedDate\" TEXT,\n",
      "\"CommunityOwnedDate\" TEXT,\n",
      "FOREIGN KEY(OwnerUserId) REFERENCES users(Id)\n",
      ");]\n",
      "(Background on this error at: https://sqlalche.me/e/14/e3q8)\n"
     ]
    }
   ],
   "source": [
    "%%sql\n",
    "CREATE TABLE \"posts\" (\n",
    "\"Id\" INTEGER NOT NULL PRIMARY KEY,\n",
    "\"PostTypeId\" INTEGER,\n",
    "\"AcceptedAnswerId\" INTEGER,\n",
    "\"ParentId\" INTEGER,\n",
    "\"CreationDate\" TEXT,\n",
    "\"Score\" INTEGER,\n",
    "\"ViewCount\" INTEGER,\n",
    "\"Body\" TEXT,\n",
    "\"OwnerUserId\" INTEGER,\n",
    "\"OwnerDisplayName\" TEXT,\n",
    "\"LastEditorUserId\" INTEGER,\n",
    "\"LastEditorDisplayName\" TEXT,\n",
    "\"LastEditDate\" TEXT,\n",
    "\"LastActivityDate\" TEXT,\n",
    "\"Title\" TEXT,\n",
    "\"Tags\" TEXT,\n",
    "\"AnswerCount\" INTEGER,\n",
    "\"CommentCount\" INTEGER,\n",
    "\"FavoriteCount\" INTEGER,\n",
    "\"ClosedDate\" TEXT,\n",
    "\"CommunityOwnedDate\" TEXT,\n",
    "FOREIGN KEY(OwnerUserId) REFERENCES users(Id)\n",
    ");"
   ]
  },
  {
   "cell_type": "markdown",
   "metadata": {},
   "source": [
    "Now for the comments table.  We need to add the primary key constraint on the id here as we did for users and posts, but we also need to add FOREIGN KEY constraints on the UserId and PostId. Read the documentation here and find our how to do that: https://www.sqlite.org/foreignkeys.html.  Then create the comments table with the correct constraints:\n",
    "\n",
    "<div style=\"background-color:lemonchiffon; border:1px solid; padding:5px; margin:5px; font-weight:bold\"><font color=\"crimson\">\n",
    "TODO: Complete the following code cell\n",
    "    </font></div>"
   ]
  },
  {
   "cell_type": "code",
   "execution_count": null,
   "metadata": {},
   "outputs": [],
   "source": [
    "# Run the CREATE TABLE statement for the comments table, including the primary key constraint and the 2 foreign key constraints\n",
    "# TODO"
   ]
  },
  {
   "cell_type": "code",
   "execution_count": 58,
   "metadata": {},
   "outputs": [
    {
     "name": "stdout",
     "output_type": "stream",
     "text": [
      " * sqlite:///chatdata.db\n",
      "Done.\n"
     ]
    },
    {
     "data": {
      "text/plain": [
       "[]"
      ]
     },
     "execution_count": 58,
     "metadata": {},
     "output_type": "execute_result"
    }
   ],
   "source": [
    "%%sql\n",
    "CREATE TABLE \"comments\" (\n",
    "\"Id\" INTEGER PRIMARY KEY,\n",
    "\"PostId\" INTEGER,\n",
    "\"Score\" INTEGER,\n",
    "\"Text\" TEXT,\n",
    "\"CreationDate\" TEXT,\n",
    "\"UserId\" INTEGER,\n",
    " FOREIGN KEY(PostId) REFERENCES posts(Id),\n",
    " FOREIGN KEY(UserId) REFERENCES users(Id)\n",
    ");"
   ]
  },
  {
   "cell_type": "markdown",
   "metadata": {},
   "source": [
    "Now we can re-insert the data into these constrained tables.  First users:"
   ]
  },
  {
   "cell_type": "code",
   "execution_count": 59,
   "metadata": {},
   "outputs": [
    {
     "data": {
      "text/plain": [
       "18412"
      ]
     },
     "execution_count": 59,
     "metadata": {},
     "output_type": "execute_result"
    }
   ],
   "source": [
    "# Insert data into the new users table\n",
    "users.to_sql('users', con, if_exists='append', index=False)"
   ]
  },
  {
   "cell_type": "markdown",
   "metadata": {},
   "source": [
    "Now posts:\n",
    "\n",
    "<div style=\"background-color:lemonchiffon; border:1px solid; padding:5px; margin:5px; font-weight:bold\"><font color=\"crimson\">\n",
    "TODO: Complete the following code cell\n",
    "    </font></div>"
   ]
  },
  {
   "cell_type": "code",
   "execution_count": 60,
   "metadata": {},
   "outputs": [
    {
     "data": {
      "text/plain": [
       "42234"
      ]
     },
     "execution_count": 60,
     "metadata": {},
     "output_type": "execute_result"
    }
   ],
   "source": [
    "# Insert data into the new posts table\n",
    "posts.to_sql('posts',con,if_exists='append',index=False)"
   ]
  },
  {
   "cell_type": "markdown",
   "metadata": {},
   "source": [
    "Finally comments, which references the users and posts tables:\n",
    "\n",
    "<div style=\"background-color:lemonchiffon; border:1px solid; padding:5px; margin:5px; font-weight:bold\"><font color=\"crimson\">\n",
    "TODO: Complete the following code cell\n",
    "    </font></div>"
   ]
  },
  {
   "cell_type": "code",
   "execution_count": 61,
   "metadata": {},
   "outputs": [
    {
     "data": {
      "text/plain": [
       "50000"
      ]
     },
     "execution_count": 61,
     "metadata": {},
     "output_type": "execute_result"
    }
   ],
   "source": [
    "# Insert data into the new comments table\n",
    "comments.to_sql('comments',con,if_exists='append',index=False)"
   ]
  },
  {
   "cell_type": "markdown",
   "metadata": {},
   "source": [
    "Now check that we have the 3 new table definitions in Sqlite:"
   ]
  },
  {
   "cell_type": "code",
   "execution_count": 62,
   "metadata": {},
   "outputs": [
    {
     "name": "stdout",
     "output_type": "stream",
     "text": [
      " * sqlite:///chatdata.db\n",
      "Done.\n"
     ]
    },
    {
     "data": {
      "text/html": [
       "<table>\n",
       "    <tr>\n",
       "        <th>name</th>\n",
       "    </tr>\n",
       "    <tr>\n",
       "        <td>comments</td>\n",
       "    </tr>\n",
       "    <tr>\n",
       "        <td>posts</td>\n",
       "    </tr>\n",
       "    <tr>\n",
       "        <td>users</td>\n",
       "    </tr>\n",
       "</table>"
      ],
      "text/plain": [
       "[('comments',), ('posts',), ('users',)]"
      ]
     },
     "execution_count": 62,
     "metadata": {},
     "output_type": "execute_result"
    }
   ],
   "source": [
    "%%sql\n",
    "SELECT name FROM sqlite_master WHERE type='table'\n",
    "    ORDER BY name"
   ]
  },
  {
   "cell_type": "markdown",
   "metadata": {},
   "source": [
    "We now have all the data in tables in Sqlite and the tables will enforce the referential integrity."
   ]
  },
  {
   "cell_type": "markdown",
   "metadata": {},
   "source": [
    "# Example Query and Pattern for Tasks 2 and 3\n",
    "\n",
    "As you work through the next tasks, you will need to:\n",
    "\n",
    "1. Prepare the Sqlite query to answer the question\n",
    "2. Test it\n",
    "3. Insert it into the `queries` table, so we have a record of it for others.\n",
    "\n",
    "This is the process that we want you to follow for this project while completing it. "
   ]
  },
  {
   "cell_type": "markdown",
   "metadata": {},
   "source": [
    "Let's see an example of this by answering the following question:\n",
    "\n",
    "**Which 5 users have viewed the most times and what is the sum of those views per user?**\n",
    "\n",
    "## Prepare the Sqlite query\n",
    "\n",
    "First, let's write the query:"
   ]
  },
  {
   "cell_type": "code",
   "execution_count": 63,
   "metadata": {},
   "outputs": [
    {
     "data": {
      "text/html": [
       "<div>\n",
       "<style scoped>\n",
       "    .dataframe tbody tr th:only-of-type {\n",
       "        vertical-align: middle;\n",
       "    }\n",
       "\n",
       "    .dataframe tbody tr th {\n",
       "        vertical-align: top;\n",
       "    }\n",
       "\n",
       "    .dataframe thead th {\n",
       "        text-align: right;\n",
       "    }\n",
       "</style>\n",
       "<table border=\"1\" class=\"dataframe\">\n",
       "  <thead>\n",
       "    <tr style=\"text-align: right;\">\n",
       "      <th></th>\n",
       "      <th>Id</th>\n",
       "      <th>TotalViews</th>\n",
       "    </tr>\n",
       "  </thead>\n",
       "  <tbody>\n",
       "    <tr>\n",
       "      <th>0</th>\n",
       "      <td>919</td>\n",
       "      <td>85180</td>\n",
       "    </tr>\n",
       "    <tr>\n",
       "      <th>1</th>\n",
       "      <td>4253</td>\n",
       "      <td>35119</td>\n",
       "    </tr>\n",
       "    <tr>\n",
       "      <th>2</th>\n",
       "      <td>805</td>\n",
       "      <td>34637</td>\n",
       "    </tr>\n",
       "    <tr>\n",
       "      <th>3</th>\n",
       "      <td>7290</td>\n",
       "      <td>32639</td>\n",
       "    </tr>\n",
       "    <tr>\n",
       "      <th>4</th>\n",
       "      <td>3277</td>\n",
       "      <td>29255</td>\n",
       "    </tr>\n",
       "  </tbody>\n",
       "</table>\n",
       "</div>"
      ],
      "text/plain": [
       "     Id  TotalViews\n",
       "0   919       85180\n",
       "1  4253       35119\n",
       "2   805       34637\n",
       "3  7290       32639\n",
       "4  3277       29255"
      ]
     },
     "execution_count": 63,
     "metadata": {},
     "output_type": "execute_result"
    }
   ],
   "source": [
    "sql = \"\"\"\n",
    "SELECT Id, SUM(Views) AS TotalViews\n",
    "    FROM Users\n",
    "        GROUP BY Id\n",
    "            ORDER BY TotalViews DESC\n",
    "                LIMIT 5\n",
    "                \"\"\"\n",
    "result = pd.read_sql(sql, con) # con is the connection to the database\n",
    "result"
   ]
  },
  {
   "cell_type": "markdown",
   "metadata": {},
   "source": [
    "## Test the query\n",
    "You can optionally prove the query worked by performing the same query in Pandas:"
   ]
  },
  {
   "cell_type": "code",
   "execution_count": 64,
   "metadata": {},
   "outputs": [
    {
     "data": {
      "text/plain": [
       "Id\n",
       "919     85180\n",
       "4253    35119\n",
       "805     34637\n",
       "7290    32639\n",
       "3277    29255\n",
       "Name: Views, dtype: int64"
      ]
     },
     "execution_count": 64,
     "metadata": {},
     "output_type": "execute_result"
    }
   ],
   "source": [
    "results = users.groupby(['Id']).sum().sort_values('Views', ascending = False)[:5]\n",
    "results['Views']"
   ]
  },
  {
   "cell_type": "markdown",
   "metadata": {},
   "source": [
    "## Insert the query into the `queries` table\n",
    "Now we need to put this query into the `queries` table in sqlite. Remember we want these queries to be accessible to everybody that should have access to them. We do not want people writing and rewriting the same queires over and over again. The easiest thing to do is create a dictionary with the values and insert these into the queries table.  Note that the values are provided as lists as we are inserting a list of values (i.e. a number of rows) into the table.  In this case the number of rows is 1, so we have lists of 1 item.\n",
    "\n",
    "So here, we have a column called 'task' with a list of values, a column called 'action' with a list of values, etc."
   ]
  },
  {
   "cell_type": "code",
   "execution_count": 65,
   "metadata": {},
   "outputs": [
    {
     "data": {
      "text/plain": [
       "{'task': ['Single Table Queries'],\n",
       " 'action': ['Which 5 users have viewed the most times and what is the sum of those views per user?'],\n",
       " 'query': ['\\nSELECT Id, SUM(Views) AS TotalViews\\n    FROM Users\\n        GROUP BY Id\\n            ORDER BY TotalViews DESC\\n                LIMIT 5\\n                ']}"
      ]
     },
     "execution_count": 65,
     "metadata": {},
     "output_type": "execute_result"
    }
   ],
   "source": [
    "query_dict = {\n",
    "              'task': ['Single Table Queries'],\n",
    "              'action': ['Which 5 users have viewed the most times and what is the sum of those views per user?'],\n",
    "              'query': [sql]\n",
    "             }\n",
    "query_dict"
   ]
  },
  {
   "cell_type": "markdown",
   "metadata": {},
   "source": [
    "Now that you have the data structure (query_dict) containing the data, create a pandas dataframe that holds those values:"
   ]
  },
  {
   "cell_type": "code",
   "execution_count": 66,
   "metadata": {},
   "outputs": [
    {
     "data": {
      "text/html": [
       "<div>\n",
       "<style scoped>\n",
       "    .dataframe tbody tr th:only-of-type {\n",
       "        vertical-align: middle;\n",
       "    }\n",
       "\n",
       "    .dataframe tbody tr th {\n",
       "        vertical-align: top;\n",
       "    }\n",
       "\n",
       "    .dataframe thead th {\n",
       "        text-align: right;\n",
       "    }\n",
       "</style>\n",
       "<table border=\"1\" class=\"dataframe\">\n",
       "  <thead>\n",
       "    <tr style=\"text-align: right;\">\n",
       "      <th></th>\n",
       "      <th>task</th>\n",
       "      <th>action</th>\n",
       "      <th>query</th>\n",
       "    </tr>\n",
       "  </thead>\n",
       "  <tbody>\n",
       "    <tr>\n",
       "      <th>0</th>\n",
       "      <td>Single Table Queries</td>\n",
       "      <td>Which 5 users have viewed the most times and w...</td>\n",
       "      <td>\\nSELECT Id, SUM(Views) AS TotalViews\\n    FRO...</td>\n",
       "    </tr>\n",
       "  </tbody>\n",
       "</table>\n",
       "</div>"
      ],
      "text/plain": [
       "                   task                                             action  \\\n",
       "0  Single Table Queries  Which 5 users have viewed the most times and w...   \n",
       "\n",
       "                                               query  \n",
       "0  \\nSELECT Id, SUM(Views) AS TotalViews\\n    FRO...  "
      ]
     },
     "execution_count": 66,
     "metadata": {},
     "output_type": "execute_result"
    }
   ],
   "source": [
    "queries = pd.DataFrame(query_dict)\n",
    "queries"
   ]
  },
  {
   "cell_type": "markdown",
   "metadata": {},
   "source": [
    "Now load that pandas dataframe (queries) into the sqlite table called queries. In this case, you use append NOT replace. You will be adding to this tables as you go thru this project."
   ]
  },
  {
   "cell_type": "code",
   "execution_count": 67,
   "metadata": {},
   "outputs": [
    {
     "data": {
      "text/html": [
       "<div>\n",
       "<style scoped>\n",
       "    .dataframe tbody tr th:only-of-type {\n",
       "        vertical-align: middle;\n",
       "    }\n",
       "\n",
       "    .dataframe tbody tr th {\n",
       "        vertical-align: top;\n",
       "    }\n",
       "\n",
       "    .dataframe thead th {\n",
       "        text-align: right;\n",
       "    }\n",
       "</style>\n",
       "<table border=\"1\" class=\"dataframe\">\n",
       "  <thead>\n",
       "    <tr style=\"text-align: right;\">\n",
       "      <th></th>\n",
       "      <th>task</th>\n",
       "      <th>action</th>\n",
       "      <th>query</th>\n",
       "    </tr>\n",
       "  </thead>\n",
       "  <tbody>\n",
       "    <tr>\n",
       "      <th>0</th>\n",
       "      <td>Single Table Queries</td>\n",
       "      <td>Which 5 users have viewed the most times and w...</td>\n",
       "      <td>\\nSELECT Id, SUM(Views) AS TotalViews\\n    FRO...</td>\n",
       "    </tr>\n",
       "  </tbody>\n",
       "</table>\n",
       "</div>"
      ],
      "text/plain": [
       "                   task                                             action  \\\n",
       "0  Single Table Queries  Which 5 users have viewed the most times and w...   \n",
       "\n",
       "                                               query  \n",
       "0  \\nSELECT Id, SUM(Views) AS TotalViews\\n    FRO...  "
      ]
     },
     "execution_count": 67,
     "metadata": {},
     "output_type": "execute_result"
    }
   ],
   "source": [
    "# load query into sqlite\n",
    "queries.to_sql('queries', con, if_exists='append', index=False)\n",
    "\n",
    "# read back in to prove that it worked\n",
    "sql = 'SELECT * FROM queries'\n",
    "queries = pd.read_sql(sql, con)\n",
    "queries.head()"
   ]
  },
  {
   "cell_type": "markdown",
   "metadata": {},
   "source": [
    "It is likely that as you iterate thru this notebook you will create some duplicate entries in the query table. Not a big deal. Just tell sql or pandas (much easier in pandas) to drop the duplicates! If you drop the duplicates in Pandas you will have to write the entire dataframe back to sqlite. Otherwise it is changed in memory in Pandas but NOT in sqlite on the disk drive (or SDD). Just do this drop at the end of this notebook so that you are not constantly dealing with this. "
   ]
  },
  {
   "cell_type": "markdown",
   "metadata": {},
   "source": [
    "So, to summarise, as you go through the following tasks you need to:\n",
    "\n",
    "- answer the question in sql\n",
    "- prove it in pandas (if you want to)\n",
    "- put the query into the queries table"
   ]
  },
  {
   "cell_type": "markdown",
   "metadata": {},
   "source": [
    "# Task 1 (continued): Insert the CREATE TABLE Statements into the `queries` Table\n",
    "\n",
    "Now that we understand how to populate the `queries` table, let's insert the CREATE TABLE statements into it.  First let's define a function to help us insert into the queries table:\n"
   ]
  },
  {
   "cell_type": "code",
   "execution_count": 72,
   "metadata": {},
   "outputs": [],
   "source": [
    "# Define a function that will insert into the queries table\n",
    "def store_query(task, action, query):\n",
    "    query_dict = {\n",
    "                  'task': [task],\n",
    "                  'action': [action],\n",
    "                  'query': [query]\n",
    "                 }\n",
    "\n",
    "    # put query into the query_dict\n",
    "    queries = pd.DataFrame(query_dict)\n",
    "\n",
    "    # load query into sqlite\n",
    "    queries.to_sql('queries', con, if_exists='append', index=False)    "
   ]
  },
  {
   "cell_type": "markdown",
   "metadata": {},
   "source": [
    "Now we can specify the queries and call the above function to store them.  The first one is done for you."
   ]
  },
  {
   "cell_type": "code",
   "execution_count": 73,
   "metadata": {},
   "outputs": [],
   "source": [
    "sql = \"\"\"\n",
    "    CREATE TABLE \"comments\" (\n",
    "    \"Id\" INTEGER,\n",
    "    \"PostId\" INTEGER,\n",
    "    \"Score\" INTEGER,\n",
    "    \"Text\" TEXT,\n",
    "    \"CreationDate\" TEXT,\n",
    "    \"UserId\" INTEGER\n",
    "    )\n",
    "    \"\"\"\n",
    "store_query(\"Task 1\", \"Create table comments\", sql)"
   ]
  },
  {
   "cell_type": "markdown",
   "metadata": {},
   "source": [
    "Let's prove it works by selecting back from the queries table:"
   ]
  },
  {
   "cell_type": "code",
   "execution_count": 74,
   "metadata": {},
   "outputs": [
    {
     "name": "stdout",
     "output_type": "stream",
     "text": [
      " * sqlite:///chatdata.db\n",
      "Done.\n"
     ]
    },
    {
     "data": {
      "text/html": [
       "<table>\n",
       "    <tr>\n",
       "        <th>task</th>\n",
       "        <th>action</th>\n",
       "        <th>query</th>\n",
       "    </tr>\n",
       "    <tr>\n",
       "        <td>Single Table Queries</td>\n",
       "        <td>Which 5 users have viewed the most times and what is the sum of those views per user?</td>\n",
       "        <td><br>SELECT Id, SUM(Views) AS TotalViews<br>    FROM Users<br>        GROUP BY Id<br>            ORDER BY TotalViews DESC<br>                LIMIT 5<br>                </td>\n",
       "    </tr>\n",
       "    <tr>\n",
       "        <td>Task 1</td>\n",
       "        <td>Create table comments</td>\n",
       "        <td><br>    CREATE TABLE &quot;comments&quot; (<br>    &quot;Id&quot; INTEGER,<br>    &quot;PostId&quot; INTEGER,<br>    &quot;Score&quot; INTEGER,<br>    &quot;Text&quot; TEXT,<br>    &quot;CreationDate&quot; TEXT,<br>    &quot;UserId&quot; INTEGER<br>    )<br>    </td>\n",
       "    </tr>\n",
       "    <tr>\n",
       "        <td>Task 1</td>\n",
       "        <td>Create table comments</td>\n",
       "        <td><br>    CREATE TABLE &quot;comments&quot; (<br>    &quot;Id&quot; INTEGER,<br>    &quot;PostId&quot; INTEGER,<br>    &quot;Score&quot; INTEGER,<br>    &quot;Text&quot; TEXT,<br>    &quot;CreationDate&quot; TEXT,<br>    &quot;UserId&quot; INTEGER<br>    )<br>    </td>\n",
       "    </tr>\n",
       "</table>"
      ],
      "text/plain": [
       "[('Single Table Queries', 'Which 5 users have viewed the most times and what is the sum of those views per user?', '\\nSELECT Id, SUM(Views) AS TotalViews\\n    FROM Users\\n        GROUP BY Id\\n            ORDER BY TotalViews DESC\\n                LIMIT 5\\n                '),\n",
       " ('Task 1', 'Create table comments', '\\n    CREATE TABLE \"comments\" (\\n    \"Id\" INTEGER,\\n    \"PostId\" INTEGER,\\n    \"Score\" INTEGER,\\n    \"Text\" TEXT,\\n    \"CreationDate\" TEXT,\\n    \"UserId\" INTEGER\\n    )\\n    '),\n",
       " ('Task 1', 'Create table comments', '\\n    CREATE TABLE \"comments\" (\\n    \"Id\" INTEGER,\\n    \"PostId\" INTEGER,\\n    \"Score\" INTEGER,\\n    \"Text\" TEXT,\\n    \"CreationDate\" TEXT,\\n    \"UserId\" INTEGER\\n    )\\n    ')]"
      ]
     },
     "execution_count": 74,
     "metadata": {},
     "output_type": "execute_result"
    }
   ],
   "source": [
    "# Prove it works\n",
    "%sql SELECT * FROM queries"
   ]
  },
  {
   "cell_type": "markdown",
   "metadata": {},
   "source": [
    "## Insert the other CREATE TABLE statements into the `queries` table.\n",
    "Follow the above pattern to complete these code cells:\n",
    "\n",
    "<div style=\"background-color:lemonchiffon; border:1px solid; padding:5px; margin:5px; font-weight:bold\"><font color=\"crimson\">\n",
    "TODO: Complete the following code cells\n",
    "    </font></div>"
   ]
  },
  {
   "cell_type": "code",
   "execution_count": 75,
   "metadata": {},
   "outputs": [],
   "source": [
    "# Insert the CREATE TABLE for posts into the queries table\n",
    "sql = \"\"\"\n",
    "    CREATE TABLE \"posts\" (\n",
    "        \"Id\" INTEGER NOT NULL PRIMARY KEY,\n",
    "        \"PostTypeId\" INTEGER,\n",
    "        \"AcceptedAnswerId\" INTEGER,\n",
    "        \"ParentId\" INTEGER,\n",
    "        \"CreationDate\" TEXT,\n",
    "        \"Score\" INTEGER,\n",
    "        \"ViewCount\" INTEGER,\n",
    "        \"Body\" TEXT,\n",
    "        \"OwnerUserId\" INTEGER,\n",
    "        \"OwnerDisplayName\" TEXT,\n",
    "        \"LastEditorUserId\" INTEGER,\n",
    "        \"LastEditorDisplayName\" TEXT,\n",
    "        \"LastEditDate\" TEXT,\n",
    "        \"LastActivityDate\" TEXT,\n",
    "        \"Title\" TEXT,\n",
    "        \"Tags\" TEXT,\n",
    "        \"AnswerCount\" INTEGER,\n",
    "        \"CommentCount\" INTEGER,\n",
    "        \"FavoriteCount\" INTEGER,\n",
    "        \"ClosedDate\" TEXT,\n",
    "        \"CommunityOwnedDate\" TEXT,\n",
    "        FOREIGN KEY(OwnerUserId) REFERENCES users(Id)\n",
    "        )\n",
    "    \"\"\"\n",
    "store_query(\"Task 1\", \"Create table posts\", sql)\n"
   ]
  },
  {
   "cell_type": "code",
   "execution_count": 76,
   "metadata": {},
   "outputs": [],
   "source": [
    "# Insert the CREATE TABLE for users into the queries table\n",
    "sql = \"\"\"\n",
    "    CREATE TABLE \"users\" (\n",
    "        \"Id\" INTEGER NOT NULL PRIMARY KEY,\n",
    "        \"Reputation\" INTEGER,\n",
    "        \"CreationDate\" TEXT,\n",
    "        \"DisplayName\" TEXT,\n",
    "        \"LastAccessDate\" TEXT,\n",
    "        \"WebsiteUrl\" TEXT,\n",
    "        \"Location\" TEXT,\n",
    "        \"AboutMe\" TEXT,\n",
    "        \"Views\" INTEGER,\n",
    "        \"UpVotes\" INTEGER,\n",
    "        \"DownVotes\" INTEGER,\n",
    "        \"ProfileImageUrl\" TEXT,\n",
    "        \"AccountId\" INTEGER\n",
    "        )\n",
    "    \"\"\"\n",
    "store_query(\"Task 1\", \"Create table users\", sql)\n",
    "\n"
   ]
  },
  {
   "cell_type": "code",
   "execution_count": 77,
   "metadata": {},
   "outputs": [
    {
     "data": {
      "text/html": [
       "<div>\n",
       "<style scoped>\n",
       "    .dataframe tbody tr th:only-of-type {\n",
       "        vertical-align: middle;\n",
       "    }\n",
       "\n",
       "    .dataframe tbody tr th {\n",
       "        vertical-align: top;\n",
       "    }\n",
       "\n",
       "    .dataframe thead th {\n",
       "        text-align: right;\n",
       "    }\n",
       "</style>\n",
       "<table border=\"1\" class=\"dataframe\">\n",
       "  <thead>\n",
       "    <tr style=\"text-align: right;\">\n",
       "      <th></th>\n",
       "      <th>task</th>\n",
       "      <th>action</th>\n",
       "      <th>query</th>\n",
       "    </tr>\n",
       "  </thead>\n",
       "  <tbody>\n",
       "    <tr>\n",
       "      <th>0</th>\n",
       "      <td>Single Table Queries</td>\n",
       "      <td>Which 5 users have viewed the most times and w...</td>\n",
       "      <td>\\nSELECT Id, SUM(Views) AS TotalViews\\n    FRO...</td>\n",
       "    </tr>\n",
       "    <tr>\n",
       "      <th>1</th>\n",
       "      <td>Task 1</td>\n",
       "      <td>Create table comments</td>\n",
       "      <td>\\n    CREATE TABLE \"comments\" (\\n    \"Id\" INTE...</td>\n",
       "    </tr>\n",
       "    <tr>\n",
       "      <th>2</th>\n",
       "      <td>Task 1</td>\n",
       "      <td>Create table comments</td>\n",
       "      <td>\\n    CREATE TABLE \"comments\" (\\n    \"Id\" INTE...</td>\n",
       "    </tr>\n",
       "    <tr>\n",
       "      <th>3</th>\n",
       "      <td>Task 1</td>\n",
       "      <td>Create table posts</td>\n",
       "      <td>\\n    CREATE TABLE \"posts\" (\\n        \"Id\" INT...</td>\n",
       "    </tr>\n",
       "    <tr>\n",
       "      <th>4</th>\n",
       "      <td>Task 1</td>\n",
       "      <td>Create table users</td>\n",
       "      <td>\\n    CREATE TABLE \"users\" (\\n        \"Id\" INT...</td>\n",
       "    </tr>\n",
       "  </tbody>\n",
       "</table>\n",
       "</div>"
      ],
      "text/plain": [
       "                   task                                             action  \\\n",
       "0  Single Table Queries  Which 5 users have viewed the most times and w...   \n",
       "1                Task 1                              Create table comments   \n",
       "2                Task 1                              Create table comments   \n",
       "3                Task 1                                 Create table posts   \n",
       "4                Task 1                                 Create table users   \n",
       "\n",
       "                                               query  \n",
       "0  \\nSELECT Id, SUM(Views) AS TotalViews\\n    FRO...  \n",
       "1  \\n    CREATE TABLE \"comments\" (\\n    \"Id\" INTE...  \n",
       "2  \\n    CREATE TABLE \"comments\" (\\n    \"Id\" INTE...  \n",
       "3  \\n    CREATE TABLE \"posts\" (\\n        \"Id\" INT...  \n",
       "4  \\n    CREATE TABLE \"users\" (\\n        \"Id\" INT...  "
      ]
     },
     "execution_count": 77,
     "metadata": {},
     "output_type": "execute_result"
    }
   ],
   "source": [
    "# Confirm that the data is stored\n",
    "sql=\"\"\"\n",
    "     SELECT * FROM queries\n",
    "    \"\"\"\n",
    "queries=pd.read_sql(sql,con)\n",
    "queries"
   ]
  },
  {
   "cell_type": "markdown",
   "metadata": {},
   "source": [
    "## Count the Number of Rows in Each Table\n",
    "Run some queries to count the number of rows in each of the tables.  Don't forget to insert the query into the queries table.\n",
    "\n",
    "<div style=\"background-color:lemonchiffon; border:1px solid; padding:5px; margin:5px; font-weight:bold\"><font color=\"crimson\">\n",
    "TODO: Complete the following code cells\n",
    "    </font></div>"
   ]
  },
  {
   "cell_type": "code",
   "execution_count": 83,
   "metadata": {},
   "outputs": [
    {
     "data": {
      "text/html": [
       "<div>\n",
       "<style scoped>\n",
       "    .dataframe tbody tr th:only-of-type {\n",
       "        vertical-align: middle;\n",
       "    }\n",
       "\n",
       "    .dataframe tbody tr th {\n",
       "        vertical-align: top;\n",
       "    }\n",
       "\n",
       "    .dataframe thead th {\n",
       "        text-align: right;\n",
       "    }\n",
       "</style>\n",
       "<table border=\"1\" class=\"dataframe\">\n",
       "  <thead>\n",
       "    <tr style=\"text-align: right;\">\n",
       "      <th></th>\n",
       "      <th>count(*)</th>\n",
       "    </tr>\n",
       "  </thead>\n",
       "  <tbody>\n",
       "    <tr>\n",
       "      <th>0</th>\n",
       "      <td>50000</td>\n",
       "    </tr>\n",
       "  </tbody>\n",
       "</table>\n",
       "</div>"
      ],
      "text/plain": [
       "   count(*)\n",
       "0     50000"
      ]
     },
     "execution_count": 83,
     "metadata": {},
     "output_type": "execute_result"
    }
   ],
   "source": [
    "# Count the number of rows in the comments table\n",
    "sql = \"\"\"\n",
    "    SELECT count(*) \n",
    "    FROM \"comments\" \n",
    "    \"\"\"\n",
    "count_row_comments=pd.read_sql(sql,con)\n",
    "store_query(\"Task 1\", \"Count the number of rows in the comments table\", sql)\n",
    "count_row_comments\n"
   ]
  },
  {
   "cell_type": "code",
   "execution_count": 84,
   "metadata": {},
   "outputs": [
    {
     "name": "stdout",
     "output_type": "stream",
     "text": [
      " * sqlite:///chatdata.db\n",
      "0 rows affected.\n"
     ]
    },
    {
     "data": {
      "text/plain": [
       "[]"
      ]
     },
     "execution_count": 84,
     "metadata": {},
     "output_type": "execute_result"
    }
   ],
   "source": [
    "%%sql\n",
    "DELETE FROM queries WHERE action = \"Run the query to select 5 random rows from the posts table\""
   ]
  },
  {
   "cell_type": "code",
   "execution_count": 85,
   "metadata": {},
   "outputs": [
    {
     "data": {
      "text/html": [
       "<div>\n",
       "<style scoped>\n",
       "    .dataframe tbody tr th:only-of-type {\n",
       "        vertical-align: middle;\n",
       "    }\n",
       "\n",
       "    .dataframe tbody tr th {\n",
       "        vertical-align: top;\n",
       "    }\n",
       "\n",
       "    .dataframe thead th {\n",
       "        text-align: right;\n",
       "    }\n",
       "</style>\n",
       "<table border=\"1\" class=\"dataframe\">\n",
       "  <thead>\n",
       "    <tr style=\"text-align: right;\">\n",
       "      <th></th>\n",
       "      <th>count(*)</th>\n",
       "    </tr>\n",
       "  </thead>\n",
       "  <tbody>\n",
       "    <tr>\n",
       "      <th>0</th>\n",
       "      <td>18412</td>\n",
       "    </tr>\n",
       "  </tbody>\n",
       "</table>\n",
       "</div>"
      ],
      "text/plain": [
       "   count(*)\n",
       "0     18412"
      ]
     },
     "execution_count": 85,
     "metadata": {},
     "output_type": "execute_result"
    }
   ],
   "source": [
    "# Count the number of rows in the users table\n",
    "sql = \"\"\"\n",
    "    SELECT count(*) \n",
    "    FROM \"users\" \n",
    "    \"\"\"\n",
    "count_row_users=pd.read_sql(sql,con)\n",
    "store_query(\"Task 1\", \"Count the number of rows in the users table\", sql)\n",
    "count_row_users\n"
   ]
  },
  {
   "cell_type": "code",
   "execution_count": 86,
   "metadata": {},
   "outputs": [
    {
     "data": {
      "text/html": [
       "<div>\n",
       "<style scoped>\n",
       "    .dataframe tbody tr th:only-of-type {\n",
       "        vertical-align: middle;\n",
       "    }\n",
       "\n",
       "    .dataframe tbody tr th {\n",
       "        vertical-align: top;\n",
       "    }\n",
       "\n",
       "    .dataframe thead th {\n",
       "        text-align: right;\n",
       "    }\n",
       "</style>\n",
       "<table border=\"1\" class=\"dataframe\">\n",
       "  <thead>\n",
       "    <tr style=\"text-align: right;\">\n",
       "      <th></th>\n",
       "      <th>count(*)</th>\n",
       "    </tr>\n",
       "  </thead>\n",
       "  <tbody>\n",
       "    <tr>\n",
       "      <th>0</th>\n",
       "      <td>18412</td>\n",
       "    </tr>\n",
       "  </tbody>\n",
       "</table>\n",
       "</div>"
      ],
      "text/plain": [
       "   count(*)\n",
       "0     18412"
      ]
     },
     "execution_count": 86,
     "metadata": {},
     "output_type": "execute_result"
    }
   ],
   "source": [
    "# Count the number of rows in the posts table\n",
    "sql = \"\"\"\n",
    "    SELECT count(*) \n",
    "    FROM \"posts\" \n",
    "    \"\"\"\n",
    "count_row_posts=pd.read_sql(sql,con)\n",
    "store_query(\"Task 1\", \"Count the number of rows in the posts table\", sql)\n",
    "count_row_users\n"
   ]
  },
  {
   "cell_type": "markdown",
   "metadata": {},
   "source": [
    "## Do some Random Checks on the Data\n",
    "Let's write some queries that select 5 random rows from each table.  The queries are provided here:\n",
    "\n",
    "    select * from Comments order by random() limit 5;\n",
    "    select * from Users order by random() limit 5;\n",
    "    select * from Posts order by random() limit 5;\n",
    "\n",
    "Enter the queries into the code cells below and insert the queries into the `queries` table in the same was as you did for the CREATE TABLE statements.\n",
    "\n",
    "<div style=\"background-color:lemonchiffon; border:1px solid; padding:5px; margin:5px; font-weight:bold\"><font color=\"crimson\">\n",
    "TODO: Complete the following code cells\n",
    "    </font></div>"
   ]
  },
  {
   "cell_type": "code",
   "execution_count": 8,
   "metadata": {},
   "outputs": [
    {
     "ename": "SyntaxError",
     "evalue": "invalid syntax (239578101.py, line 4)",
     "output_type": "error",
     "traceback": [
      "\u001b[1;36m  File \u001b[1;32m\"C:\\Users\\fuadm\\AppData\\Local\\Temp\\ipykernel_6920\\239578101.py\"\u001b[1;36m, line \u001b[1;32m4\u001b[0m\n\u001b[1;33m    SELECT * FROM comments\u001b[0m\n\u001b[1;37m                  ^\u001b[0m\n\u001b[1;31mSyntaxError\u001b[0m\u001b[1;31m:\u001b[0m invalid syntax\n"
     ]
    }
   ],
   "source": [
    "# Run the query to select 5 random rows from the comments table\n",
    "\n",
    "%%sql\n",
    "SELECT * FROM comments \n",
    "ORDER BY RANDOM() \n",
    "LIMIT 5;"
   ]
  },
  {
   "cell_type": "code",
   "execution_count": 9,
   "metadata": {},
   "outputs": [
    {
     "ename": "SyntaxError",
     "evalue": "invalid syntax (77995286.py, line 3)",
     "output_type": "error",
     "traceback": [
      "\u001b[1;36m  File \u001b[1;32m\"C:\\Users\\fuadm\\AppData\\Local\\Temp\\ipykernel_6920\\77995286.py\"\u001b[1;36m, line \u001b[1;32m3\u001b[0m\n\u001b[1;33m    SELECT * FROM posts\u001b[0m\n\u001b[1;37m                  ^\u001b[0m\n\u001b[1;31mSyntaxError\u001b[0m\u001b[1;31m:\u001b[0m invalid syntax\n"
     ]
    }
   ],
   "source": [
    "# Run the query to select 5 random rows from the posts comments\n",
    "%%sql\n",
    "SELECT * FROM posts \n",
    "ORDER BY RANDOM() \n",
    "LIMIT 5;"
   ]
  },
  {
   "cell_type": "code",
   "execution_count": 7,
   "metadata": {},
   "outputs": [
    {
     "ename": "SyntaxError",
     "evalue": "invalid syntax (1026295550.py, line 3)",
     "output_type": "error",
     "traceback": [
      "\u001b[1;36m  File \u001b[1;32m\"C:\\Users\\fuadm\\AppData\\Local\\Temp\\ipykernel_6920\\1026295550.py\"\u001b[1;36m, line \u001b[1;32m3\u001b[0m\n\u001b[1;33m    SELECT * FROM users\u001b[0m\n\u001b[1;37m                  ^\u001b[0m\n\u001b[1;31mSyntaxError\u001b[0m\u001b[1;31m:\u001b[0m invalid syntax\n"
     ]
    }
   ],
   "source": [
    "# Run the query to select 5 random rows from the users table\n",
    "%%sql\n",
    "SELECT * FROM users \n",
    "ORDER BY RANDOM() \n",
    "LIMIT 5;\n"
   ]
  },
  {
   "cell_type": "markdown",
   "metadata": {},
   "source": [
    "# Task 2: Create Single Table Queries\n"
   ]
  },
  {
   "cell_type": "markdown",
   "metadata": {},
   "source": [
    "## Lifecycle Stage: Analyze\n",
    "We can now start the analysis with our single-table queries.  First we need to create a new computed column to help with one of the queries.  The code below creates a column called LEN_BODY which is the length of the BODY text:\n"
   ]
  },
  {
   "cell_type": "code",
   "execution_count": 109,
   "metadata": {},
   "outputs": [
    {
     "name": "stdout",
     "output_type": "stream",
     "text": [
      " * sqlite:///chatdata.db\n",
      "Done.\n"
     ]
    },
    {
     "data": {
      "text/plain": [
       "[]"
      ]
     },
     "execution_count": 109,
     "metadata": {},
     "output_type": "execute_result"
    }
   ],
   "source": [
    "%%sql\n",
    "ALTER TABLE POSTS ADD COLUMN LEN_BODY INT"
   ]
  },
  {
   "cell_type": "code",
   "execution_count": 110,
   "metadata": {},
   "outputs": [
    {
     "name": "stdout",
     "output_type": "stream",
     "text": [
      " * sqlite:///chatdata.db\n",
      "42234 rows affected.\n"
     ]
    },
    {
     "data": {
      "text/plain": [
       "[]"
      ]
     },
     "execution_count": 110,
     "metadata": {},
     "output_type": "execute_result"
    }
   ],
   "source": [
    "%%sql\n",
    "UPDATE POSTS SET LEN_BODY = LENGTH(BODY)"
   ]
  },
  {
   "cell_type": "markdown",
   "metadata": {},
   "source": [
    "### Single Table Queries\n",
    "From the Template SQL Queries there are a series of queries requested. You are responsible for coding the result. Use the pattern above to accomplish the coding objective.  Copy and paste the question (column B Action) into a markdown cell and answer the query. Use the pattern that you have been using above. \n",
    "\n",
    "<div style=\"background-color:lemonchiffon; border:1px solid; padding:5px; margin:5px; font-weight:bold\"><font color=\"crimson\">\n",
    "TODO: Enter your code below.  Just keep on inserting cells as you need them.\n",
    "    </font></div>"
   ]
  },
  {
   "cell_type": "code",
   "execution_count": 111,
   "metadata": {},
   "outputs": [
    {
     "name": "stdout",
     "output_type": "stream",
     "text": [
      " * sqlite:///chatdata.db\n",
      "Done.\n"
     ]
    },
    {
     "data": {
      "text/html": [
       "<table>\n",
       "    <tr>\n",
       "        <th>Count</th>\n",
       "    </tr>\n",
       "    <tr>\n",
       "        <td>21713</td>\n",
       "    </tr>\n",
       "</table>"
      ],
      "text/plain": [
       "[(21713,)]"
      ]
     },
     "execution_count": 111,
     "metadata": {},
     "output_type": "execute_result"
    }
   ],
   "source": [
    "%%sql\n",
    "SELECT count(*) as Count FROM posts WHERE CommentCount = 0;\n"
   ]
  },
  {
   "cell_type": "code",
   "execution_count": 113,
   "metadata": {},
   "outputs": [
    {
     "data": {
      "text/plain": [
       "21713"
      ]
     },
     "execution_count": 113,
     "metadata": {},
     "output_type": "execute_result"
    }
   ],
   "source": [
    "# Confirm using Pandas\n",
    "\n",
    "count=posts[posts['CommentCount']==0]\n",
    "len(count)"
   ]
  },
  {
   "cell_type": "code",
   "execution_count": 114,
   "metadata": {},
   "outputs": [],
   "source": [
    "# insert the queries into the queries table \n",
    "sql =\"\"\"\n",
    "    SELECT count(*) as Count FROM posts \n",
    "    WHERE CommentCount = 0;\n",
    "    \"\"\"\n",
    "store_query('task 2','How many posts have 0 comments',sql)\n"
   ]
  },
  {
   "cell_type": "markdown",
   "metadata": {},
   "source": [
    "How many posts have 1 comments?"
   ]
  },
  {
   "cell_type": "code",
   "execution_count": 115,
   "metadata": {},
   "outputs": [
    {
     "name": "stdout",
     "output_type": "stream",
     "text": [
      " * sqlite:///chatdata.db\n",
      "Done.\n"
     ]
    },
    {
     "data": {
      "text/html": [
       "<table>\n",
       "    <tr>\n",
       "        <th>Count</th>\n",
       "    </tr>\n",
       "    <tr>\n",
       "        <td>6460</td>\n",
       "    </tr>\n",
       "</table>"
      ],
      "text/plain": [
       "[(6460,)]"
      ]
     },
     "execution_count": 115,
     "metadata": {},
     "output_type": "execute_result"
    }
   ],
   "source": [
    "%%sql\n",
    "SELECT count(*) as Count FROM posts WHERE CommentCount = 1;"
   ]
  },
  {
   "cell_type": "code",
   "execution_count": 116,
   "metadata": {},
   "outputs": [
    {
     "data": {
      "text/plain": [
       "6460"
      ]
     },
     "execution_count": 116,
     "metadata": {},
     "output_type": "execute_result"
    }
   ],
   "source": [
    "# Confirm using Pandas\n",
    "count=posts[posts['CommentCount']==1]\n",
    "len(count)"
   ]
  },
  {
   "cell_type": "code",
   "execution_count": 117,
   "metadata": {},
   "outputs": [],
   "source": [
    "# insert the queries into the queries table \n",
    "sql =\"\"\"\n",
    "    SELECT count(*) as Count FROM posts \n",
    "    WHERE CommentCount = 1;\n",
    "    \"\"\"\n",
    "store_query('task 2','How many posts have 1 comments',sql)"
   ]
  },
  {
   "cell_type": "markdown",
   "metadata": {},
   "source": [
    "HOW MANY POSTS HAVE 2 COMMENTS OR MORE?"
   ]
  },
  {
   "cell_type": "code",
   "execution_count": 118,
   "metadata": {},
   "outputs": [
    {
     "name": "stdout",
     "output_type": "stream",
     "text": [
      " * sqlite:///chatdata.db\n",
      "Done.\n"
     ]
    },
    {
     "data": {
      "text/html": [
       "<table>\n",
       "    <tr>\n",
       "        <th>Count</th>\n",
       "    </tr>\n",
       "    <tr>\n",
       "        <td>14061</td>\n",
       "    </tr>\n",
       "</table>"
      ],
      "text/plain": [
       "[(14061,)]"
      ]
     },
     "execution_count": 118,
     "metadata": {},
     "output_type": "execute_result"
    }
   ],
   "source": [
    "%%sql\n",
    "SELECT count(*) as Count FROM posts WHERE CommentCount >= 2;"
   ]
  },
  {
   "cell_type": "code",
   "execution_count": 119,
   "metadata": {},
   "outputs": [
    {
     "data": {
      "text/plain": [
       "14061"
      ]
     },
     "execution_count": 119,
     "metadata": {},
     "output_type": "execute_result"
    }
   ],
   "source": [
    "# Confirm using Pandas\n",
    "count=posts[posts['CommentCount']>=2]\n",
    "len(count)"
   ]
  },
  {
   "cell_type": "code",
   "execution_count": 120,
   "metadata": {},
   "outputs": [],
   "source": [
    "# insert the queries into the queries table \n",
    "sql =\"\"\"\n",
    "    SELECT count(*) as Count FROM posts \n",
    "    WHERE CommentCount >= 2;\n",
    "    \"\"\"\n",
    "store_query('task 2','How many posts have 2 comments or more',sql)"
   ]
  },
  {
   "cell_type": "markdown",
   "metadata": {},
   "source": [
    "FIND THE 5 POSTS WITH THE HIGHEST VIEW COUNT"
   ]
  },
  {
   "cell_type": "code",
   "execution_count": 121,
   "metadata": {},
   "outputs": [
    {
     "name": "stdout",
     "output_type": "stream",
     "text": [
      " * sqlite:///chatdata.db\n",
      "Done.\n"
     ]
    },
    {
     "data": {
      "text/html": [
       "<table>\n",
       "    <tr>\n",
       "        <th>Id</th>\n",
       "        <th>PostTypeId</th>\n",
       "        <th>AcceptedAnswerId</th>\n",
       "        <th>ParentId</th>\n",
       "        <th>CreationDate</th>\n",
       "        <th>Score</th>\n",
       "        <th>ViewCount</th>\n",
       "        <th>Body</th>\n",
       "        <th>OwnerUserId</th>\n",
       "        <th>OwnerDisplayName</th>\n",
       "        <th>LastEditorUserId</th>\n",
       "        <th>LastEditorDisplayName</th>\n",
       "        <th>LastEditDate</th>\n",
       "        <th>LastActivityDate</th>\n",
       "        <th>Title</th>\n",
       "        <th>Tags</th>\n",
       "        <th>AnswerCount</th>\n",
       "        <th>CommentCount</th>\n",
       "        <th>FavoriteCount</th>\n",
       "        <th>ClosedDate</th>\n",
       "        <th>CommunityOwnedDate</th>\n",
       "        <th>LEN_BODY</th>\n",
       "    </tr>\n",
       "    <tr>\n",
       "        <td>388566</td>\n",
       "        <td>1</td>\n",
       "        <td>388582</td>\n",
       "        <td>0</td>\n",
       "        <td>2019-01-22 15:16:47</td>\n",
       "        <td>56</td>\n",
       "        <td>19542</td>\n",
       "        <td>&lt;ul&gt;<br>&lt;li&gt;Statement One (S1): &quot;One in 80 deaths is caused by a car accident.&quot;&lt;/li&gt;<br>&lt;li&gt;Statement Two (S2): &quot;One in 80 people dies as a result of a car accident.&quot;&lt;/li&gt;<br>&lt;/ul&gt;<br><br>&lt;p&gt;Now, I personally don&#x27;t see very much difference at all between these two statements. When writing, I would consider them interchangeable to a lay audience. However, I&#x27;ve been challenged on this by two people now, and am looking for some additional perspective.&lt;/p&gt;<br><br>&lt;p&gt;My default interpretation of S2 is, &quot;Of 80 people drawn uniformly at random from the population of humans, we would expect one of them to die as a result of a car accident&quot;- and I do consider this qualified statement equivalent to S1. &lt;/p&gt;<br><br>&lt;p&gt;My questions are as follows:&lt;/p&gt;<br><br>&lt;ul&gt;<br>&lt;li&gt;&lt;p&gt;Q1) Is my default interpretation indeed equivalent to Statement One?&lt;/p&gt;&lt;/li&gt;<br>&lt;li&gt;&lt;p&gt;Q2) Is unusual or reckless for this to be my default interpretation?&lt;/p&gt;&lt;/li&gt;<br>&lt;li&gt;&lt;p&gt;Q3) If you do think S1 and S2 different, such that to state the second when one means the first is misleading/incorrect, could you please provide a fully-qualified revision of S2 that is equivalent?&lt;/p&gt;&lt;/li&gt;<br>&lt;/ul&gt;<br><br>&lt;p&gt;Let&#x27;s put aside the obvious quibble that S1 does not specifically refer to human deaths and assume that that is understood in context. Let us also put aside any discussion of the veracity of the claim itself: it is meant to be illustrative.&lt;/p&gt;<br><br>&lt;p&gt;As best I can tell, the disagreements I&#x27;ve heard so far seem to center around defaulting to different interpretations of the first and second statement.&lt;/p&gt;<br><br>&lt;p&gt;For the first, my challengers seem to interpret it as as 1/80 * num_deaths = number of deaths caused by car accidents, but for some reason, default to a different interpretation of the second along the lines of, &quot;if you have any set of 80 people, one of them &lt;em&gt;will&lt;/em&gt; die in a car accident&quot; (which is obviously not an equivalent claim). I would think that given their interpretation of S1, their default for S2 would be to read it as (1/80 * num_dead_people = number of people who died in a car accident == number of deaths caused by car accident). I&#x27;m not sure why the discrepancy in interpretation (their default for S2 is a much stronger assumption), or if they have some innate statistical sense that I&#x27;m in fact lacking. &lt;/p&gt;<br></td>\n",
       "        <td>228214</td>\n",
       "        <td>None</td>\n",
       "        <td>164061</td>\n",
       "        <td>None</td>\n",
       "        <td>2019-01-22 21:40:39</td>\n",
       "        <td>2019-01-24 17:09:47</td>\n",
       "        <td>Is it wrong to rephrase &quot;1 in 80 deaths is caused by a car accident&quot; as &quot;1 in 80 people die as a result of a car accident?&quot;</td>\n",
       "        <td>&lt;interpretation&gt;&lt;risk&gt;</td>\n",
       "        <td>9</td>\n",
       "        <td>15</td>\n",
       "        <td>15</td>\n",
       "        <td>None</td>\n",
       "        <td>None</td>\n",
       "        <td>2270</td>\n",
       "    </tr>\n",
       "    <tr>\n",
       "        <td>394118</td>\n",
       "        <td>1</td>\n",
       "        <td>394128</td>\n",
       "        <td>0</td>\n",
       "        <td>2019-02-24 14:07:11</td>\n",
       "        <td>64</td>\n",
       "        <td>16317</td>\n",
       "        <td>&lt;p&gt;A human child at age 2 needs around 5 instances of a car to be able to identify it with reasonable accuracy regardless of color, make, etc. When my son was 2, he was able to identify trams and trains, even though he had seen just a few. Since he was usually confusing one with each other, apparently his neural network was not trained enough, but still.&lt;/p&gt;<br><br>&lt;p&gt;What is it that artificial neural networks are missing that prevent them from being able to learn way quicker? Is transfer learning an answer?&lt;/p&gt;<br></td>\n",
       "        <td>107213</td>\n",
       "        <td>None</td>\n",
       "        <td>7291</td>\n",
       "        <td>None</td>\n",
       "        <td>2019-02-25 22:40:22</td>\n",
       "        <td>2019-03-03 17:37:05</td>\n",
       "        <td>Why do neural networks need so many training examples to perform?</td>\n",
       "        <td>&lt;neural-networks&gt;&lt;neuroscience&gt;</td>\n",
       "        <td>12</td>\n",
       "        <td>24</td>\n",
       "        <td>38</td>\n",
       "        <td>None</td>\n",
       "        <td>None</td>\n",
       "        <td>512</td>\n",
       "    </tr>\n",
       "    <tr>\n",
       "        <td>431370</td>\n",
       "        <td>1</td>\n",
       "        <td>431397</td>\n",
       "        <td>0</td>\n",
       "        <td>2019-10-14 11:29:21</td>\n",
       "        <td>77</td>\n",
       "        <td>11723</td>\n",
       "        <td>&lt;p&gt;It seems very counter intuitive to many people that a given diagnostic test with very high accuracy (say 99%) can generate massively more false positives than true positives in some situations, namely where the population of true positives is very small compared to whole population.&lt;/p&gt;<br><br>&lt;p&gt;I see people making this mistake often e.g. when arguing for wider public health screenings, or wider anti-crime surveillance measures etc but I am at a loss for how to succinctly describe the mistake people are making.&lt;/p&gt;<br><br>&lt;p&gt;Does this phenomenon / statistical fallacy have a name? Failing that has anyone got a good, terse, jargon free intuition/example that would help me explain it to a lay person.&lt;/p&gt;<br><br>&lt;p&gt;Apologies if this is the wrong forum to ask this. If so please direct me to a more appropriate one.&lt;/p&gt;<br></td>\n",
       "        <td>262594</td>\n",
       "        <td>None</td>\n",
       "        <td>11887</td>\n",
       "        <td>None</td>\n",
       "        <td>2019-11-28 01:44:34</td>\n",
       "        <td>2019-11-28 01:44:34</td>\n",
       "        <td>Is there a name for the phenomenon of false positives counterintuitively outstripping true positives</td>\n",
       "        <td>&lt;probability&gt;&lt;terminology&gt;&lt;intuition&gt;</td>\n",
       "        <td>8</td>\n",
       "        <td>9</td>\n",
       "        <td>18</td>\n",
       "        <td>None</td>\n",
       "        <td>None</td>\n",
       "        <td>811</td>\n",
       "    </tr>\n",
       "    <tr>\n",
       "        <td>398646</td>\n",
       "        <td>1</td>\n",
       "        <td>398653</td>\n",
       "        <td>0</td>\n",
       "        <td>2019-03-21 01:19:52</td>\n",
       "        <td>61</td>\n",
       "        <td>9850</td>\n",
       "        <td>&lt;p&gt;The title of the Comment in Nature &lt;a href=&quot;https://www.nature.com/articles/d41586-019-00857-9&quot; rel=&quot;noreferrer&quot;&gt;Scientists rise up against statistical significance&lt;/a&gt; begins with:&lt;/p&gt;<br><br>&lt;blockquote&gt;<br>  &lt;p&gt;Valentin Amrhein, Sander Greenland, Blake McShane and more than 800 signatories call for an end to hyped claims and the dismissal of possibly crucial effects.&lt;/p&gt;<br>&lt;/blockquote&gt;<br><br>&lt;p&gt;and later contains statements like:&lt;/p&gt;<br><br>&lt;blockquote&gt;<br>  &lt;p&gt;Again, we are not advocating a ban on P values, confidence intervals or other statistical measures — only that we should not treat them categorically. This includes dichotomization as statistically significant or not, as well as categorization based on other statistical measures such as Bayes factors.&lt;/p&gt;<br>&lt;/blockquote&gt;<br><br>&lt;p&gt;I think I can grasp that the image below does not say that the two studies disagree because one &quot;rules out&quot; no effect while the other does not. But the article seems to go into much more depth than I can understand. &lt;/p&gt;<br><br>&lt;p&gt;Towards the end there seems to be a summary in four points. Is it possible to summarize these in even simpler terms for those of us who &lt;em&gt;read statistics&lt;/em&gt; rather than write it?&lt;/p&gt;<br><br>&lt;blockquote&gt;<br>  &lt;p&gt;When talking about compatibility intervals, bear in mind four things. &lt;/p&gt;<br>  <br>  &lt;ul&gt;<br>  &lt;li&gt;&lt;p&gt;First, just because the interval gives the values most compatible with the data, given the assumptions, it doesn’t mean values outside it are incompatible; they are just less compatible...&lt;/p&gt;&lt;/li&gt;<br>  &lt;li&gt;&lt;p&gt;Second, not all values inside are equally compatible with the data, given the assumptions...&lt;/p&gt;&lt;/li&gt;<br>  &lt;li&gt;&lt;p&gt;Third, like the 0.05 threshold from which it came, the default 95% used to compute intervals is itself an arbitrary convention...&lt;/p&gt;&lt;/li&gt;<br>  &lt;li&gt;&lt;p&gt;Last, and most important of all, be humble: compatibility assessments hinge on the correctness of the statistical assumptions used to compute the interval...&lt;/p&gt;&lt;/li&gt;<br>  &lt;/ul&gt;<br>&lt;/blockquote&gt;<br><br>&lt;hr&gt;<br><br>&lt;p&gt;&lt;a href=&quot;https://i.stack.imgur.com/tgpft.jpg&quot; rel=&quot;noreferrer&quot;&gt;&lt;img src=&quot;https://i.stack.imgur.com/tgpft.jpg&quot; alt=&quot;Nature: Scientists rise up against statistical significance&quot;&gt;&lt;/a&gt;&lt;/p&gt;<br></td>\n",
       "        <td>163067</td>\n",
       "        <td>None</td>\n",
       "        <td>163067</td>\n",
       "        <td>None</td>\n",
       "        <td>2019-03-22 22:14:04</td>\n",
       "        <td>2019-03-30 19:35:27</td>\n",
       "        <td>What does &quot;Scientists rise up against statistical significance&quot; mean? (Comment in Nature)</td>\n",
       "        <td>&lt;statistical-significance&gt;&lt;p-value&gt;&lt;bias&gt;</td>\n",
       "        <td>10</td>\n",
       "        <td>7</td>\n",
       "        <td>34</td>\n",
       "        <td>None</td>\n",
       "        <td>None</td>\n",
       "        <td>2148</td>\n",
       "    </tr>\n",
       "    <tr>\n",
       "        <td>434128</td>\n",
       "        <td>1</td>\n",
       "        <td>434579</td>\n",
       "        <td>0</td>\n",
       "        <td>2019-11-01 13:07:36</td>\n",
       "        <td>73</td>\n",
       "        <td>6718</td>\n",
       "        <td>&lt;p&gt;I am designing a one year program in data analysis with a local community college. The program aims to prepare students to handle basic tasks in data analysis, visualization and summarization, advanced Excel skills and R programming. &lt;/p&gt;<br><br>&lt;p&gt;I would like to prepare a set of short, real world examples that illustrate where ordinary intuition fails and statistical analysis is necessary. I&#x27;m also interested in &quot;famous statistical fails&quot;, but more interested in the wins. The data involved should be freely available.&lt;/p&gt;<br><br>&lt;p&gt;A perfect example of what I&#x27;m looking for is the Berkeley discrimination case, which illustrates Simpson&#x27;s paradox. The data for that is memorialized in R&#x27;s datasets. &lt;/p&gt;<br><br>&lt;p&gt;Historical cases are also interesting. John Snow&#x27;s analysis of the Broad Street pump data is a good example of the power of visualization.&lt;/p&gt;<br><br>&lt;p&gt;There are a lot of fails in the collection of data (selection bias), etc. and the literature in medical statistics is full of them. &lt;/p&gt;<br><br>&lt;p&gt;A lot of &quot;statistical wins&quot; occur in the area of variable selection and sampling design. I&#x27;m interested in paradoxes that occur in other areas -- like the analysis as such. &lt;/p&gt;<br></td>\n",
       "        <td>14188</td>\n",
       "        <td>None</td>\n",
       "        <td>0</td>\n",
       "        <td>None</td>\n",
       "        <td>None</td>\n",
       "        <td>2019-11-26 00:59:15</td>\n",
       "        <td>Famous statistical wins and horror stories for teaching purposes</td>\n",
       "        <td>&lt;mathematical-statistics&gt;&lt;data-visualization&gt;&lt;experiment-design&gt;&lt;teaching&gt;</td>\n",
       "        <td>13</td>\n",
       "        <td>7</td>\n",
       "        <td>70</td>\n",
       "        <td>None</td>\n",
       "        <td>2019-11-01 15:12:41</td>\n",
       "        <td>1172</td>\n",
       "    </tr>\n",
       "</table>"
      ],
      "text/plain": [
       "[(388566, 1, 388582, 0, '2019-01-22 15:16:47', 56, 19542, '<ul>\\n<li>Statement One (S1): \"One in 80 deaths is caused by a car accident.\"</li>\\n<li>Statement Two (S2): \"One in 80 people dies as a result of a c ... (2000 characters truncated) ...  interpretation (their default for S2 is a much stronger assumption), or if they have some innate statistical sense that I\\'m in fact lacking. </p>\\n', 228214, None, 164061, None, '2019-01-22 21:40:39', '2019-01-24 17:09:47', 'Is it wrong to rephrase \"1 in 80 deaths is caused by a car accident\" as \"1 in 80 people die as a result of a car accident?\"', '<interpretation><risk>', 9, 15, 15, None, None, 2270),\n",
       " (394118, 1, 394128, 0, '2019-02-24 14:07:11', 64, 16317, '<p>A human child at age 2 needs around 5 instances of a car to be able to identify it with reasonable accuracy regardless of color, make, etc. When m ... (217 characters truncated) ... >What is it that artificial neural networks are missing that prevent them from being able to learn way quicker? Is transfer learning an answer?</p>\\n', 107213, None, 7291, None, '2019-02-25 22:40:22', '2019-03-03 17:37:05', 'Why do neural networks need so many training examples to perform?', '<neural-networks><neuroscience>', 12, 24, 38, None, None, 512),\n",
       " (431370, 1, 431397, 0, '2019-10-14 11:29:21', 77, 11723, '<p>It seems very counter intuitive to many people that a given diagnostic test with very high accuracy (say 99%) can generate massively more false po ... (520 characters truncated) ... lp me explain it to a lay person.</p>\\n\\n<p>Apologies if this is the wrong forum to ask this. If so please direct me to a more appropriate one.</p>\\n', 262594, None, 11887, None, '2019-11-28 01:44:34', '2019-11-28 01:44:34', 'Is there a name for the phenomenon of false positives counterintuitively outstripping true positives', '<probability><terminology><intuition>', 8, 9, 18, None, None, 811),\n",
       " (398646, 1, 398653, 0, '2019-03-21 01:19:52', 61, 9850, '<p>The title of the Comment in Nature <a href=\"https://www.nature.com/articles/d41586-019-00857-9\" rel=\"noreferrer\">Scientists rise up against statis ... (1880 characters truncated) ... pft.jpg\" rel=\"noreferrer\"><img src=\"https://i.stack.imgur.com/tgpft.jpg\" alt=\"Nature: Scientists rise up against statistical significance\"></a></p>\\n', 163067, None, 163067, None, '2019-03-22 22:14:04', '2019-03-30 19:35:27', 'What does \"Scientists rise up against statistical significance\" mean? (Comment in Nature)', '<statistical-significance><p-value><bias>', 10, 7, 34, None, None, 2148),\n",
       " (434128, 1, 434579, 0, '2019-11-01 13:07:36', 73, 6718, '<p>I am designing a one year program in data analysis with a local community college. The program aims to prepare students to handle basic tasks in d ... (891 characters truncated) ... ur in the area of variable selection and sampling design. I\\'m interested in paradoxes that occur in other areas -- like the analysis as such. </p>\\n', 14188, None, 0, None, None, '2019-11-26 00:59:15', 'Famous statistical wins and horror stories for teaching purposes', '<mathematical-statistics><data-visualization><experiment-design><teaching>', 13, 7, 70, None, '2019-11-01 15:12:41', 1172)]"
      ]
     },
     "execution_count": 121,
     "metadata": {},
     "output_type": "execute_result"
    }
   ],
   "source": [
    "%%sql \n",
    "SELECT * FROM posts \n",
    "    ORDER BY ViewCount DESC\n",
    "        LIMIT 5;\n"
   ]
  },
  {
   "cell_type": "code",
   "execution_count": 122,
   "metadata": {},
   "outputs": [
    {
     "data": {
      "text/html": [
       "<div>\n",
       "<style scoped>\n",
       "    .dataframe tbody tr th:only-of-type {\n",
       "        vertical-align: middle;\n",
       "    }\n",
       "\n",
       "    .dataframe tbody tr th {\n",
       "        vertical-align: top;\n",
       "    }\n",
       "\n",
       "    .dataframe thead th {\n",
       "        text-align: right;\n",
       "    }\n",
       "</style>\n",
       "<table border=\"1\" class=\"dataframe\">\n",
       "  <thead>\n",
       "    <tr style=\"text-align: right;\">\n",
       "      <th></th>\n",
       "      <th>Id</th>\n",
       "      <th>PostTypeId</th>\n",
       "      <th>AcceptedAnswerId</th>\n",
       "      <th>ParentId</th>\n",
       "      <th>CreationDate</th>\n",
       "      <th>Score</th>\n",
       "      <th>ViewCount</th>\n",
       "      <th>Body</th>\n",
       "      <th>OwnerUserId</th>\n",
       "      <th>OwnerDisplayName</th>\n",
       "      <th>...</th>\n",
       "      <th>LastEditorDisplayName</th>\n",
       "      <th>LastEditDate</th>\n",
       "      <th>LastActivityDate</th>\n",
       "      <th>Title</th>\n",
       "      <th>Tags</th>\n",
       "      <th>AnswerCount</th>\n",
       "      <th>CommentCount</th>\n",
       "      <th>FavoriteCount</th>\n",
       "      <th>ClosedDate</th>\n",
       "      <th>CommunityOwnedDate</th>\n",
       "    </tr>\n",
       "  </thead>\n",
       "  <tbody>\n",
       "    <tr>\n",
       "      <th>2756</th>\n",
       "      <td>388566</td>\n",
       "      <td>1</td>\n",
       "      <td>388582</td>\n",
       "      <td>0</td>\n",
       "      <td>2019-01-22 15:16:47</td>\n",
       "      <td>56</td>\n",
       "      <td>19542</td>\n",
       "      <td>&lt;ul&gt;\\n&lt;li&gt;Statement One (S1): \"One in 80 death...</td>\n",
       "      <td>228214</td>\n",
       "      <td>None</td>\n",
       "      <td>...</td>\n",
       "      <td>None</td>\n",
       "      <td>2019-01-22 21:40:39</td>\n",
       "      <td>2019-01-24 17:09:47</td>\n",
       "      <td>Is it wrong to rephrase \"1 in 80 deaths is cau...</td>\n",
       "      <td>&lt;interpretation&gt;&lt;risk&gt;</td>\n",
       "      <td>9</td>\n",
       "      <td>15</td>\n",
       "      <td>15</td>\n",
       "      <td>None</td>\n",
       "      <td>None</td>\n",
       "    </tr>\n",
       "    <tr>\n",
       "      <th>7166</th>\n",
       "      <td>394118</td>\n",
       "      <td>1</td>\n",
       "      <td>394128</td>\n",
       "      <td>0</td>\n",
       "      <td>2019-02-24 14:07:11</td>\n",
       "      <td>64</td>\n",
       "      <td>16317</td>\n",
       "      <td>&lt;p&gt;A human child at age 2 needs around 5 insta...</td>\n",
       "      <td>107213</td>\n",
       "      <td>None</td>\n",
       "      <td>...</td>\n",
       "      <td>None</td>\n",
       "      <td>2019-02-25 22:40:22</td>\n",
       "      <td>2019-03-03 17:37:05</td>\n",
       "      <td>Why do neural networks need so many training e...</td>\n",
       "      <td>&lt;neural-networks&gt;&lt;neuroscience&gt;</td>\n",
       "      <td>12</td>\n",
       "      <td>24</td>\n",
       "      <td>38</td>\n",
       "      <td>None</td>\n",
       "      <td>None</td>\n",
       "    </tr>\n",
       "    <tr>\n",
       "      <th>36077</th>\n",
       "      <td>431370</td>\n",
       "      <td>1</td>\n",
       "      <td>431397</td>\n",
       "      <td>0</td>\n",
       "      <td>2019-10-14 11:29:21</td>\n",
       "      <td>77</td>\n",
       "      <td>11723</td>\n",
       "      <td>&lt;p&gt;It seems very counter intuitive to many peo...</td>\n",
       "      <td>262594</td>\n",
       "      <td>None</td>\n",
       "      <td>...</td>\n",
       "      <td>None</td>\n",
       "      <td>2019-11-28 01:44:34</td>\n",
       "      <td>2019-11-28 01:44:34</td>\n",
       "      <td>Is there a name for the phenomenon of false po...</td>\n",
       "      <td>&lt;probability&gt;&lt;terminology&gt;&lt;intuition&gt;</td>\n",
       "      <td>8</td>\n",
       "      <td>9</td>\n",
       "      <td>18</td>\n",
       "      <td>None</td>\n",
       "      <td>None</td>\n",
       "    </tr>\n",
       "    <tr>\n",
       "      <th>10833</th>\n",
       "      <td>398646</td>\n",
       "      <td>1</td>\n",
       "      <td>398653</td>\n",
       "      <td>0</td>\n",
       "      <td>2019-03-21 01:19:52</td>\n",
       "      <td>61</td>\n",
       "      <td>9850</td>\n",
       "      <td>&lt;p&gt;The title of the Comment in Nature &lt;a href=...</td>\n",
       "      <td>163067</td>\n",
       "      <td>None</td>\n",
       "      <td>...</td>\n",
       "      <td>None</td>\n",
       "      <td>2019-03-22 22:14:04</td>\n",
       "      <td>2019-03-30 19:35:27</td>\n",
       "      <td>What does \"Scientists rise up against statisti...</td>\n",
       "      <td>&lt;statistical-significance&gt;&lt;p-value&gt;&lt;bias&gt;</td>\n",
       "      <td>10</td>\n",
       "      <td>7</td>\n",
       "      <td>34</td>\n",
       "      <td>None</td>\n",
       "      <td>None</td>\n",
       "    </tr>\n",
       "    <tr>\n",
       "      <th>38317</th>\n",
       "      <td>434128</td>\n",
       "      <td>1</td>\n",
       "      <td>434579</td>\n",
       "      <td>0</td>\n",
       "      <td>2019-11-01 13:07:36</td>\n",
       "      <td>73</td>\n",
       "      <td>6718</td>\n",
       "      <td>&lt;p&gt;I am designing a one year program in data a...</td>\n",
       "      <td>14188</td>\n",
       "      <td>None</td>\n",
       "      <td>...</td>\n",
       "      <td>None</td>\n",
       "      <td>None</td>\n",
       "      <td>2019-11-26 00:59:15</td>\n",
       "      <td>Famous statistical wins and horror stories for...</td>\n",
       "      <td>&lt;mathematical-statistics&gt;&lt;data-visualization&gt;&lt;...</td>\n",
       "      <td>13</td>\n",
       "      <td>7</td>\n",
       "      <td>70</td>\n",
       "      <td>None</td>\n",
       "      <td>2019-11-01 15:12:41</td>\n",
       "    </tr>\n",
       "  </tbody>\n",
       "</table>\n",
       "<p>5 rows × 21 columns</p>\n",
       "</div>"
      ],
      "text/plain": [
       "           Id  PostTypeId  AcceptedAnswerId  ParentId         CreationDate  \\\n",
       "2756   388566           1            388582         0  2019-01-22 15:16:47   \n",
       "7166   394118           1            394128         0  2019-02-24 14:07:11   \n",
       "36077  431370           1            431397         0  2019-10-14 11:29:21   \n",
       "10833  398646           1            398653         0  2019-03-21 01:19:52   \n",
       "38317  434128           1            434579         0  2019-11-01 13:07:36   \n",
       "\n",
       "       Score  ViewCount                                               Body  \\\n",
       "2756      56      19542  <ul>\\n<li>Statement One (S1): \"One in 80 death...   \n",
       "7166      64      16317  <p>A human child at age 2 needs around 5 insta...   \n",
       "36077     77      11723  <p>It seems very counter intuitive to many peo...   \n",
       "10833     61       9850  <p>The title of the Comment in Nature <a href=...   \n",
       "38317     73       6718  <p>I am designing a one year program in data a...   \n",
       "\n",
       "       OwnerUserId OwnerDisplayName  ...  LastEditorDisplayName  \\\n",
       "2756        228214             None  ...                   None   \n",
       "7166        107213             None  ...                   None   \n",
       "36077       262594             None  ...                   None   \n",
       "10833       163067             None  ...                   None   \n",
       "38317        14188             None  ...                   None   \n",
       "\n",
       "              LastEditDate     LastActivityDate  \\\n",
       "2756   2019-01-22 21:40:39  2019-01-24 17:09:47   \n",
       "7166   2019-02-25 22:40:22  2019-03-03 17:37:05   \n",
       "36077  2019-11-28 01:44:34  2019-11-28 01:44:34   \n",
       "10833  2019-03-22 22:14:04  2019-03-30 19:35:27   \n",
       "38317                 None  2019-11-26 00:59:15   \n",
       "\n",
       "                                                   Title  \\\n",
       "2756   Is it wrong to rephrase \"1 in 80 deaths is cau...   \n",
       "7166   Why do neural networks need so many training e...   \n",
       "36077  Is there a name for the phenomenon of false po...   \n",
       "10833  What does \"Scientists rise up against statisti...   \n",
       "38317  Famous statistical wins and horror stories for...   \n",
       "\n",
       "                                                    Tags AnswerCount  \\\n",
       "2756                              <interpretation><risk>           9   \n",
       "7166                     <neural-networks><neuroscience>          12   \n",
       "36077              <probability><terminology><intuition>           8   \n",
       "10833          <statistical-significance><p-value><bias>          10   \n",
       "38317  <mathematical-statistics><data-visualization><...          13   \n",
       "\n",
       "       CommentCount  FavoriteCount  ClosedDate   CommunityOwnedDate  \n",
       "2756             15             15        None                 None  \n",
       "7166             24             38        None                 None  \n",
       "36077             9             18        None                 None  \n",
       "10833             7             34        None                 None  \n",
       "38317             7             70        None  2019-11-01 15:12:41  \n",
       "\n",
       "[5 rows x 21 columns]"
      ]
     },
     "execution_count": 122,
     "metadata": {},
     "output_type": "execute_result"
    }
   ],
   "source": [
    "# Confirm using Pandas\n",
    "posts.sort_values(by='ViewCount',ascending=False)[:5]"
   ]
  },
  {
   "cell_type": "code",
   "execution_count": 123,
   "metadata": {},
   "outputs": [],
   "source": [
    "# insert the queries into the queries table \n",
    "sql =\"\"\"\n",
    "    SELECT * FROM posts \n",
    "    ORDER BY ViewCount DESC\n",
    "    LIMIT 5;\n",
    "    \"\"\"\n",
    "store_query('task 2','Find the 5 posts with the highest viewcount',sql)"
   ]
  },
  {
   "cell_type": "markdown",
   "metadata": {},
   "source": [
    "FIND THE TOP 5 POSTS WITH THE HIGHEST SCORES"
   ]
  },
  {
   "cell_type": "code",
   "execution_count": 124,
   "metadata": {},
   "outputs": [
    {
     "name": "stdout",
     "output_type": "stream",
     "text": [
      " * sqlite:///chatdata.db\n",
      "Done.\n"
     ]
    },
    {
     "data": {
      "text/html": [
       "<table>\n",
       "    <tr>\n",
       "        <th>Id</th>\n",
       "        <th>PostTypeId</th>\n",
       "        <th>AcceptedAnswerId</th>\n",
       "        <th>ParentId</th>\n",
       "        <th>CreationDate</th>\n",
       "        <th>Score</th>\n",
       "        <th>ViewCount</th>\n",
       "        <th>Body</th>\n",
       "        <th>OwnerUserId</th>\n",
       "        <th>OwnerDisplayName</th>\n",
       "        <th>LastEditorUserId</th>\n",
       "        <th>LastEditorDisplayName</th>\n",
       "        <th>LastEditDate</th>\n",
       "        <th>LastActivityDate</th>\n",
       "        <th>Title</th>\n",
       "        <th>Tags</th>\n",
       "        <th>AnswerCount</th>\n",
       "        <th>CommentCount</th>\n",
       "        <th>FavoriteCount</th>\n",
       "        <th>ClosedDate</th>\n",
       "        <th>CommunityOwnedDate</th>\n",
       "        <th>LEN_BODY</th>\n",
       "    </tr>\n",
       "    <tr>\n",
       "        <td>431397</td>\n",
       "        <td>2</td>\n",
       "        <td>0</td>\n",
       "        <td>431370</td>\n",
       "        <td>2019-10-14 14:29:36</td>\n",
       "        <td>101</td>\n",
       "        <td>0</td>\n",
       "        <td>&lt;p&gt;Yes there is. Generally it is termed &lt;strong&gt;base rate fallacy&lt;/strong&gt; or more specific &lt;strong&gt;false positive paradox&lt;/strong&gt;. There is even a wikipedia article about it: &lt;a href=&quot;https://en.wikipedia.org/wiki/Base_rate_fallacy&quot; rel=&quot;noreferrer&quot;&gt;see here&lt;/a&gt;&lt;/p&gt;<br></td>\n",
       "        <td>142976</td>\n",
       "        <td>None</td>\n",
       "        <td>0</td>\n",
       "        <td>None</td>\n",
       "        <td>None</td>\n",
       "        <td>2019-10-14 14:29:36</td>\n",
       "        <td>None</td>\n",
       "        <td>None</td>\n",
       "        <td>0</td>\n",
       "        <td>0</td>\n",
       "        <td>0</td>\n",
       "        <td>None</td>\n",
       "        <td>None</td>\n",
       "        <td>269</td>\n",
       "    </tr>\n",
       "    <tr>\n",
       "        <td>394128</td>\n",
       "        <td>2</td>\n",
       "        <td>0</td>\n",
       "        <td>394118</td>\n",
       "        <td>2019-02-24 15:44:44</td>\n",
       "        <td>100</td>\n",
       "        <td>0</td>\n",
       "        <td>&lt;p&gt;I caution against expecting strong resemblance between biological and artificial neural networks. I think the name &quot;neural networks&quot; is a bit dangerous, because it tricks people into expecting that neurological processes and machine learning should be the same. The differences between biological and artificial neural networks outweigh the similarities.&lt;/p&gt;<br><br>&lt;p&gt;As an example of how this can go awry, you can also turn the reasoning in the original post on its head. You can train a neural network to learn to recognize cars in an afternoon, provided you have a reasonably fast computer and some amount of training data. You can make this a binary task (car/not car) or a multi-class task (car/tram/bike/airplane/boat) and still be confident in a high level of success. &lt;/p&gt;<br><br>&lt;p&gt;By contrast, I wouldn&#x27;t expect a child to be able to pick out a car the day - or even the week - after it&#x27;s born, even after it has seen &quot;so many training examples.&quot; Something is obviously different between a two-year-old and an infant that accounts for the difference in learning ability, whereas a vanilla image classification neural network is perfectly capable of picking up object classification &lt;em&gt;immediately&lt;/em&gt; after &quot;birth.&quot; I think that there are two important differences: (1) the relative volumes of training data available and (2) a self-teaching mechanism that develops over time because of abundant training data.&lt;/p&gt;<br><br>&lt;hr&gt;<br><br>&lt;p&gt;The original post exposes two questions. The title and body of the question ask why neural networks need &quot;so many examples.&quot; Relative to a child&#x27;s experience, neural networks trained using common image benchmarks have comparatively little data.&lt;/p&gt;<br><br>&lt;p&gt;I will re-phrases the question in the title to &lt;/p&gt;<br><br>&lt;h1&gt;&quot;How does training a neural network for a common image benchmark compare &amp;amp; contrast to the learning experience of a child?&quot;&lt;/h1&gt;<br><br>&lt;p&gt;For the sake of comparison I&#x27;ll consider the CIFAR-10 data because it is a common image benchmark. The labeled portion is composed of 10 classes of images with 6000 images per class. Each image is 32x32 pixels. If you somehow stacked the labeled images from CIFAR-10 and made a standard 48 fps video, you&#x27;d have about 20 minutes of footage.&lt;/p&gt;<br><br>&lt;p&gt;A child of 2 years who observes the world for 12 hours daily has roughly 263000 minutes (more than 4000 hours) of direct observations of the world, including feedback from adults (labels). (These are just ballpark figures -- I don&#x27;t know how many minutes a typical two-year-old has spent observing the world.) Moreover, the child will have exposure to many, many objects beyond the 10 classes that comprise CIFAR-10.&lt;/p&gt;<br><br>&lt;p&gt;So there are a few things at play. One is that the child has exposure to more data overall and a more diverse source of data than the CIFAR-10 model has. Data diversity and data volume are well-recognized as pre-requisites for robust models in general. In this light, it doesn&#x27;t seem surprising that a neural network is worse at this task than the child, because a neural network trained on CIFAR-10 is positively starved for training data compared to the two-year-old. The image resolution available to a child is better than the 32x32 CIFAR-10 images, so the child is able to learn information about the fine details of objects.&lt;/p&gt;<br><br>&lt;p&gt;The CIFAR-10 to two-year-old comparison is not perfect because the CIFAR-10 model will likely be trained with multiple passes over the same static images, while the child will see, using binocular vision, how objects are arranged in a three-dimensional world while moving about and with different lighting conditions and perspectives on the same objects.&lt;/p&gt;<br><br>&lt;p&gt;The anecdote about OP&#x27;s child implies a second question, &lt;/p&gt;<br><br>&lt;h1&gt;&quot;How can neural networks become self-teaching?&quot;&lt;/h1&gt;<br><br>&lt;p&gt;A child is endowed with some talent for self-teaching, so that new categories of objects can be added over time without having to start over from scratch. &lt;/p&gt;<br><br>&lt;ul&gt;<br>&lt;li&gt;&lt;p&gt;OP&#x27;s remark about &lt;a href=&quot;/questions/tagged/transfer-learning&quot; class=&quot;post-tag&quot; title=&quot;show questions tagged &amp;#39;transfer-learning&amp;#39;&quot; rel=&quot;tag&quot;&gt;transfer-learning&lt;/a&gt; names one kind of model adaptation in the machine learning context.&lt;/p&gt;&lt;/li&gt;<br>&lt;li&gt;&lt;p&gt;In comments, other users have pointed out that one- and few-shot learning* is another machine learning research area.&lt;/p&gt;&lt;/li&gt;<br>&lt;li&gt;&lt;p&gt;Additionally, &lt;a href=&quot;/questions/tagged/reinforcement-learning&quot; class=&quot;post-tag&quot; title=&quot;show questions tagged &amp;#39;reinforcement-learning&amp;#39;&quot; rel=&quot;tag&quot;&gt;reinforcement-learning&lt;/a&gt; addresses self-teaching models from a different perspective, essentially allowing robots to undertake trial-and-error experimentation to find optimal strategies for solving specific problems (e.g. playing chess).&lt;/p&gt;&lt;/li&gt;<br>&lt;/ul&gt;<br><br>&lt;p&gt;It&#x27;s probably true that all three of these machine learning paradigms are germane to improving how machines adapt to new computer vision tasks. Quickly adapting machine learning models to new tasks is an active area of research. However, because the practical goals of these projects (identify new instances of malware, recognize imposters in passport photos, index the internet) and criteria for success differ from the goals of a child learning about the world, and the fact that one is done in a computer using math and the other is done in organic material using chemistry, direct comparisons between the two will remain fraught.&lt;/p&gt;<br><br>&lt;hr&gt;<br><br>&lt;p&gt;As an aside, it would be interesting to study how to flip the CIFAR-10 problem around and train a neural network to recognize 6000 objects from 10 examples of each. But even this wouldn&#x27;t be a fair comparison to 2-year-old, because there would still be a large discrepancy in the total volume, diversity and resolution of the training data.&lt;/p&gt;<br><br>&lt;p&gt;*We don&#x27;t presently have a tags for one-shot learning or few-shot learning.&lt;/p&gt;<br></td>\n",
       "        <td>22311</td>\n",
       "        <td>None</td>\n",
       "        <td>22311</td>\n",
       "        <td>None</td>\n",
       "        <td>2019-03-03 17:37:05</td>\n",
       "        <td>2019-03-03 17:37:05</td>\n",
       "        <td>None</td>\n",
       "        <td>None</td>\n",
       "        <td>0</td>\n",
       "        <td>15</td>\n",
       "        <td>0</td>\n",
       "        <td>None</td>\n",
       "        <td>None</td>\n",
       "        <td>5829</td>\n",
       "    </tr>\n",
       "    <tr>\n",
       "        <td>426878</td>\n",
       "        <td>2</td>\n",
       "        <td>0</td>\n",
       "        <td>426873</td>\n",
       "        <td>2019-09-11 23:23:31</td>\n",
       "        <td>93</td>\n",
       "        <td>0</td>\n",
       "        <td>&lt;p&gt;&lt;strong&gt;tl;dr&lt;/strong&gt; Even though this is an image classification dataset, it remains a &lt;strong&gt;very easy&lt;/strong&gt; task, for which one can easily find a &lt;strong&gt;direct mapping&lt;/strong&gt; from inputs to predictions.&lt;/p&gt;<br><br>&lt;hr&gt;<br><br>&lt;p&gt;&lt;strong&gt;Answer:&lt;/strong&gt;&lt;/p&gt;<br><br>&lt;p&gt;This is a very interesting question and thanks to the simplicity of logistic regression you can actually find out the answer. &lt;/p&gt;<br><br>&lt;p&gt;What logistic regression does is for each image accept &lt;span class=&quot;math-container&quot;&gt;$784$&lt;/span&gt; inputs and multiply them with weights to generate its prediction. The interesting thing is that due to the direct mapping between input and output (i.e. no hidden layer), the value of each weight corresponds to how much each one of the &lt;span class=&quot;math-container&quot;&gt;$784$&lt;/span&gt; inputs are taken into account when computing the probability of each class. Now, by taking the weights for each class and reshaping them into &lt;span class=&quot;math-container&quot;&gt;$28 \\times 28$&lt;/span&gt; (i.e. the image resolution), we can tell &lt;strong&gt;what pixels are most important for the computation of each class&lt;/strong&gt;.&lt;/p&gt;<br><br>&lt;p&gt;&lt;img src=&quot;https://i.stack.imgur.com/5IfjY.png&quot; alt=&quot;&quot;&gt;&lt;/p&gt;<br><br>&lt;p&gt;Note, again, that these are the &lt;strong&gt;weights&lt;/strong&gt;.&lt;/p&gt;<br><br>&lt;p&gt;Now take a look at the above image and focus on the first two digits (i.e. zero and one). Blue weights mean that this pixel&#x27;s intensity contributes a lot for that class and red values mean that it contributes negatively. &lt;/p&gt;<br><br>&lt;p&gt;Now imagine, how does a person draw a &lt;span class=&quot;math-container&quot;&gt;$0$&lt;/span&gt;? He draws a circular shape that&#x27;s empty in between. That&#x27;s exactly what the weights picked up on. In fact if someone draws the middle of the image, it counts &lt;strong&gt;negatively&lt;/strong&gt; as a zero. So to recognize zeros you don&#x27;t need some sophisticated filters and high-level features. You can just look at the drawn pixel locations and judge according to this.&lt;/p&gt;<br><br>&lt;p&gt;Same thing for the &lt;span class=&quot;math-container&quot;&gt;$1$&lt;/span&gt;. It always has a straight vertical line in the middle of the image. All else counts negatively.&lt;/p&gt;<br><br>&lt;p&gt;The rest of the digits are a bit more complicated, but with little imaginations you can see the &lt;span class=&quot;math-container&quot;&gt;$2$&lt;/span&gt;, the &lt;span class=&quot;math-container&quot;&gt;$3$&lt;/span&gt;, the &lt;span class=&quot;math-container&quot;&gt;$7$&lt;/span&gt; and the &lt;span class=&quot;math-container&quot;&gt;$8$&lt;/span&gt;. The rest of the numbers are a bit more difficult, which is what actually limits the logistic regression from reaching the high-90s.&lt;/p&gt;<br><br>&lt;p&gt;Through this you can see that logistic regression has a very good chance of getting a lot of images right and that&#x27;s why it scores so high.&lt;/p&gt;<br><br>&lt;hr&gt;<br><br>&lt;p&gt;The code to reproduce the above figure is a bit dated, but here you go:&lt;/p&gt;<br><br>&lt;pre class=&quot;lang-py prettyprint-override&quot;&gt;&lt;code&gt;import tensorflow as tf<br>import matplotlib.pyplot as plt<br>from tensorflow.examples.tutorials.mnist import input_data<br><br># Load MNIST:<br>mnist = input_data.read_data_sets(&quot;MNIST_data/&quot;, one_hot=True)<br><br># Create model<br>x = tf.placeholder(tf.float32, shape=(None, 784))<br>y = tf.placeholder(tf.float32, shape=(None, 10))<br><br>W = tf.Variable(tf.zeros((784,10)))<br>b = tf.Variable(tf.zeros((10)))<br>z = tf.matmul(x, W) + b<br><br>y_hat = tf.nn.softmax(z)<br>cross_entropy = tf.reduce_mean(-tf.reduce_sum(y * tf.log(y_hat), reduction_indices=[1]))<br>optimizer = tf.train.GradientDescentOptimizer(0.5).minimize(cross_entropy) # <br><br>correct_pred = tf.equal(tf.argmax(y_hat, 1), tf.argmax(y, 1))<br>accuracy = tf.reduce_mean(tf.cast(correct_pred, tf.float32))<br><br># Train model<br>batch_size = 64<br>with tf.Session() as sess:<br><br>    loss_tr, acc_tr, loss_ts, acc_ts = [], [], [], []<br><br>    sess.run(tf.global_variables_initializer()) <br><br>    for step in range(1, 1001):<br><br>        x_batch, y_batch = mnist.train.next_batch(batch_size) <br>        sess.run(optimizer, feed_dict={x: x_batch, y: y_batch})<br><br>        l_tr, a_tr = sess.run([cross_entropy, accuracy], feed_dict={x: x_batch, y: y_batch})<br>        l_ts, a_ts = sess.run([cross_entropy, accuracy], feed_dict={x: mnist.test.images, y: mnist.test.labels})<br>        loss_tr.append(l_tr)<br>        acc_tr.append(a_tr)<br>        loss_ts.append(l_ts)<br>        acc_ts.append(a_ts)<br><br>    weights = sess.run(W)      <br>    print(&#x27;Test Accuracy =&#x27;, sess.run(accuracy, feed_dict={x: mnist.test.images, y: mnist.test.labels})) <br><br># Plotting:<br>for i in range(10):<br>    plt.subplot(2, 5, i+1)<br>    weight = weights[:,i].reshape([28,28])<br>    plt.title(i)<br>    plt.imshow(weight, cmap=&#x27;RdBu&#x27;)  # as noted by @Eric Duminil, cmap=&#x27;gray&#x27; makes the numbers stand out more<br>    frame1 = plt.gca()<br>    frame1.axes.get_xaxis().set_visible(False)<br>    frame1.axes.get_yaxis().set_visible(False)<br>&lt;/code&gt;&lt;/pre&gt;<br></td>\n",
       "        <td>119015</td>\n",
       "        <td>None</td>\n",
       "        <td>119015</td>\n",
       "        <td>None</td>\n",
       "        <td>2019-09-13 14:02:28</td>\n",
       "        <td>2019-09-13 14:02:28</td>\n",
       "        <td>None</td>\n",
       "        <td>None</td>\n",
       "        <td>0</td>\n",
       "        <td>6</td>\n",
       "        <td>0</td>\n",
       "        <td>None</td>\n",
       "        <td>None</td>\n",
       "        <td>4627</td>\n",
       "    </tr>\n",
       "    <tr>\n",
       "        <td>388578</td>\n",
       "        <td>2</td>\n",
       "        <td>0</td>\n",
       "        <td>388566</td>\n",
       "        <td>2019-01-22 15:48:47</td>\n",
       "        <td>80</td>\n",
       "        <td>0</td>\n",
       "        <td>&lt;p&gt;To me &quot;1 in 80 deaths...&quot; is by far the clearer statement.  The denominator in your &quot;1 in 80&quot; is the set of all death events and that statement makes it explicit. &lt;/p&gt;<br><br>&lt;p&gt;There&#x27;s ambiguity in the &quot;1 in 80 people...&quot; formulation. You really mean &quot;1 in 80 people who dies...&quot; but the statement can just as easily be interpreted as &quot;1 in 80 people now alive...&quot; or similar. &lt;/p&gt;<br><br>&lt;p&gt;I&#x27;m all for being explicit about the reference set in probability or frequency assertions like this. If you&#x27;re talking about the proportion of deaths, then say &quot;deaths&quot; not &quot;people&quot;. &lt;/p&gt;<br></td>\n",
       "        <td>227039</td>\n",
       "        <td>None</td>\n",
       "        <td>0</td>\n",
       "        <td>None</td>\n",
       "        <td>None</td>\n",
       "        <td>2019-01-22 15:48:47</td>\n",
       "        <td>None</td>\n",
       "        <td>None</td>\n",
       "        <td>0</td>\n",
       "        <td>11</td>\n",
       "        <td>0</td>\n",
       "        <td>None</td>\n",
       "        <td>None</td>\n",
       "        <td>572</td>\n",
       "    </tr>\n",
       "    <tr>\n",
       "        <td>431370</td>\n",
       "        <td>1</td>\n",
       "        <td>431397</td>\n",
       "        <td>0</td>\n",
       "        <td>2019-10-14 11:29:21</td>\n",
       "        <td>77</td>\n",
       "        <td>11723</td>\n",
       "        <td>&lt;p&gt;It seems very counter intuitive to many people that a given diagnostic test with very high accuracy (say 99%) can generate massively more false positives than true positives in some situations, namely where the population of true positives is very small compared to whole population.&lt;/p&gt;<br><br>&lt;p&gt;I see people making this mistake often e.g. when arguing for wider public health screenings, or wider anti-crime surveillance measures etc but I am at a loss for how to succinctly describe the mistake people are making.&lt;/p&gt;<br><br>&lt;p&gt;Does this phenomenon / statistical fallacy have a name? Failing that has anyone got a good, terse, jargon free intuition/example that would help me explain it to a lay person.&lt;/p&gt;<br><br>&lt;p&gt;Apologies if this is the wrong forum to ask this. If so please direct me to a more appropriate one.&lt;/p&gt;<br></td>\n",
       "        <td>262594</td>\n",
       "        <td>None</td>\n",
       "        <td>11887</td>\n",
       "        <td>None</td>\n",
       "        <td>2019-11-28 01:44:34</td>\n",
       "        <td>2019-11-28 01:44:34</td>\n",
       "        <td>Is there a name for the phenomenon of false positives counterintuitively outstripping true positives</td>\n",
       "        <td>&lt;probability&gt;&lt;terminology&gt;&lt;intuition&gt;</td>\n",
       "        <td>8</td>\n",
       "        <td>9</td>\n",
       "        <td>18</td>\n",
       "        <td>None</td>\n",
       "        <td>None</td>\n",
       "        <td>811</td>\n",
       "    </tr>\n",
       "</table>"
      ],
      "text/plain": [
       "[(431397, 2, 0, 431370, '2019-10-14 14:29:36', 101, 0, '<p>Yes there is. Generally it is termed <strong>base rate fallacy</strong> or more specific <strong>false positive paradox</strong>. There is even a wikipedia article about it: <a href=\"https://en.wikipedia.org/wiki/Base_rate_fallacy\" rel=\"noreferrer\">see here</a></p>\\n', 142976, None, 0, None, None, '2019-10-14 14:29:36', None, None, 0, 0, 0, None, None, 269),\n",
       " (394128, 2, 0, 394118, '2019-02-24 15:44:44', 100, 0, '<p>I caution against expecting strong resemblance between biological and artificial neural networks. I think the name \"neural networks\" is a bit dang ... (5584 characters truncated) ... l volume, diversity and resolution of the training data.</p>\\n\\n<p>*We don\\'t presently have a tags for one-shot learning or few-shot learning.</p>\\n', 22311, None, 22311, None, '2019-03-03 17:37:05', '2019-03-03 17:37:05', None, None, 0, 15, 0, None, None, 5829),\n",
       " (426878, 2, 0, 426873, '2019-09-11 23:23:31', 93, 0, '<p><strong>tl;dr</strong> Even though this is an image classification dataset, it remains a <strong>very easy</strong> task, for which one can easily ... (4424 characters truncated) ... and out more\\n    frame1 = plt.gca()\\n    frame1.axes.get_xaxis().set_visible(False)\\n    frame1.axes.get_yaxis().set_visible(False)\\n</code></pre>\\n', 119015, None, 119015, None, '2019-09-13 14:02:28', '2019-09-13 14:02:28', None, None, 0, 6, 0, None, None, 4627),\n",
       " (388578, 2, 0, 388566, '2019-01-22 15:48:47', 80, 0, '<p>To me \"1 in 80 deaths...\" is by far the clearer statement.  The denominator in your \"1 in 80\" is the set of all death events and that statement ma ... (282 characters truncated) ... rence set in probability or frequency assertions like this. If you\\'re talking about the proportion of deaths, then say \"deaths\" not \"people\". </p>\\n', 227039, None, 0, None, None, '2019-01-22 15:48:47', None, None, 0, 11, 0, None, None, 572),\n",
       " (431370, 1, 431397, 0, '2019-10-14 11:29:21', 77, 11723, '<p>It seems very counter intuitive to many people that a given diagnostic test with very high accuracy (say 99%) can generate massively more false po ... (520 characters truncated) ... lp me explain it to a lay person.</p>\\n\\n<p>Apologies if this is the wrong forum to ask this. If so please direct me to a more appropriate one.</p>\\n', 262594, None, 11887, None, '2019-11-28 01:44:34', '2019-11-28 01:44:34', 'Is there a name for the phenomenon of false positives counterintuitively outstripping true positives', '<probability><terminology><intuition>', 8, 9, 18, None, None, 811)]"
      ]
     },
     "execution_count": 124,
     "metadata": {},
     "output_type": "execute_result"
    }
   ],
   "source": [
    "%%sql \n",
    "SELECT * FROM posts \n",
    "    ORDER BY Score DESC\n",
    "        LIMIT 5;"
   ]
  },
  {
   "cell_type": "code",
   "execution_count": 126,
   "metadata": {},
   "outputs": [],
   "source": [
    "# insert the queries into the queries table \n",
    "sql =\"\"\"\n",
    "    SELECT * FROM posts \n",
    "    ORDER BY Score DESC\n",
    "    LIMIT 5;\n",
    "    \"\"\"\n",
    "store_query('task 2','Find the 5 posts with the highest scores',sql)"
   ]
  },
  {
   "cell_type": "markdown",
   "metadata": {},
   "source": [
    "WHAT ARE THE 5 MOST RECENT SCORES ON POSTS?"
   ]
  },
  {
   "cell_type": "code",
   "execution_count": 127,
   "metadata": {},
   "outputs": [
    {
     "name": "stdout",
     "output_type": "stream",
     "text": [
      " * sqlite:///chatdata.db\n",
      "Done.\n"
     ]
    },
    {
     "data": {
      "text/html": [
       "<table>\n",
       "    <tr>\n",
       "        <th>Score</th>\n",
       "        <th>count</th>\n",
       "    </tr>\n",
       "    <tr>\n",
       "        <td>0</td>\n",
       "        <td>19888</td>\n",
       "    </tr>\n",
       "    <tr>\n",
       "        <td>1</td>\n",
       "        <td>11867</td>\n",
       "    </tr>\n",
       "    <tr>\n",
       "        <td>2</td>\n",
       "        <td>5094</td>\n",
       "    </tr>\n",
       "    <tr>\n",
       "        <td>3</td>\n",
       "        <td>2228</td>\n",
       "    </tr>\n",
       "    <tr>\n",
       "        <td>4</td>\n",
       "        <td>1059</td>\n",
       "    </tr>\n",
       "</table>"
      ],
      "text/plain": [
       "[(0, 19888), (1, 11867), (2, 5094), (3, 2228), (4, 1059)]"
      ]
     },
     "execution_count": 127,
     "metadata": {},
     "output_type": "execute_result"
    }
   ],
   "source": [
    "%%sql \n",
    "SELECT Score ,count(*) as count FROM posts \n",
    "    GROUP BY Score\n",
    "        ORDER BY count DESC\n",
    "            LIMIT 5;\n"
   ]
  },
  {
   "cell_type": "code",
   "execution_count": 128,
   "metadata": {},
   "outputs": [
    {
     "data": {
      "text/plain": [
       "Score\n",
       "0    19888\n",
       "1    11867\n",
       "2     5094\n",
       "3     2228\n",
       "4     1059\n",
       "Name: Id, dtype: int64"
      ]
     },
     "execution_count": 128,
     "metadata": {},
     "output_type": "execute_result"
    }
   ],
   "source": [
    "# Confirm using Pandas\n",
    "posts.groupby(\"Score\").count().sort_values(by='Id',ascending=False)['Id'][0:5]"
   ]
  },
  {
   "cell_type": "code",
   "execution_count": 129,
   "metadata": {},
   "outputs": [],
   "source": [
    "# insert the queries into the queries table \n",
    "sql =\"\"\"\n",
    "    SELECT Score ,count(*) as count FROM posts \n",
    "    GROUP BY Score\n",
    "    ORDER BY count DESC\n",
    "    LIMIT 5;\n",
    "    \"\"\"\n",
    "store_query('task 2','What are the 5 most frequent scores on posts',sql)"
   ]
  },
  {
   "cell_type": "markdown",
   "metadata": {},
   "source": [
    "HOW MANY POSTS HAVE THE KEYWORD 'DATA' IN THEIR TAGS?"
   ]
  },
  {
   "cell_type": "code",
   "execution_count": 130,
   "metadata": {},
   "outputs": [
    {
     "name": "stdout",
     "output_type": "stream",
     "text": [
      " * sqlite:///chatdata.db\n",
      "Done.\n"
     ]
    },
    {
     "data": {
      "text/html": [
       "<table>\n",
       "    <tr>\n",
       "        <th>count</th>\n",
       "    </tr>\n",
       "    <tr>\n",
       "        <td>2242</td>\n",
       "    </tr>\n",
       "</table>"
      ],
      "text/plain": [
       "[(2242,)]"
      ]
     },
     "execution_count": 130,
     "metadata": {},
     "output_type": "execute_result"
    }
   ],
   "source": [
    "%%sql \n",
    "SELECT count(*) as count FROM posts \n",
    "    WHERE Tags LIKE \"%data%\";"
   ]
  },
  {
   "cell_type": "code",
   "execution_count": 131,
   "metadata": {},
   "outputs": [
    {
     "data": {
      "text/plain": [
       "2242"
      ]
     },
     "execution_count": 131,
     "metadata": {},
     "output_type": "execute_result"
    }
   ],
   "source": [
    "# Confirm using Pandas\n",
    "len(posts[posts['Tags'].str.contains('data')==True])"
   ]
  },
  {
   "cell_type": "code",
   "execution_count": 132,
   "metadata": {},
   "outputs": [],
   "source": [
    "# insert the queries into the queries table \n",
    "sql =\"\"\"\n",
    "    SELECT count(*) as count FROM posts \n",
    "    WHERE Tags LIKE \"%data%\";\n",
    "    \"\"\"\n",
    "store_query('task 2','How many posts have the keyword \"data\" in their tags',sql)"
   ]
  },
  {
   "cell_type": "markdown",
   "metadata": {},
   "source": [
    "WHAT ARE THE 5 MOSTS FREQUENT COMMENT COUNT FOR POSTS?"
   ]
  },
  {
   "cell_type": "code",
   "execution_count": 133,
   "metadata": {},
   "outputs": [
    {
     "name": "stdout",
     "output_type": "stream",
     "text": [
      " * sqlite:///chatdata.db\n",
      "Done.\n"
     ]
    },
    {
     "data": {
      "text/html": [
       "<table>\n",
       "    <tr>\n",
       "        <th>CommentCount</th>\n",
       "        <th>count</th>\n",
       "    </tr>\n",
       "    <tr>\n",
       "        <td>0</td>\n",
       "        <td>21713</td>\n",
       "    </tr>\n",
       "    <tr>\n",
       "        <td>1</td>\n",
       "        <td>6460</td>\n",
       "    </tr>\n",
       "    <tr>\n",
       "        <td>2</td>\n",
       "        <td>4966</td>\n",
       "    </tr>\n",
       "    <tr>\n",
       "        <td>3</td>\n",
       "        <td>3063</td>\n",
       "    </tr>\n",
       "    <tr>\n",
       "        <td>4</td>\n",
       "        <td>2026</td>\n",
       "    </tr>\n",
       "</table>"
      ],
      "text/plain": [
       "[(0, 21713), (1, 6460), (2, 4966), (3, 3063), (4, 2026)]"
      ]
     },
     "execution_count": 133,
     "metadata": {},
     "output_type": "execute_result"
    }
   ],
   "source": [
    "%%sql \n",
    "SELECT CommentCount ,count(*) as count FROM posts \n",
    "    GROUP BY CommentCount\n",
    "        ORDER BY count DESC\n",
    "            LIMIT 5;\n"
   ]
  },
  {
   "cell_type": "code",
   "execution_count": 134,
   "metadata": {},
   "outputs": [
    {
     "data": {
      "text/plain": [
       "CommentCount\n",
       "0    21713\n",
       "1     6460\n",
       "2     4966\n",
       "3     3063\n",
       "4     2026\n",
       "Name: Id, dtype: int64"
      ]
     },
     "execution_count": 134,
     "metadata": {},
     "output_type": "execute_result"
    }
   ],
   "source": [
    "# Confirm using Pandas\n",
    "posts.groupby(\"CommentCount\").count().sort_values(by='Id',ascending=False)['Id'][0:5]"
   ]
  },
  {
   "cell_type": "code",
   "execution_count": 135,
   "metadata": {},
   "outputs": [],
   "source": [
    "# insert the queries into the queries table \n",
    "sql =\"\"\"\n",
    "    SELECT CommentCount ,count(*) as count FROM posts \n",
    "    GROUP BY CommentCount\n",
    "    ORDER BY count DESC\n",
    "    LIMIT 5;\n",
    "    \"\"\"\n",
    "store_query('task 2','What are the 5 most frequent commentcount for posts',sql)"
   ]
  },
  {
   "cell_type": "markdown",
   "metadata": {},
   "source": [
    "HOW MANY POSTS HAVE AN ACCEPTED ANSWER?"
   ]
  },
  {
   "cell_type": "code",
   "execution_count": 136,
   "metadata": {},
   "outputs": [
    {
     "name": "stdout",
     "output_type": "stream",
     "text": [
      " * sqlite:///chatdata.db\n",
      "Done.\n"
     ]
    },
    {
     "data": {
      "text/html": [
       "<table>\n",
       "    <tr>\n",
       "        <th>Count</th>\n",
       "    </tr>\n",
       "    <tr>\n",
       "        <td>5341</td>\n",
       "    </tr>\n",
       "</table>"
      ],
      "text/plain": [
       "[(5341,)]"
      ]
     },
     "execution_count": 136,
     "metadata": {},
     "output_type": "execute_result"
    }
   ],
   "source": [
    "%%sql\n",
    "SELECT count(*) as Count FROM posts WHERE AcceptedAnswerId <> 0;"
   ]
  },
  {
   "cell_type": "code",
   "execution_count": 137,
   "metadata": {},
   "outputs": [
    {
     "data": {
      "text/plain": [
       "5341"
      ]
     },
     "execution_count": 137,
     "metadata": {},
     "output_type": "execute_result"
    }
   ],
   "source": [
    "# Confirm using Pandas\n",
    "len(posts[posts['AcceptedAnswerId']!=0])"
   ]
  },
  {
   "cell_type": "code",
   "execution_count": 138,
   "metadata": {},
   "outputs": [],
   "source": [
    "# insert the queries into the queries table \n",
    "sql =\"\"\"\n",
    "    SELECT count(*) as Count FROM posts \n",
    "    WHERE AcceptedAnswerId <> 0;\n",
    "        \"\"\"\n",
    "store_query('task 2','How many posts have an accepted answer',sql)"
   ]
  },
  {
   "cell_type": "markdown",
   "metadata": {},
   "source": [
    "WHAT IS THE AVERAGE REPUTATION OF TABLE USERS?"
   ]
  },
  {
   "cell_type": "code",
   "execution_count": 139,
   "metadata": {},
   "outputs": [
    {
     "name": "stdout",
     "output_type": "stream",
     "text": [
      " * sqlite:///chatdata.db\n",
      "Done.\n"
     ]
    },
    {
     "data": {
      "text/html": [
       "<table>\n",
       "    <tr>\n",
       "        <th>AverageReputation</th>\n",
       "    </tr>\n",
       "    <tr>\n",
       "        <td>312.35</td>\n",
       "    </tr>\n",
       "</table>"
      ],
      "text/plain": [
       "[(312.35,)]"
      ]
     },
     "execution_count": 139,
     "metadata": {},
     "output_type": "execute_result"
    }
   ],
   "source": [
    "%%sql\n",
    "SELECT ROUND(AVG(Reputation),2) as AverageReputation FROM users;"
   ]
  },
  {
   "cell_type": "code",
   "execution_count": 140,
   "metadata": {},
   "outputs": [
    {
     "data": {
      "text/plain": [
       "312.35"
      ]
     },
     "execution_count": 140,
     "metadata": {},
     "output_type": "execute_result"
    }
   ],
   "source": [
    "# Confirm using Pandas\n",
    "round(users['Reputation'].mean(),2)"
   ]
  },
  {
   "cell_type": "code",
   "execution_count": 141,
   "metadata": {},
   "outputs": [],
   "source": [
    "# insert the queries into the queries table \n",
    "sql =\"\"\"\n",
    "    SELECT ROUND(AVG(Reputation),2) as AverageReputation FROM users;\n",
    "    \"\"\"\n",
    "store_query('task 2','What is the average reputation of table users',sql)"
   ]
  },
  {
   "cell_type": "markdown",
   "metadata": {},
   "source": [
    "WHAT ARE THE MIN AND MAX REPUTATION OF USERS?"
   ]
  },
  {
   "cell_type": "code",
   "execution_count": 142,
   "metadata": {},
   "outputs": [
    {
     "name": "stdout",
     "output_type": "stream",
     "text": [
      " * sqlite:///chatdata.db\n",
      "Done.\n"
     ]
    },
    {
     "data": {
      "text/html": [
       "<table>\n",
       "    <tr>\n",
       "        <th>MinReputation</th>\n",
       "        <th>MaxReputation</th>\n",
       "    </tr>\n",
       "    <tr>\n",
       "        <td>1.0</td>\n",
       "        <td>228662.0</td>\n",
       "    </tr>\n",
       "</table>"
      ],
      "text/plain": [
       "[(1.0, 228662.0)]"
      ]
     },
     "execution_count": 142,
     "metadata": {},
     "output_type": "execute_result"
    }
   ],
   "source": [
    "%%sql\n",
    "SELECT ROUND(MIN(Reputation),2) as MinReputation,\n",
    "ROUND(MAX(Reputation),2) as MaxReputation FROM users;"
   ]
  },
  {
   "cell_type": "code",
   "execution_count": 143,
   "metadata": {},
   "outputs": [
    {
     "data": {
      "text/plain": [
       "(1, 228662)"
      ]
     },
     "execution_count": 143,
     "metadata": {},
     "output_type": "execute_result"
    }
   ],
   "source": [
    "# Confirm using Pandas\n",
    "round(users['Reputation'].min(),2),round(users['Reputation'].max(),2)"
   ]
  },
  {
   "cell_type": "code",
   "execution_count": 144,
   "metadata": {},
   "outputs": [],
   "source": [
    "# insert the queries into the queries table \n",
    "sql =\"\"\"\n",
    "    SELECT ROUND(MIN(Reputation),2) as MinReputation,\n",
    "    ROUND(MAX(Reputation),2) as MaxReputation FROM users;\n",
    "    \"\"\"\n",
    "store_query('task 2','What are the min and max reputation of users',sql)"
   ]
  },
  {
   "cell_type": "markdown",
   "metadata": {},
   "source": [
    "WHAT IS THE LENGHT OF THE BODY OF THE 5 MOST VIEWED POSTS?"
   ]
  },
  {
   "cell_type": "code",
   "execution_count": 145,
   "metadata": {},
   "outputs": [
    {
     "name": "stdout",
     "output_type": "stream",
     "text": [
      " * sqlite:///chatdata.db\n",
      "Done.\n"
     ]
    },
    {
     "data": {
      "text/html": [
       "<table>\n",
       "    <tr>\n",
       "        <th>MostViewed</th>\n",
       "        <th>LengthBody</th>\n",
       "    </tr>\n",
       "    <tr>\n",
       "        <td>19542</td>\n",
       "        <td>2270</td>\n",
       "    </tr>\n",
       "    <tr>\n",
       "        <td>16317</td>\n",
       "        <td>512</td>\n",
       "    </tr>\n",
       "    <tr>\n",
       "        <td>11723</td>\n",
       "        <td>811</td>\n",
       "    </tr>\n",
       "    <tr>\n",
       "        <td>9850</td>\n",
       "        <td>2148</td>\n",
       "    </tr>\n",
       "    <tr>\n",
       "        <td>6718</td>\n",
       "        <td>1172</td>\n",
       "    </tr>\n",
       "</table>"
      ],
      "text/plain": [
       "[(19542, 2270), (16317, 512), (11723, 811), (9850, 2148), (6718, 1172)]"
      ]
     },
     "execution_count": 145,
     "metadata": {},
     "output_type": "execute_result"
    }
   ],
   "source": [
    "%%sql\n",
    "SELECT ViewCount as MostViewed ,Len_Body as LengthBody FROM posts\n",
    "    ORDER BY ViewCount DESC\n",
    "        LIMIT 5;"
   ]
  },
  {
   "cell_type": "code",
   "execution_count": 146,
   "metadata": {},
   "outputs": [
    {
     "data": {
      "text/html": [
       "<div>\n",
       "<style scoped>\n",
       "    .dataframe tbody tr th:only-of-type {\n",
       "        vertical-align: middle;\n",
       "    }\n",
       "\n",
       "    .dataframe tbody tr th {\n",
       "        vertical-align: top;\n",
       "    }\n",
       "\n",
       "    .dataframe thead th {\n",
       "        text-align: right;\n",
       "    }\n",
       "</style>\n",
       "<table border=\"1\" class=\"dataframe\">\n",
       "  <thead>\n",
       "    <tr style=\"text-align: right;\">\n",
       "      <th></th>\n",
       "      <th>ViewCount</th>\n",
       "      <th>LEN_BODY</th>\n",
       "    </tr>\n",
       "  </thead>\n",
       "  <tbody>\n",
       "    <tr>\n",
       "      <th>2695</th>\n",
       "      <td>19542</td>\n",
       "      <td>2270.0</td>\n",
       "    </tr>\n",
       "    <tr>\n",
       "      <th>7105</th>\n",
       "      <td>16317</td>\n",
       "      <td>512.0</td>\n",
       "    </tr>\n",
       "    <tr>\n",
       "      <th>36077</th>\n",
       "      <td>11723</td>\n",
       "      <td>811.0</td>\n",
       "    </tr>\n",
       "    <tr>\n",
       "      <th>10772</th>\n",
       "      <td>9850</td>\n",
       "      <td>2148.0</td>\n",
       "    </tr>\n",
       "    <tr>\n",
       "      <th>38317</th>\n",
       "      <td>6718</td>\n",
       "      <td>1172.0</td>\n",
       "    </tr>\n",
       "  </tbody>\n",
       "</table>\n",
       "</div>"
      ],
      "text/plain": [
       "       ViewCount  LEN_BODY\n",
       "2695       19542    2270.0\n",
       "7105       16317     512.0\n",
       "36077      11723     811.0\n",
       "10772       9850    2148.0\n",
       "38317       6718    1172.0"
      ]
     },
     "execution_count": 146,
     "metadata": {},
     "output_type": "execute_result"
    }
   ],
   "source": [
    "# Confirm using Pandas\n",
    "post=pd.read_sql(\"\"\"Select * From posts\"\"\",con)\n",
    "post[['ViewCount','LEN_BODY']].sort_values(by='ViewCount',ascending=False)[0:5]"
   ]
  },
  {
   "cell_type": "code",
   "execution_count": 147,
   "metadata": {},
   "outputs": [],
   "source": [
    "# insert the queries into the queries table \n",
    "sql =\"\"\"\n",
    "    SELECT ViewCount as MostViewed ,Len_Body as LengthBody FROM posts\n",
    "    ORDER BY ViewCount DESC\n",
    "    LIMIT 5;\n",
    "    \"\"\"\n",
    "store_query('task 2','What is the length of the body of 5 most viewed posts',sql)"
   ]
  },
  {
   "cell_type": "markdown",
   "metadata": {},
   "source": [
    "HOW MANY DIFFERENT LOCATIONS ARE THERE IN THE USER TABLE?"
   ]
  },
  {
   "cell_type": "code",
   "execution_count": 148,
   "metadata": {},
   "outputs": [
    {
     "name": "stdout",
     "output_type": "stream",
     "text": [
      " * sqlite:///chatdata.db\n",
      "Done.\n"
     ]
    },
    {
     "data": {
      "text/html": [
       "<table>\n",
       "    <tr>\n",
       "        <th>LocationCount</th>\n",
       "    </tr>\n",
       "    <tr>\n",
       "        <td>1900</td>\n",
       "    </tr>\n",
       "</table>"
      ],
      "text/plain": [
       "[(1900,)]"
      ]
     },
     "execution_count": 148,
     "metadata": {},
     "output_type": "execute_result"
    }
   ],
   "source": [
    "%%sql\n",
    "SELECT count(DISTINCT(location)) as LocationCount FROM (\n",
    "    SELECT * FROM users \n",
    "        GROUP BY location\n",
    "    );\n"
   ]
  },
  {
   "cell_type": "code",
   "execution_count": 149,
   "metadata": {},
   "outputs": [
    {
     "data": {
      "text/plain": [
       "1900"
      ]
     },
     "execution_count": 149,
     "metadata": {},
     "output_type": "execute_result"
    }
   ],
   "source": [
    "# Confirm using Pandas\n",
    "users['Location'].nunique()"
   ]
  },
  {
   "cell_type": "code",
   "execution_count": 150,
   "metadata": {},
   "outputs": [],
   "source": [
    "# insert the queries into the queries table \n",
    "sql =\"\"\"\n",
    "    SELECT count(DISTINCT(location)) as LocationCount FROM (\n",
    "    SELECT * FROM users \n",
    "        GROUP BY location\n",
    "    );\n",
    "    \"\"\"\n",
    "store_query('task 2','How many different locations are there in the users table',sql)"
   ]
  },
  {
   "cell_type": "markdown",
   "metadata": {},
   "source": [
    "WHAT ARE THE TOP 5 LOCATION OF USERS?"
   ]
  },
  {
   "cell_type": "code",
   "execution_count": 151,
   "metadata": {},
   "outputs": [
    {
     "name": "stdout",
     "output_type": "stream",
     "text": [
      " * sqlite:///chatdata.db\n",
      "Done.\n"
     ]
    },
    {
     "data": {
      "text/html": [
       "<table>\n",
       "    <tr>\n",
       "        <th>Location</th>\n",
       "        <th>LocationCount</th>\n",
       "    </tr>\n",
       "    <tr>\n",
       "        <td>None</td>\n",
       "        <td>13335</td>\n",
       "    </tr>\n",
       "    <tr>\n",
       "        <td>Germany</td>\n",
       "        <td>117</td>\n",
       "    </tr>\n",
       "    <tr>\n",
       "        <td>India</td>\n",
       "        <td>100</td>\n",
       "    </tr>\n",
       "    <tr>\n",
       "        <td>United States</td>\n",
       "        <td>69</td>\n",
       "    </tr>\n",
       "    <tr>\n",
       "        <td>Paris, France</td>\n",
       "        <td>66</td>\n",
       "    </tr>\n",
       "</table>"
      ],
      "text/plain": [
       "[(None, 13335),\n",
       " ('Germany', 117),\n",
       " ('India', 100),\n",
       " ('United States', 69),\n",
       " ('Paris, France', 66)]"
      ]
     },
     "execution_count": 151,
     "metadata": {},
     "output_type": "execute_result"
    }
   ],
   "source": [
    "%%sql\n",
    "SELECT Location,count(*) as LocationCount FROM users\n",
    "    GROUP BY Location\n",
    "        ORDER BY LocationCount DESC\n",
    "            LIMIT 5;"
   ]
  },
  {
   "cell_type": "code",
   "execution_count": 152,
   "metadata": {},
   "outputs": [
    {
     "data": {
      "text/plain": [
       "Location\n",
       "NaN              13335\n",
       "Germany            117\n",
       "India              100\n",
       "United States       69\n",
       "Paris, France       66\n",
       "Name: Id, dtype: int64"
      ]
     },
     "execution_count": 152,
     "metadata": {},
     "output_type": "execute_result"
    }
   ],
   "source": [
    "# Confirm using Pandas\n",
    "users.groupby('Location',dropna=False).count().sort_values('Id',ascending=False)['Id'][0:5]"
   ]
  },
  {
   "cell_type": "code",
   "execution_count": 153,
   "metadata": {},
   "outputs": [],
   "source": [
    "# insert the queries into the queries table \n",
    "sql =\"\"\"\n",
    "    SELECT Location,count(*) as LocationCount FROM users\n",
    "    GROUP BY Location\n",
    "    ORDER BY LocationCount DESC\n",
    "    LIMIT 5;\n",
    "    \"\"\"\n",
    "store_query('task 2','What are the top 5 locations of users',sql)"
   ]
  },
  {
   "cell_type": "markdown",
   "metadata": {},
   "source": [
    "RANK THE DAYS OF THE WEEK FROM HIGHEST TO LOWEST IN TERMS OF THE VOLUME OF VIEW COUNT AS A %"
   ]
  },
  {
   "cell_type": "code",
   "execution_count": 154,
   "metadata": {},
   "outputs": [
    {
     "name": "stdout",
     "output_type": "stream",
     "text": [
      " * sqlite:///chatdata.db\n",
      "Done.\n"
     ]
    },
    {
     "data": {
      "text/html": [
       "<table>\n",
       "    <tr>\n",
       "        <th>WeekDay</th>\n",
       "        <th>Percentage_ViewCount</th>\n",
       "    </tr>\n",
       "    <tr>\n",
       "        <td>Thursday</td>\n",
       "        <td>16.82</td>\n",
       "    </tr>\n",
       "    <tr>\n",
       "        <td>Wednesday</td>\n",
       "        <td>16.77</td>\n",
       "    </tr>\n",
       "    <tr>\n",
       "        <td>Tuesday</td>\n",
       "        <td>16.26</td>\n",
       "    </tr>\n",
       "    <tr>\n",
       "        <td>Monday</td>\n",
       "        <td>15.81</td>\n",
       "    </tr>\n",
       "    <tr>\n",
       "        <td>Friday</td>\n",
       "        <td>13.56</td>\n",
       "    </tr>\n",
       "    <tr>\n",
       "        <td>Sunday</td>\n",
       "        <td>11.9</td>\n",
       "    </tr>\n",
       "    <tr>\n",
       "        <td>Saturday</td>\n",
       "        <td>8.89</td>\n",
       "    </tr>\n",
       "</table>"
      ],
      "text/plain": [
       "[('Thursday', 16.82),\n",
       " ('Wednesday', 16.77),\n",
       " ('Tuesday', 16.26),\n",
       " ('Monday', 15.81),\n",
       " ('Friday', 13.56),\n",
       " ('Sunday', 11.9),\n",
       " ('Saturday', 8.89)]"
      ]
     },
     "execution_count": 154,
     "metadata": {},
     "output_type": "execute_result"
    }
   ],
   "source": [
    "%%sql\n",
    "SELECT  CASE \n",
    "            WHEN WeekDayNumber = 0 THEN 'Sunday'\n",
    "            WHEN WeekDayNumber = 1 THEN 'Monday'\n",
    "            WHEN WeekDayNumber = 2 THEN 'Tuesday'\n",
    "            WHEN WeekDayNumber = 3 THEN 'Wednesday'\n",
    "            WHEN WeekDayNumber = 4 THEN 'Thursday'\n",
    "            WHEN WeekDayNumber = 5 THEN 'Friday'\n",
    "            ELSE 'Saturday' \n",
    "    END as WeekDay,Percentage_ViewCount\n",
    "FROM (SELECT CAST (strftime('%w', CreationDate) AS INTEGER) as WeekDayNumber,\n",
    "           round( cast(sum(ViewCount) as float)/cast((select sum(ViewCount) from posts)as float) *100.0,2) as Percentage_ViewCount \n",
    "FROM posts   \n",
    "GROUP BY WeekDayNumber\n",
    "ORDER BY Percentage_ViewCount DESC)\n"
   ]
  },
  {
   "cell_type": "code",
   "execution_count": 155,
   "metadata": {},
   "outputs": [
    {
     "data": {
      "text/plain": [
       "week\n",
       "3    16.82\n",
       "2    16.77\n",
       "1    16.26\n",
       "0    15.81\n",
       "4    13.56\n",
       "6    11.90\n",
       "5     8.89\n",
       "Name: ViewCount, dtype: float64"
      ]
     },
     "execution_count": 155,
     "metadata": {},
     "output_type": "execute_result"
    }
   ],
   "source": [
    "# Confirm using Pandas\n",
    "post['CreationDate']=pd.to_datetime(post.CreationDate, format='%Y-%m-%d %H:%M:%S')\n",
    "post['week']=post['CreationDate'].dt.dayofweek\n",
    "sum=post.groupby('week')['ViewCount'].sum()\n",
    "sum2=sum.sum()\n",
    "newsum=sum/sum2*100\n",
    "round(newsum.sort_values(ascending=False),2)"
   ]
  },
  {
   "cell_type": "code",
   "execution_count": 156,
   "metadata": {},
   "outputs": [],
   "source": [
    "# insert the queries into the queries table \n",
    "sql =\"\"\"\n",
    "SELECT  CASE \n",
    "            WHEN WeekDayNumber = 0 THEN 'Sunday'\n",
    "            WHEN WeekDayNumber = 1 THEN 'Monday'\n",
    "            WHEN WeekDayNumber = 2 THEN 'Tuesday'\n",
    "            WHEN WeekDayNumber = 3 THEN 'Wednesday'\n",
    "            WHEN WeekDayNumber = 4 THEN 'Thursday'\n",
    "            WHEN WeekDayNumber = 5 THEN 'Friday'\n",
    "            ELSE 'Saturday' \n",
    "    END as WeekDay,Percentage_ViewCount\n",
    "FROM (SELECT CAST (strftime('%w', CreationDate) AS INTEGER) as WeekDayNumber,\n",
    "           round( cast(sum(ViewCount) as float)/cast((select sum(ViewCount) from posts)as float) *100.0,2) as Percentage_ViewCount \n",
    "FROM posts   \n",
    "GROUP BY WeekDayNumber\n",
    "ORDER BY Percentage_ViewCount DESC);\n",
    "    \"\"\"\n",
    "store_query('task 2','Rank the days of the week from highest to lowest in terms of the volume of ViewCount as a percentage',sql)"
   ]
  },
  {
   "cell_type": "markdown",
   "metadata": {},
   "source": [
    "# Task 3: Cross Table Queries"
   ]
  },
  {
   "cell_type": "markdown",
   "metadata": {},
   "source": [
    "## Lifecycle Stage: Analyze\n",
    "Let's continue the analysis with our multi-table queries.  "
   ]
  },
  {
   "cell_type": "markdown",
   "metadata": {},
   "source": [
    "### Cross Table Queries\n",
    "\n",
    "From the Template SQL Queries there are a series of queries requested. You are responsible for coding the result. Use the pattern above to accomplish the coding objective.  Copy and paste the question (column B Action) into a markdown cell and answer the query. Use the pattern that you have been using above. \n",
    "\n",
    "<div style=\"background-color:lemonchiffon; border:1px solid; padding:5px; margin:5px; font-weight:bold\"><font color=\"crimson\">\n",
    "TODO: Enter your code below.  Just keep on inserting cells as you need them.\n",
    "    </font></div>\n",
    "\n"
   ]
  },
  {
   "cell_type": "code",
   "execution_count": 157,
   "metadata": {},
   "outputs": [
    {
     "name": "stdout",
     "output_type": "stream",
     "text": [
      " * sqlite:///chatdata.db\n",
      "Done.\n"
     ]
    },
    {
     "data": {
      "text/html": [
       "<table>\n",
       "    <tr>\n",
       "        <th>count(*)</th>\n",
       "    </tr>\n",
       "    <tr>\n",
       "        <td>17189</td>\n",
       "    </tr>\n",
       "</table>"
      ],
      "text/plain": [
       "[(17189,)]"
      ]
     },
     "execution_count": 157,
     "metadata": {},
     "output_type": "execute_result"
    }
   ],
   "source": [
    "%%sql\n",
    "SELECT count(*) FROM users\n",
    "INNER JOIN posts ON posts.OwnerUserId = users.Id\n",
    "WHERE AboutMe <> \"NULL\";"
   ]
  },
  {
   "cell_type": "code",
   "execution_count": 158,
   "metadata": {},
   "outputs": [
    {
     "data": {
      "text/plain": [
       "17189"
      ]
     },
     "execution_count": 158,
     "metadata": {},
     "output_type": "execute_result"
    }
   ],
   "source": [
    "# Confirm using Pandas\n",
    "mergeT= posts.merge(users,how='inner',left_on='OwnerUserId',right_on='Id')\n",
    "len(mergeT[mergeT['AboutMe'].notnull()])"
   ]
  },
  {
   "cell_type": "code",
   "execution_count": 159,
   "metadata": {},
   "outputs": [],
   "source": [
    "# insert the queries into the queries table \n",
    "sql =\"\"\"\n",
    "    SELECT count(*) FROM users\n",
    "    INNER JOIN posts ON posts.OwnerUserId = users.Id\n",
    "    WHERE AboutMe <> \"NULL\";\n",
    "    \"\"\"\n",
    "store_query('task 3','How many posts have been created by a user that has a filled out the \"AboutMe\" section',sql)"
   ]
  },
  {
   "cell_type": "markdown",
   "metadata": {},
   "source": [
    "Considering only the users with an \"AboutMe,\" how many posts are there per user?"
   ]
  },
  {
   "cell_type": "code",
   "execution_count": 160,
   "metadata": {},
   "outputs": [
    {
     "name": "stdout",
     "output_type": "stream",
     "text": [
      " * sqlite:///chatdata.db\n",
      "Done.\n"
     ]
    },
    {
     "data": {
      "text/html": [
       "<table>\n",
       "    <tr>\n",
       "        <th>PostPerUser</th>\n",
       "    </tr>\n",
       "    <tr>\n",
       "        <td>5</td>\n",
       "    </tr>\n",
       "</table>"
      ],
      "text/plain": [
       "[(5,)]"
      ]
     },
     "execution_count": 160,
     "metadata": {},
     "output_type": "execute_result"
    }
   ],
   "source": [
    "%%sql\n",
    "SELECT (count(Posts.Id))/(count(DISTINCT users.Id)) as PostPerUser FROM users\n",
    "INNER JOIN posts ON posts.OwnerUserId = users.Id\n",
    "WHERE AboutMe <> \"NULL\""
   ]
  },
  {
   "cell_type": "code",
   "execution_count": 161,
   "metadata": {},
   "outputs": [
    {
     "data": {
      "text/plain": [
       "OwnerUserId\n",
       "-1         1\n",
       " 22        2\n",
       " 25        4\n",
       " 29        1\n",
       " 104       1\n",
       "          ..\n",
       " 267133    1\n",
       " 267172    1\n",
       " 267205    1\n",
       " 267232    1\n",
       " 267322    1\n",
       "Name: PostTypeId, Length: 3366, dtype: int64"
      ]
     },
     "execution_count": 161,
     "metadata": {},
     "output_type": "execute_result"
    }
   ],
   "source": [
    "# Confirm using Pandas\n",
    "(mergeT[mergeT['AboutMe'].notnull()]).groupby('OwnerUserId')['PostTypeId'].count()"
   ]
  },
  {
   "cell_type": "code",
   "execution_count": 162,
   "metadata": {},
   "outputs": [],
   "source": [
    "# insert the queries into the queries table \n",
    "sql =\"\"\"\n",
    "   SELECT OwnerUserId,count(*) \n",
    "    FROM (SELECT * FROM users\n",
    "    INNER JOIN posts ON posts.OwnerUserId = users.Id\n",
    "    WHERE AboutMe <> \"NULL\")\n",
    "    GROUP BY OwnerUserId;\n",
    "    \"\"\"\n",
    "store_query('task 3','Considering only the users with an \"AboutMe,\" how many posts are there per user',sql)"
   ]
  },
  {
   "cell_type": "markdown",
   "metadata": {},
   "source": [
    "Not taking into account the commentcount field in the table posts, what are the Top 10 posts in terms of number of comments?"
   ]
  },
  {
   "cell_type": "code",
   "execution_count": 163,
   "metadata": {},
   "outputs": [
    {
     "name": "stdout",
     "output_type": "stream",
     "text": [
      " * sqlite:///chatdata.db\n",
      "Done.\n"
     ]
    },
    {
     "data": {
      "text/html": [
       "<table>\n",
       "    <tr>\n",
       "        <th>PostId</th>\n",
       "        <th>NumberComments</th>\n",
       "    </tr>\n",
       "    <tr>\n",
       "        <td>386853</td>\n",
       "        <td>66</td>\n",
       "    </tr>\n",
       "    <tr>\n",
       "        <td>386556</td>\n",
       "        <td>34</td>\n",
       "    </tr>\n",
       "    <tr>\n",
       "        <td>418910</td>\n",
       "        <td>31</td>\n",
       "    </tr>\n",
       "    <tr>\n",
       "        <td>395232</td>\n",
       "        <td>31</td>\n",
       "    </tr>\n",
       "    <tr>\n",
       "        <td>402987</td>\n",
       "        <td>27</td>\n",
       "    </tr>\n",
       "    <tr>\n",
       "        <td>386075</td>\n",
       "        <td>26</td>\n",
       "    </tr>\n",
       "    <tr>\n",
       "        <td>394118</td>\n",
       "        <td>24</td>\n",
       "    </tr>\n",
       "    <tr>\n",
       "        <td>402950</td>\n",
       "        <td>23</td>\n",
       "    </tr>\n",
       "    <tr>\n",
       "        <td>398828</td>\n",
       "        <td>23</td>\n",
       "    </tr>\n",
       "    <tr>\n",
       "        <td>396111</td>\n",
       "        <td>22</td>\n",
       "    </tr>\n",
       "</table>"
      ],
      "text/plain": [
       "[(386853, 66),\n",
       " (386556, 34),\n",
       " (418910, 31),\n",
       " (395232, 31),\n",
       " (402987, 27),\n",
       " (386075, 26),\n",
       " (394118, 24),\n",
       " (402950, 23),\n",
       " (398828, 23),\n",
       " (396111, 22)]"
      ]
     },
     "execution_count": 163,
     "metadata": {},
     "output_type": "execute_result"
    }
   ],
   "source": [
    "%%sql\n",
    "   SELECT PostId,count(comments.Id) as NumberComments FROM posts\n",
    "    LEFT OUTER JOIN comments ON posts.Id = comments.PostId\n",
    "    GROUP BY PostId\n",
    "    ORDER BY NumberComments DESC\n",
    "    LIMIT 10;"
   ]
  },
  {
   "cell_type": "code",
   "execution_count": 164,
   "metadata": {},
   "outputs": [
    {
     "data": {
      "text/plain": [
       "PostId\n",
       "386853.0    66\n",
       "386556.0    34\n",
       "395232.0    31\n",
       "418910.0    31\n",
       "402987.0    27\n",
       "386075.0    26\n",
       "394118.0    24\n",
       "402950.0    23\n",
       "398828.0    23\n",
       "396111.0    22\n",
       "Name: Text, dtype: int64"
      ]
     },
     "execution_count": 164,
     "metadata": {},
     "output_type": "execute_result"
    }
   ],
   "source": [
    "# Confirm using Pandas\n",
    "mergeT= posts.merge(comments,how='left',left_on='Id',right_on='PostId')\n",
    "top=mergeT.groupby('PostId').count()['Text'].sort_values(ascending=False)\n",
    "top.iloc[0:10]"
   ]
  },
  {
   "cell_type": "code",
   "execution_count": 165,
   "metadata": {},
   "outputs": [],
   "source": [
    "\n",
    "# insert the queries into the queries table \n",
    "sql =\"\"\"\n",
    "    SELECT PostId,count(comments.Id) as NumberComments FROM posts\n",
    "    LEFT OUTER JOIN comments ON posts.Id = comments.PostId\n",
    "    GROUP BY PostId\n",
    "    ORDER BY NumberComments DESC\n",
    "    LIMIT 10;\n",
    "    \"\"\"\n",
    "store_query('task 3','Not taking into account the commentcount field in the table posts, what are the Top 10 posts in terms of number of comments?',sql)\n"
   ]
  },
  {
   "cell_type": "markdown",
   "metadata": {},
   "source": [
    "What are the Top 10 posts which have the highest cummulative (post score + comment score) score?\n"
   ]
  },
  {
   "cell_type": "code",
   "execution_count": 166,
   "metadata": {},
   "outputs": [
    {
     "name": "stdout",
     "output_type": "stream",
     "text": [
      " * sqlite:///chatdata.db\n",
      "Done.\n"
     ]
    },
    {
     "data": {
      "text/html": [
       "<table>\n",
       "    <tr>\n",
       "        <th>PostId</th>\n",
       "        <th>CummScore</th>\n",
       "    </tr>\n",
       "    <tr>\n",
       "        <td>394118</td>\n",
       "        <td>1778</td>\n",
       "    </tr>\n",
       "    <tr>\n",
       "        <td>394128</td>\n",
       "        <td>1569</td>\n",
       "    </tr>\n",
       "    <tr>\n",
       "        <td>398653</td>\n",
       "        <td>1021</td>\n",
       "    </tr>\n",
       "    <tr>\n",
       "        <td>388578</td>\n",
       "        <td>941</td>\n",
       "    </tr>\n",
       "    <tr>\n",
       "        <td>388566</td>\n",
       "        <td>885</td>\n",
       "    </tr>\n",
       "    <tr>\n",
       "        <td>398646</td>\n",
       "        <td>465</td>\n",
       "    </tr>\n",
       "    <tr>\n",
       "        <td>421677</td>\n",
       "        <td>392</td>\n",
       "    </tr>\n",
       "    <tr>\n",
       "        <td>420526</td>\n",
       "        <td>317</td>\n",
       "    </tr>\n",
       "    <tr>\n",
       "        <td>386571</td>\n",
       "        <td>197</td>\n",
       "    </tr>\n",
       "    <tr>\n",
       "        <td>393336</td>\n",
       "        <td>125</td>\n",
       "    </tr>\n",
       "</table>"
      ],
      "text/plain": [
       "[(394118, 1778),\n",
       " (394128, 1569),\n",
       " (398653, 1021),\n",
       " (388578, 941),\n",
       " (388566, 885),\n",
       " (398646, 465),\n",
       " (421677, 392),\n",
       " (420526, 317),\n",
       " (386571, 197),\n",
       " (393336, 125)]"
      ]
     },
     "execution_count": 166,
     "metadata": {},
     "output_type": "execute_result"
    }
   ],
   "source": [
    "%%sql\n",
    "  SELECT PostId,(TotalComScore + TotalPostScore ) as CummScore FROM\n",
    "    (SELECT PostId,sum(comments.score) as TotalComScore ,sum(posts.score) as TotalPostScore FROM posts\n",
    "    INNER JOIN comments ON posts.Id = comments.PostId\n",
    "    GROUP BY PostId,posts.Score\n",
    "    ORDER BY TotalComScore DESC\n",
    "    LIMIT 10)\n",
    "    ORDER BY CummScore DESC;"
   ]
  },
  {
   "cell_type": "code",
   "execution_count": 167,
   "metadata": {},
   "outputs": [
    {
     "data": {
      "text/plain": [
       "PostId\n",
       "394118.0    1778.0\n",
       "394128.0    1569.0\n",
       "418910.0    1094.0\n",
       "398653.0    1021.0\n",
       "388578.0     941.0\n",
       "388566.0     885.0\n",
       "396818.0     808.0\n",
       "418814.0     621.0\n",
       "394258.0     570.0\n",
       "394439.0     566.0\n",
       "Name: CummScore, dtype: float64"
      ]
     },
     "execution_count": 167,
     "metadata": {},
     "output_type": "execute_result"
    }
   ],
   "source": [
    "# Confirm using Pandas\n",
    "mergeT= posts.merge(comments,how='left',left_on='Id',right_on='PostId')\n",
    "top=mergeT.groupby('PostId').sum()[['Score_x','Score_y']]\n",
    "top['CummScore']=top['Score_x']+top['Score_y']\n",
    "top10=top['CummScore'].sort_values(ascending=False)\n",
    "top10.iloc[:10]"
   ]
  },
  {
   "cell_type": "code",
   "execution_count": 168,
   "metadata": {},
   "outputs": [],
   "source": [
    "# insert the queries into the queries table \n",
    "sql =\"\"\"\n",
    "    SELECT PostId,(TotalComScore + TotalPostScore ) as CummScore FROM\n",
    "    (SELECT PostId,sum(comments.score) as TotalComScore ,sum(posts.score) as TotalPostScore FROM posts\n",
    "    LEFT OUTER JOIN comments ON posts.Id = comments.PostId\n",
    "    GROUP BY PostId\n",
    "    ORDER BY TotalComScore DESC\n",
    "    LIMIT 10)\n",
    "    ORDER BY CummScore DESC;\n",
    "    \"\"\"\n",
    "store_query('task 3','Not taking into account the commentcount field in the table posts, what are the Top 10 posts in terms of number of comments?',sql)\n"
   ]
  },
  {
   "cell_type": "markdown",
   "metadata": {},
   "source": [
    "Who are the top 10 users who comment the most?"
   ]
  },
  {
   "cell_type": "code",
   "execution_count": 169,
   "metadata": {},
   "outputs": [
    {
     "name": "stdout",
     "output_type": "stream",
     "text": [
      " * sqlite:///chatdata.db\n",
      "Done.\n"
     ]
    },
    {
     "data": {
      "text/html": [
       "<table>\n",
       "    <tr>\n",
       "        <th>UserId</th>\n",
       "        <th>Reputation</th>\n",
       "        <th>PostsNum</th>\n",
       "        <th>NumComments</th>\n",
       "    </tr>\n",
       "    <tr>\n",
       "        <td>919</td>\n",
       "        <td>223056</td>\n",
       "        <td>3301</td>\n",
       "        <td>3301</td>\n",
       "    </tr>\n",
       "    <tr>\n",
       "        <td>805</td>\n",
       "        <td>228662</td>\n",
       "        <td>1153</td>\n",
       "        <td>1153</td>\n",
       "    </tr>\n",
       "    <tr>\n",
       "        <td>143489</td>\n",
       "        <td>2890</td>\n",
       "        <td>1024</td>\n",
       "        <td>1024</td>\n",
       "    </tr>\n",
       "    <tr>\n",
       "        <td>11887</td>\n",
       "        <td>39200</td>\n",
       "        <td>805</td>\n",
       "        <td>805</td>\n",
       "    </tr>\n",
       "    <tr>\n",
       "        <td>85665</td>\n",
       "        <td>17391</td>\n",
       "        <td>691</td>\n",
       "        <td>691</td>\n",
       "    </tr>\n",
       "    <tr>\n",
       "        <td>164061</td>\n",
       "        <td>13485</td>\n",
       "        <td>540</td>\n",
       "        <td>540</td>\n",
       "    </tr>\n",
       "    <tr>\n",
       "        <td>22047</td>\n",
       "        <td>41385</td>\n",
       "        <td>536</td>\n",
       "        <td>536</td>\n",
       "    </tr>\n",
       "    <tr>\n",
       "        <td>158565</td>\n",
       "        <td>6482</td>\n",
       "        <td>504</td>\n",
       "        <td>504</td>\n",
       "    </tr>\n",
       "    <tr>\n",
       "        <td>7962</td>\n",
       "        <td>8030</td>\n",
       "        <td>492</td>\n",
       "        <td>492</td>\n",
       "    </tr>\n",
       "    <tr>\n",
       "        <td>35989</td>\n",
       "        <td>71548</td>\n",
       "        <td>470</td>\n",
       "        <td>470</td>\n",
       "    </tr>\n",
       "</table>"
      ],
      "text/plain": [
       "[(919, 223056, 3301, 3301),\n",
       " (805, 228662, 1153, 1153),\n",
       " (143489, 2890, 1024, 1024),\n",
       " (11887, 39200, 805, 805),\n",
       " (85665, 17391, 691, 691),\n",
       " (164061, 13485, 540, 540),\n",
       " (22047, 41385, 536, 536),\n",
       " (158565, 6482, 504, 504),\n",
       " (7962, 8030, 492, 492),\n",
       " (35989, 71548, 470, 470)]"
      ]
     },
     "execution_count": 169,
     "metadata": {},
     "output_type": "execute_result"
    }
   ],
   "source": [
    "%%sql\n",
    "SELECT UserId, users.Reputation,count(PostId) as PostsNum, count(Text) as NumComments FROM users\n",
    "    LEFT OUTER JOIN comments ON users.Id = comments.UserId\n",
    "    GROUP BY UserId\n",
    "    ORDER BY NumComments DESC,PostsNum DESC\n",
    "    LIMIT 10;"
   ]
  },
  {
   "cell_type": "code",
   "execution_count": 170,
   "metadata": {},
   "outputs": [
    {
     "data": {
      "text/plain": [
       "UserId\n",
       "919.0       3301\n",
       "805.0       1153\n",
       "143489.0    1024\n",
       "11887.0      805\n",
       "85665.0      691\n",
       "164061.0     540\n",
       "22047.0      536\n",
       "158565.0     504\n",
       "7962.0       492\n",
       "35989.0      470\n",
       "Name: PostId, dtype: int64"
      ]
     },
     "execution_count": 170,
     "metadata": {},
     "output_type": "execute_result"
    }
   ],
   "source": [
    "# Confirm using Pandas\n",
    "mergeT= users.merge(comments,how='left',left_on='Id',right_on='UserId')\n",
    "top=mergeT.groupby('UserId').count()['PostId'].sort_values(ascending=False)\n",
    "top.iloc[0:10]"
   ]
  },
  {
   "cell_type": "code",
   "execution_count": 171,
   "metadata": {},
   "outputs": [],
   "source": [
    "# insert the queries into the queries table \n",
    "sql =\"\"\"\n",
    "    SELECT UserId, users.Reputation,count(PostId) as PostsNum, count(Text) as NumComments FROM users\n",
    "    LEFT OUTER JOIN comments ON users.Id = comments.UserId\n",
    "    GROUP BY UserId\n",
    "    ORDER BY PostsNum DESC\n",
    "    LIMIT 10;\n",
    "    \"\"\"\n",
    "store_query('task 3','Who are the top 10 users who comment the most?',sql)\n"
   ]
  },
  {
   "cell_type": "markdown",
   "metadata": {},
   "source": [
    "Who are the top 10 users who post the most?\n"
   ]
  },
  {
   "cell_type": "code",
   "execution_count": 172,
   "metadata": {},
   "outputs": [
    {
     "name": "stdout",
     "output_type": "stream",
     "text": [
      " * sqlite:///chatdata.db\n",
      "Done.\n"
     ]
    },
    {
     "data": {
      "text/html": [
       "<table>\n",
       "    <tr>\n",
       "        <th>UserId</th>\n",
       "        <th>Reputation</th>\n",
       "        <th>PostsNum</th>\n",
       "    </tr>\n",
       "    <tr>\n",
       "        <td>919</td>\n",
       "        <td>223056</td>\n",
       "        <td>3301</td>\n",
       "    </tr>\n",
       "    <tr>\n",
       "        <td>805</td>\n",
       "        <td>228662</td>\n",
       "        <td>1153</td>\n",
       "    </tr>\n",
       "    <tr>\n",
       "        <td>143489</td>\n",
       "        <td>2890</td>\n",
       "        <td>1024</td>\n",
       "    </tr>\n",
       "    <tr>\n",
       "        <td>11887</td>\n",
       "        <td>39200</td>\n",
       "        <td>805</td>\n",
       "    </tr>\n",
       "    <tr>\n",
       "        <td>85665</td>\n",
       "        <td>17391</td>\n",
       "        <td>691</td>\n",
       "    </tr>\n",
       "    <tr>\n",
       "        <td>164061</td>\n",
       "        <td>13485</td>\n",
       "        <td>540</td>\n",
       "    </tr>\n",
       "    <tr>\n",
       "        <td>22047</td>\n",
       "        <td>41385</td>\n",
       "        <td>536</td>\n",
       "    </tr>\n",
       "    <tr>\n",
       "        <td>158565</td>\n",
       "        <td>6482</td>\n",
       "        <td>504</td>\n",
       "    </tr>\n",
       "    <tr>\n",
       "        <td>7962</td>\n",
       "        <td>8030</td>\n",
       "        <td>492</td>\n",
       "    </tr>\n",
       "    <tr>\n",
       "        <td>35989</td>\n",
       "        <td>71548</td>\n",
       "        <td>470</td>\n",
       "    </tr>\n",
       "</table>"
      ],
      "text/plain": [
       "[(919, 223056, 3301),\n",
       " (805, 228662, 1153),\n",
       " (143489, 2890, 1024),\n",
       " (11887, 39200, 805),\n",
       " (85665, 17391, 691),\n",
       " (164061, 13485, 540),\n",
       " (22047, 41385, 536),\n",
       " (158565, 6482, 504),\n",
       " (7962, 8030, 492),\n",
       " (35989, 71548, 470)]"
      ]
     },
     "execution_count": 172,
     "metadata": {},
     "output_type": "execute_result"
    }
   ],
   "source": [
    "%%sql\n",
    "SELECT UserId, users.Reputation,count(PostId) as PostsNum FROM users\n",
    "    LEFT OUTER JOIN comments ON users.Id = comments.UserId\n",
    "    GROUP BY UserId\n",
    "    ORDER BY  PostsNum DESC ,users.Reputation DESC\n",
    "    LIMIT 10\n"
   ]
  },
  {
   "cell_type": "markdown",
   "metadata": {},
   "source": [
    "# Task 4: Check the Queries Table\n",
    "\n",
    "Now let's tidy up and check the queries table.\n",
    "\n",
    "First let's check it's contents:"
   ]
  },
  {
   "cell_type": "code",
   "execution_count": 173,
   "metadata": {},
   "outputs": [
    {
     "name": "stdout",
     "output_type": "stream",
     "text": [
      " * sqlite:///chatdata.db\n",
      "Done.\n"
     ]
    },
    {
     "data": {
      "text/html": [
       "<table>\n",
       "    <tr>\n",
       "        <th>task</th>\n",
       "        <th>action</th>\n",
       "        <th>query</th>\n",
       "    </tr>\n",
       "    <tr>\n",
       "        <td>Single Table Queries</td>\n",
       "        <td>Which 5 users have viewed the most times and what is the sum of those views per user?</td>\n",
       "        <td><br>SELECT Id, SUM(Views) AS TotalViews<br>    FROM Users<br>        GROUP BY Id<br>            ORDER BY TotalViews DESC<br>                LIMIT 5<br>                </td>\n",
       "    </tr>\n",
       "    <tr>\n",
       "        <td>Task 1</td>\n",
       "        <td>Create table comments</td>\n",
       "        <td><br>    CREATE TABLE &quot;comments&quot; (<br>    &quot;Id&quot; INTEGER,<br>    &quot;PostId&quot; INTEGER,<br>    &quot;Score&quot; INTEGER,<br>    &quot;Text&quot; TEXT,<br>    &quot;CreationDate&quot; TEXT,<br>    &quot;UserId&quot; INTEGER<br>    )<br>    </td>\n",
       "    </tr>\n",
       "    <tr>\n",
       "        <td>Task 1</td>\n",
       "        <td>Create table comments</td>\n",
       "        <td><br>    CREATE TABLE &quot;comments&quot; (<br>    &quot;Id&quot; INTEGER,<br>    &quot;PostId&quot; INTEGER,<br>    &quot;Score&quot; INTEGER,<br>    &quot;Text&quot; TEXT,<br>    &quot;CreationDate&quot; TEXT,<br>    &quot;UserId&quot; INTEGER<br>    )<br>    </td>\n",
       "    </tr>\n",
       "    <tr>\n",
       "        <td>Task 1</td>\n",
       "        <td>Create table posts</td>\n",
       "        <td><br>    CREATE TABLE &quot;posts&quot; (<br>        &quot;Id&quot; INTEGER NOT NULL PRIMARY KEY,<br>        &quot;PostTypeId&quot; INTEGER,<br>        &quot;AcceptedAnswerId&quot; INTEGER,<br>        &quot;ParentId&quot; INTEGER,<br>        &quot;CreationDate&quot; TEXT,<br>        &quot;Score&quot; INTEGER,<br>        &quot;ViewCount&quot; INTEGER,<br>        &quot;Body&quot; TEXT,<br>        &quot;OwnerUserId&quot; INTEGER,<br>        &quot;OwnerDisplayName&quot; TEXT,<br>        &quot;LastEditorUserId&quot; INTEGER,<br>        &quot;LastEditorDisplayName&quot; TEXT,<br>        &quot;LastEditDate&quot; TEXT,<br>        &quot;LastActivityDate&quot; TEXT,<br>        &quot;Title&quot; TEXT,<br>        &quot;Tags&quot; TEXT,<br>        &quot;AnswerCount&quot; INTEGER,<br>        &quot;CommentCount&quot; INTEGER,<br>        &quot;FavoriteCount&quot; INTEGER,<br>        &quot;ClosedDate&quot; TEXT,<br>        &quot;CommunityOwnedDate&quot; TEXT,<br>        FOREIGN KEY(OwnerUserId) REFERENCES users(Id)<br>        )<br>    </td>\n",
       "    </tr>\n",
       "    <tr>\n",
       "        <td>Task 1</td>\n",
       "        <td>Create table users</td>\n",
       "        <td><br>    CREATE TABLE &quot;users&quot; (<br>        &quot;Id&quot; INTEGER NOT NULL PRIMARY KEY,<br>        &quot;Reputation&quot; INTEGER,<br>        &quot;CreationDate&quot; TEXT,<br>        &quot;DisplayName&quot; TEXT,<br>        &quot;LastAccessDate&quot; TEXT,<br>        &quot;WebsiteUrl&quot; TEXT,<br>        &quot;Location&quot; TEXT,<br>        &quot;AboutMe&quot; TEXT,<br>        &quot;Views&quot; INTEGER,<br>        &quot;UpVotes&quot; INTEGER,<br>        &quot;DownVotes&quot; INTEGER,<br>        &quot;ProfileImageUrl&quot; TEXT,<br>        &quot;AccountId&quot; INTEGER<br>        )<br>    </td>\n",
       "    </tr>\n",
       "    <tr>\n",
       "        <td>Task 1</td>\n",
       "        <td>Count the number of rows in the comments table</td>\n",
       "        <td><br>    SELECT count(*) <br>    FROM &quot;comments&quot; <br>    </td>\n",
       "    </tr>\n",
       "    <tr>\n",
       "        <td>Task 1</td>\n",
       "        <td>Count the number of rows in the users table</td>\n",
       "        <td><br>    SELECT count(*) <br>    FROM &quot;users&quot; <br>    </td>\n",
       "    </tr>\n",
       "    <tr>\n",
       "        <td>Task 1</td>\n",
       "        <td>Count the number of rows in the posts table</td>\n",
       "        <td><br>    SELECT count(*) <br>    FROM &quot;posts&quot; <br>    </td>\n",
       "    </tr>\n",
       "    <tr>\n",
       "        <td>task 2</td>\n",
       "        <td>How many posts have 0 comments</td>\n",
       "        <td><br>    SELECT count(*) as Count FROM posts <br>    WHERE CommentCount = 0;<br>    </td>\n",
       "    </tr>\n",
       "    <tr>\n",
       "        <td>task 2</td>\n",
       "        <td>How many posts have 1 comments</td>\n",
       "        <td><br>    SELECT count(*) as Count FROM posts <br>    WHERE CommentCount = 1;<br>    </td>\n",
       "    </tr>\n",
       "    <tr>\n",
       "        <td>task 2</td>\n",
       "        <td>How many posts have 2 comments or more</td>\n",
       "        <td><br>    SELECT count(*) as Count FROM posts <br>    WHERE CommentCount &gt;= 2;<br>    </td>\n",
       "    </tr>\n",
       "    <tr>\n",
       "        <td>task 2</td>\n",
       "        <td>Find the 5 posts with the highest viewcount</td>\n",
       "        <td><br>    SELECT * FROM posts <br>    ORDER BY ViewCount DESC<br>    LIMIT 5;<br>    </td>\n",
       "    </tr>\n",
       "    <tr>\n",
       "        <td>task 2</td>\n",
       "        <td>Find the 5 posts with the highest scores</td>\n",
       "        <td><br>    SELECT * FROM posts <br>    ORDER BY Score DESC<br>    LIMIT 5;<br>    </td>\n",
       "    </tr>\n",
       "    <tr>\n",
       "        <td>task 2</td>\n",
       "        <td>Find the 5 posts with the highest scores</td>\n",
       "        <td><br>    SELECT * FROM posts <br>    ORDER BY Score DESC<br>    LIMIT 5;<br>    </td>\n",
       "    </tr>\n",
       "    <tr>\n",
       "        <td>task 2</td>\n",
       "        <td>What are the 5 most frequent scores on posts</td>\n",
       "        <td><br>    SELECT Score ,count(*) as count FROM posts <br>    GROUP BY Score<br>    ORDER BY count DESC<br>    LIMIT 5;<br>    </td>\n",
       "    </tr>\n",
       "    <tr>\n",
       "        <td>task 2</td>\n",
       "        <td>How many posts have the keyword &quot;data&quot; in their tags</td>\n",
       "        <td><br>    SELECT count(*) as count FROM posts <br>    WHERE Tags LIKE &quot;%data%&quot;;<br>    </td>\n",
       "    </tr>\n",
       "    <tr>\n",
       "        <td>task 2</td>\n",
       "        <td>What are the 5 most frequent commentcount for posts</td>\n",
       "        <td><br>    SELECT CommentCount ,count(*) as count FROM posts <br>    GROUP BY CommentCount<br>    ORDER BY count DESC<br>    LIMIT 5;<br>    </td>\n",
       "    </tr>\n",
       "    <tr>\n",
       "        <td>task 2</td>\n",
       "        <td>How many posts have an accepted answer</td>\n",
       "        <td><br>    SELECT count(*) as Count FROM posts <br>    WHERE AcceptedAnswerId &lt;&gt; 0;<br>        </td>\n",
       "    </tr>\n",
       "    <tr>\n",
       "        <td>task 2</td>\n",
       "        <td>What is the average reputation of table users</td>\n",
       "        <td><br>    SELECT ROUND(AVG(Reputation),2) as AverageReputation FROM users;<br>    </td>\n",
       "    </tr>\n",
       "    <tr>\n",
       "        <td>task 2</td>\n",
       "        <td>What are the min and max reputation of users</td>\n",
       "        <td><br>    SELECT ROUND(MIN(Reputation),2) as MinReputation,<br>    ROUND(MAX(Reputation),2) as MaxReputation FROM users;<br>    </td>\n",
       "    </tr>\n",
       "    <tr>\n",
       "        <td>task 2</td>\n",
       "        <td>What is the length of the body of 5 most viewed posts</td>\n",
       "        <td><br>    SELECT ViewCount as MostViewed ,Len_Body as LengthBody FROM posts<br>    ORDER BY ViewCount DESC<br>    LIMIT 5;<br>    </td>\n",
       "    </tr>\n",
       "    <tr>\n",
       "        <td>task 2</td>\n",
       "        <td>How many different locations are there in the users table</td>\n",
       "        <td><br>    SELECT count(DISTINCT(location)) as LocationCount FROM (<br>    SELECT * FROM users <br>        GROUP BY location<br>    );<br>    </td>\n",
       "    </tr>\n",
       "    <tr>\n",
       "        <td>task 2</td>\n",
       "        <td>What are the top 5 locations of users</td>\n",
       "        <td><br>    SELECT Location,count(*) as LocationCount FROM users<br>    GROUP BY Location<br>    ORDER BY LocationCount DESC<br>    LIMIT 5;<br>    </td>\n",
       "    </tr>\n",
       "    <tr>\n",
       "        <td>task 2</td>\n",
       "        <td>Rank the days of the week from highest to lowest in terms of the volume of ViewCount as a percentage</td>\n",
       "        <td><br>SELECT  CASE <br>            WHEN WeekDayNumber = 0 THEN &#x27;Sunday&#x27;<br>            WHEN WeekDayNumber = 1 THEN &#x27;Monday&#x27;<br>            WHEN WeekDayNumber = 2 THEN &#x27;Tuesday&#x27;<br>            WHEN WeekDayNumber = 3 THEN &#x27;Wednesday&#x27;<br>            WHEN WeekDayNumber = 4 THEN &#x27;Thursday&#x27;<br>            WHEN WeekDayNumber = 5 THEN &#x27;Friday&#x27;<br>            ELSE &#x27;Saturday&#x27; <br>    END as WeekDay,Percentage_ViewCount<br>FROM (SELECT CAST (strftime(&#x27;%w&#x27;, CreationDate) AS INTEGER) as WeekDayNumber,<br>           round( cast(sum(ViewCount) as float)/cast((select sum(ViewCount) from posts)as float) *100.0,2) as Percentage_ViewCount <br>FROM posts   <br>GROUP BY WeekDayNumber<br>ORDER BY Percentage_ViewCount DESC);<br>    </td>\n",
       "    </tr>\n",
       "    <tr>\n",
       "        <td>task 3</td>\n",
       "        <td>How many posts have been created by a user that has a filled out the &quot;AboutMe&quot; section</td>\n",
       "        <td><br>    SELECT count(*) FROM users<br>    INNER JOIN posts ON posts.OwnerUserId = users.Id<br>    WHERE AboutMe &lt;&gt; &quot;NULL&quot;;<br>    </td>\n",
       "    </tr>\n",
       "    <tr>\n",
       "        <td>task 3</td>\n",
       "        <td>Considering only the users with an &quot;AboutMe,&quot; how many posts are there per user</td>\n",
       "        <td><br>   SELECT OwnerUserId,count(*) <br>    FROM (SELECT * FROM users<br>    INNER JOIN posts ON posts.OwnerUserId = users.Id<br>    WHERE AboutMe &lt;&gt; &quot;NULL&quot;)<br>    GROUP BY OwnerUserId;<br>    </td>\n",
       "    </tr>\n",
       "    <tr>\n",
       "        <td>task 3</td>\n",
       "        <td>Not taking into account the commentcount field in the table posts, what are the Top 10 posts in terms of number of comments?</td>\n",
       "        <td><br>    SELECT PostId,count(comments.Id) as NumberComments FROM posts<br>    LEFT OUTER JOIN comments ON posts.Id = comments.PostId<br>    GROUP BY PostId<br>    ORDER BY NumberComments DESC<br>    LIMIT 10;<br>    </td>\n",
       "    </tr>\n",
       "    <tr>\n",
       "        <td>task 3</td>\n",
       "        <td>Not taking into account the commentcount field in the table posts, what are the Top 10 posts in terms of number of comments?</td>\n",
       "        <td><br>    SELECT PostId,(TotalComScore + TotalPostScore ) as CummScore FROM<br>    (SELECT PostId,sum(comments.score) as TotalComScore ,sum(posts.score) as TotalPostScore FROM posts<br>    LEFT OUTER JOIN comments ON posts.Id = comments.PostId<br>    GROUP BY PostId<br>    ORDER BY TotalComScore DESC<br>    LIMIT 10)<br>    ORDER BY CummScore DESC;<br>    </td>\n",
       "    </tr>\n",
       "    <tr>\n",
       "        <td>task 3</td>\n",
       "        <td>Who are the top 10 users who comment the most?</td>\n",
       "        <td><br>    SELECT UserId, users.Reputation,count(PostId) as PostsNum, count(Text) as NumComments FROM users<br>    LEFT OUTER JOIN comments ON users.Id = comments.UserId<br>    GROUP BY UserId<br>    ORDER BY PostsNum DESC<br>    LIMIT 10;<br>    </td>\n",
       "    </tr>\n",
       "</table>"
      ],
      "text/plain": [
       "[('Single Table Queries', 'Which 5 users have viewed the most times and what is the sum of those views per user?', '\\nSELECT Id, SUM(Views) AS TotalViews\\n    FROM Users\\n        GROUP BY Id\\n            ORDER BY TotalViews DESC\\n                LIMIT 5\\n                '),\n",
       " ('Task 1', 'Create table comments', '\\n    CREATE TABLE \"comments\" (\\n    \"Id\" INTEGER,\\n    \"PostId\" INTEGER,\\n    \"Score\" INTEGER,\\n    \"Text\" TEXT,\\n    \"CreationDate\" TEXT,\\n    \"UserId\" INTEGER\\n    )\\n    '),\n",
       " ('Task 1', 'Create table comments', '\\n    CREATE TABLE \"comments\" (\\n    \"Id\" INTEGER,\\n    \"PostId\" INTEGER,\\n    \"Score\" INTEGER,\\n    \"Text\" TEXT,\\n    \"CreationDate\" TEXT,\\n    \"UserId\" INTEGER\\n    )\\n    '),\n",
       " ('Task 1', 'Create table posts', '\\n    CREATE TABLE \"posts\" (\\n        \"Id\" INTEGER NOT NULL PRIMARY KEY,\\n        \"PostTypeId\" INTEGER,\\n        \"AcceptedAnswerId\" INTEGER,\\n        ... (465 characters truncated) ... unt\" INTEGER,\\n        \"ClosedDate\" TEXT,\\n        \"CommunityOwnedDate\" TEXT,\\n        FOREIGN KEY(OwnerUserId) REFERENCES users(Id)\\n        )\\n    '),\n",
       " ('Task 1', 'Create table users', '\\n    CREATE TABLE \"users\" (\\n        \"Id\" INTEGER NOT NULL PRIMARY KEY,\\n        \"Reputation\" INTEGER,\\n        \"CreationDate\" TEXT,\\n        \"Displ ... (138 characters truncated) ... ws\" INTEGER,\\n        \"UpVotes\" INTEGER,\\n        \"DownVotes\" INTEGER,\\n        \"ProfileImageUrl\" TEXT,\\n        \"AccountId\" INTEGER\\n        )\\n    '),\n",
       " ('Task 1', 'Count the number of rows in the comments table', '\\n    SELECT count(*) \\n    FROM \"comments\" \\n    '),\n",
       " ('Task 1', 'Count the number of rows in the users table', '\\n    SELECT count(*) \\n    FROM \"users\" \\n    '),\n",
       " ('Task 1', 'Count the number of rows in the posts table', '\\n    SELECT count(*) \\n    FROM \"posts\" \\n    '),\n",
       " ('task 2', 'How many posts have 0 comments', '\\n    SELECT count(*) as Count FROM posts \\n    WHERE CommentCount = 0;\\n    '),\n",
       " ('task 2', 'How many posts have 1 comments', '\\n    SELECT count(*) as Count FROM posts \\n    WHERE CommentCount = 1;\\n    '),\n",
       " ('task 2', 'How many posts have 2 comments or more', '\\n    SELECT count(*) as Count FROM posts \\n    WHERE CommentCount >= 2;\\n    '),\n",
       " ('task 2', 'Find the 5 posts with the highest viewcount', '\\n    SELECT * FROM posts \\n    ORDER BY ViewCount DESC\\n    LIMIT 5;\\n    '),\n",
       " ('task 2', 'Find the 5 posts with the highest scores', '\\n    SELECT * FROM posts \\n    ORDER BY Score DESC\\n    LIMIT 5;\\n    '),\n",
       " ('task 2', 'Find the 5 posts with the highest scores', '\\n    SELECT * FROM posts \\n    ORDER BY Score DESC\\n    LIMIT 5;\\n    '),\n",
       " ('task 2', 'What are the 5 most frequent scores on posts', '\\n    SELECT Score ,count(*) as count FROM posts \\n    GROUP BY Score\\n    ORDER BY count DESC\\n    LIMIT 5;\\n    '),\n",
       " ('task 2', 'How many posts have the keyword \"data\" in their tags', '\\n    SELECT count(*) as count FROM posts \\n    WHERE Tags LIKE \"%data%\";\\n    '),\n",
       " ('task 2', 'What are the 5 most frequent commentcount for posts', '\\n    SELECT CommentCount ,count(*) as count FROM posts \\n    GROUP BY CommentCount\\n    ORDER BY count DESC\\n    LIMIT 5;\\n    '),\n",
       " ('task 2', 'How many posts have an accepted answer', '\\n    SELECT count(*) as Count FROM posts \\n    WHERE AcceptedAnswerId <> 0;\\n        '),\n",
       " ('task 2', 'What is the average reputation of table users', '\\n    SELECT ROUND(AVG(Reputation),2) as AverageReputation FROM users;\\n    '),\n",
       " ('task 2', 'What are the min and max reputation of users', '\\n    SELECT ROUND(MIN(Reputation),2) as MinReputation,\\n    ROUND(MAX(Reputation),2) as MaxReputation FROM users;\\n    '),\n",
       " ('task 2', 'What is the length of the body of 5 most viewed posts', '\\n    SELECT ViewCount as MostViewed ,Len_Body as LengthBody FROM posts\\n    ORDER BY ViewCount DESC\\n    LIMIT 5;\\n    '),\n",
       " ('task 2', 'How many different locations are there in the users table', '\\n    SELECT count(DISTINCT(location)) as LocationCount FROM (\\n    SELECT * FROM users \\n        GROUP BY location\\n    );\\n    '),\n",
       " ('task 2', 'What are the top 5 locations of users', '\\n    SELECT Location,count(*) as LocationCount FROM users\\n    GROUP BY Location\\n    ORDER BY LocationCount DESC\\n    LIMIT 5;\\n    '),\n",
       " ('task 2', 'Rank the days of the week from highest to lowest in terms of the volume of ViewCount as a percentage', \"\\nSELECT  CASE \\n            WHEN WeekDayNumber = 0 THEN 'Sunday'\\n            WHEN WeekDayNumber = 1 THEN 'Monday'\\n            WHEN WeekDayNumber = ... (389 characters truncated) ... ViewCount) from posts)as float) *100.0,2) as Percentage_ViewCount \\nFROM posts   \\nGROUP BY WeekDayNumber\\nORDER BY Percentage_ViewCount DESC);\\n    \"),\n",
       " ('task 3', 'How many posts have been created by a user that has a filled out the \"AboutMe\" section', '\\n    SELECT count(*) FROM users\\n    INNER JOIN posts ON posts.OwnerUserId = users.Id\\n    WHERE AboutMe <> \"NULL\";\\n    '),\n",
       " ('task 3', 'Considering only the users with an \"AboutMe,\" how many posts are there per user', '\\n   SELECT OwnerUserId,count(*) \\n    FROM (SELECT * FROM users\\n    INNER JOIN posts ON posts.OwnerUserId = users.Id\\n    WHERE AboutMe <> \"NULL\")\\n    GROUP BY OwnerUserId;\\n    '),\n",
       " ('task 3', 'Not taking into account the commentcount field in the table posts, what are the Top 10 posts in terms of number of comments?', '\\n    SELECT PostId,count(comments.Id) as NumberComments FROM posts\\n    LEFT OUTER JOIN comments ON posts.Id = comments.PostId\\n    GROUP BY PostId\\n    ORDER BY NumberComments DESC\\n    LIMIT 10;\\n    '),\n",
       " ('task 3', 'Not taking into account the commentcount field in the table posts, what are the Top 10 posts in terms of number of comments?', '\\n    SELECT PostId,(TotalComScore + TotalPostScore ) as CummScore FROM\\n    (SELECT PostId,sum(comments.score) as TotalComScore ,sum(posts.score) as ... (42 characters truncated) ...  JOIN comments ON posts.Id = comments.PostId\\n    GROUP BY PostId\\n    ORDER BY TotalComScore DESC\\n    LIMIT 10)\\n    ORDER BY CummScore DESC;\\n    '),\n",
       " ('task 3', 'Who are the top 10 users who comment the most?', '\\n    SELECT UserId, users.Reputation,count(PostId) as PostsNum, count(Text) as NumComments FROM users\\n    LEFT OUTER JOIN comments ON users.Id = comments.UserId\\n    GROUP BY UserId\\n    ORDER BY PostsNum DESC\\n    LIMIT 10;\\n    ')]"
      ]
     },
     "execution_count": 173,
     "metadata": {},
     "output_type": "execute_result"
    }
   ],
   "source": [
    "%sql SELECT * FROM queries"
   ]
  },
  {
   "cell_type": "markdown",
   "metadata": {},
   "source": [
    "## Drop Duplicates\n",
    "\n",
    "You likely have some duplicates. Lets drop them. "
   ]
  },
  {
   "cell_type": "code",
   "execution_count": 174,
   "metadata": {},
   "outputs": [],
   "source": [
    "# Read the queries table into pandas\n",
    "sql = 'SELECT * FROM queries'\n",
    "queries = pd.read_sql(sql, con)\n",
    "\n",
    "# Drop duplicates\n",
    "queries.drop_duplicates(inplace = True) # drop duplicates"
   ]
  },
  {
   "cell_type": "markdown",
   "metadata": {},
   "source": [
    "## Case Issues"
   ]
  },
  {
   "cell_type": "markdown",
   "metadata": {},
   "source": [
    "Remember, SQL is case insensitive. Pandas IS case sensitive. Lets deal with this now by making all of the text uppercase. "
   ]
  },
  {
   "cell_type": "code",
   "execution_count": 175,
   "metadata": {},
   "outputs": [
    {
     "data": {
      "text/html": [
       "<div>\n",
       "<style scoped>\n",
       "    .dataframe tbody tr th:only-of-type {\n",
       "        vertical-align: middle;\n",
       "    }\n",
       "\n",
       "    .dataframe tbody tr th {\n",
       "        vertical-align: top;\n",
       "    }\n",
       "\n",
       "    .dataframe thead th {\n",
       "        text-align: right;\n",
       "    }\n",
       "</style>\n",
       "<table border=\"1\" class=\"dataframe\">\n",
       "  <thead>\n",
       "    <tr style=\"text-align: right;\">\n",
       "      <th></th>\n",
       "      <th>task</th>\n",
       "      <th>action</th>\n",
       "      <th>query</th>\n",
       "    </tr>\n",
       "  </thead>\n",
       "  <tbody>\n",
       "    <tr>\n",
       "      <th>0</th>\n",
       "      <td>SINGLE TABLE QUERIES</td>\n",
       "      <td>WHICH 5 USERS HAVE VIEWED THE MOST TIMES AND W...</td>\n",
       "      <td>\\nSELECT ID, SUM(VIEWS) AS TOTALVIEWS\\n    FRO...</td>\n",
       "    </tr>\n",
       "    <tr>\n",
       "      <th>1</th>\n",
       "      <td>TASK 1</td>\n",
       "      <td>CREATE TABLE COMMENTS</td>\n",
       "      <td>\\n    CREATE TABLE \"COMMENTS\" (\\n    \"ID\" INTE...</td>\n",
       "    </tr>\n",
       "    <tr>\n",
       "      <th>3</th>\n",
       "      <td>TASK 1</td>\n",
       "      <td>CREATE TABLE POSTS</td>\n",
       "      <td>\\n    CREATE TABLE \"POSTS\" (\\n        \"ID\" INT...</td>\n",
       "    </tr>\n",
       "    <tr>\n",
       "      <th>4</th>\n",
       "      <td>TASK 1</td>\n",
       "      <td>CREATE TABLE USERS</td>\n",
       "      <td>\\n    CREATE TABLE \"USERS\" (\\n        \"ID\" INT...</td>\n",
       "    </tr>\n",
       "    <tr>\n",
       "      <th>5</th>\n",
       "      <td>TASK 1</td>\n",
       "      <td>COUNT THE NUMBER OF ROWS IN THE COMMENTS TABLE</td>\n",
       "      <td>\\n    SELECT COUNT(*) \\n    FROM \"COMMENTS\" \\n...</td>\n",
       "    </tr>\n",
       "    <tr>\n",
       "      <th>6</th>\n",
       "      <td>TASK 1</td>\n",
       "      <td>COUNT THE NUMBER OF ROWS IN THE USERS TABLE</td>\n",
       "      <td>\\n    SELECT COUNT(*) \\n    FROM \"USERS\" \\n</td>\n",
       "    </tr>\n",
       "    <tr>\n",
       "      <th>7</th>\n",
       "      <td>TASK 1</td>\n",
       "      <td>COUNT THE NUMBER OF ROWS IN THE POSTS TABLE</td>\n",
       "      <td>\\n    SELECT COUNT(*) \\n    FROM \"POSTS\" \\n</td>\n",
       "    </tr>\n",
       "    <tr>\n",
       "      <th>8</th>\n",
       "      <td>TASK 2</td>\n",
       "      <td>HOW MANY POSTS HAVE 0 COMMENTS</td>\n",
       "      <td>\\n    SELECT COUNT(*) AS COUNT FROM POSTS \\n  ...</td>\n",
       "    </tr>\n",
       "    <tr>\n",
       "      <th>9</th>\n",
       "      <td>TASK 2</td>\n",
       "      <td>HOW MANY POSTS HAVE 1 COMMENTS</td>\n",
       "      <td>\\n    SELECT COUNT(*) AS COUNT FROM POSTS \\n  ...</td>\n",
       "    </tr>\n",
       "    <tr>\n",
       "      <th>10</th>\n",
       "      <td>TASK 2</td>\n",
       "      <td>HOW MANY POSTS HAVE 2 COMMENTS OR MORE</td>\n",
       "      <td>\\n    SELECT COUNT(*) AS COUNT FROM POSTS \\n  ...</td>\n",
       "    </tr>\n",
       "    <tr>\n",
       "      <th>11</th>\n",
       "      <td>TASK 2</td>\n",
       "      <td>FIND THE 5 POSTS WITH THE HIGHEST VIEWCOUNT</td>\n",
       "      <td>\\n    SELECT * FROM POSTS \\n    ORDER BY VIEWC...</td>\n",
       "    </tr>\n",
       "    <tr>\n",
       "      <th>12</th>\n",
       "      <td>TASK 2</td>\n",
       "      <td>FIND THE 5 POSTS WITH THE HIGHEST SCORES</td>\n",
       "      <td>\\n    SELECT * FROM POSTS \\n    ORDER BY SCORE...</td>\n",
       "    </tr>\n",
       "    <tr>\n",
       "      <th>14</th>\n",
       "      <td>TASK 2</td>\n",
       "      <td>WHAT ARE THE 5 MOST FREQUENT SCORES ON POSTS</td>\n",
       "      <td>\\n    SELECT SCORE ,COUNT(*) AS COUNT FROM POS...</td>\n",
       "    </tr>\n",
       "    <tr>\n",
       "      <th>15</th>\n",
       "      <td>TASK 2</td>\n",
       "      <td>HOW MANY POSTS HAVE THE KEYWORD \"DATA\" IN THEI...</td>\n",
       "      <td>\\n    SELECT COUNT(*) AS COUNT FROM POSTS \\n  ...</td>\n",
       "    </tr>\n",
       "    <tr>\n",
       "      <th>16</th>\n",
       "      <td>TASK 2</td>\n",
       "      <td>WHAT ARE THE 5 MOST FREQUENT COMMENTCOUNT FOR ...</td>\n",
       "      <td>\\n    SELECT COMMENTCOUNT ,COUNT(*) AS COUNT F...</td>\n",
       "    </tr>\n",
       "    <tr>\n",
       "      <th>17</th>\n",
       "      <td>TASK 2</td>\n",
       "      <td>HOW MANY POSTS HAVE AN ACCEPTED ANSWER</td>\n",
       "      <td>\\n    SELECT COUNT(*) AS COUNT FROM POSTS \\n  ...</td>\n",
       "    </tr>\n",
       "    <tr>\n",
       "      <th>18</th>\n",
       "      <td>TASK 2</td>\n",
       "      <td>WHAT IS THE AVERAGE REPUTATION OF TABLE USERS</td>\n",
       "      <td>\\n    SELECT ROUND(AVG(REPUTATION),2) AS AVERA...</td>\n",
       "    </tr>\n",
       "    <tr>\n",
       "      <th>19</th>\n",
       "      <td>TASK 2</td>\n",
       "      <td>WHAT ARE THE MIN AND MAX REPUTATION OF USERS</td>\n",
       "      <td>\\n    SELECT ROUND(MIN(REPUTATION),2) AS MINRE...</td>\n",
       "    </tr>\n",
       "    <tr>\n",
       "      <th>20</th>\n",
       "      <td>TASK 2</td>\n",
       "      <td>WHAT IS THE LENGTH OF THE BODY OF 5 MOST VIEWE...</td>\n",
       "      <td>\\n    SELECT VIEWCOUNT AS MOSTVIEWED ,LEN_BODY...</td>\n",
       "    </tr>\n",
       "    <tr>\n",
       "      <th>21</th>\n",
       "      <td>TASK 2</td>\n",
       "      <td>HOW MANY DIFFERENT LOCATIONS ARE THERE IN THE ...</td>\n",
       "      <td>\\n    SELECT COUNT(DISTINCT(LOCATION)) AS LOCA...</td>\n",
       "    </tr>\n",
       "    <tr>\n",
       "      <th>22</th>\n",
       "      <td>TASK 2</td>\n",
       "      <td>WHAT ARE THE TOP 5 LOCATIONS OF USERS</td>\n",
       "      <td>\\n    SELECT LOCATION,COUNT(*) AS LOCATIONCOUN...</td>\n",
       "    </tr>\n",
       "    <tr>\n",
       "      <th>23</th>\n",
       "      <td>TASK 2</td>\n",
       "      <td>RANK THE DAYS OF THE WEEK FROM HIGHEST TO LOWE...</td>\n",
       "      <td>\\nSELECT  CASE \\n            WHEN WEEKDAYNUMBE...</td>\n",
       "    </tr>\n",
       "    <tr>\n",
       "      <th>24</th>\n",
       "      <td>TASK 3</td>\n",
       "      <td>HOW MANY POSTS HAVE BEEN CREATED BY A USER THA...</td>\n",
       "      <td>\\n    SELECT COUNT(*) FROM USERS\\n    INNER JO...</td>\n",
       "    </tr>\n",
       "    <tr>\n",
       "      <th>25</th>\n",
       "      <td>TASK 3</td>\n",
       "      <td>CONSIDERING ONLY THE USERS WITH AN \"ABOUTME,\" ...</td>\n",
       "      <td>\\n   SELECT OWNERUSERID,COUNT(*) \\n    FROM (S...</td>\n",
       "    </tr>\n",
       "    <tr>\n",
       "      <th>26</th>\n",
       "      <td>TASK 3</td>\n",
       "      <td>NOT TAKING INTO ACCOUNT THE COMMENTCOUNT FIELD...</td>\n",
       "      <td>\\n    SELECT POSTID,COUNT(COMMENTS.ID) AS NUMB...</td>\n",
       "    </tr>\n",
       "    <tr>\n",
       "      <th>27</th>\n",
       "      <td>TASK 3</td>\n",
       "      <td>NOT TAKING INTO ACCOUNT THE COMMENTCOUNT FIELD...</td>\n",
       "      <td>\\n    SELECT POSTID,(TOTALCOMSCORE + TOTALPOST...</td>\n",
       "    </tr>\n",
       "    <tr>\n",
       "      <th>28</th>\n",
       "      <td>TASK 3</td>\n",
       "      <td>WHO ARE THE TOP 10 USERS WHO COMMENT THE MOST?</td>\n",
       "      <td>\\n    SELECT USERID, USERS.REPUTATION,COUNT(PO...</td>\n",
       "    </tr>\n",
       "  </tbody>\n",
       "</table>\n",
       "</div>"
      ],
      "text/plain": [
       "                    task                                             action  \\\n",
       "0   SINGLE TABLE QUERIES  WHICH 5 USERS HAVE VIEWED THE MOST TIMES AND W...   \n",
       "1                 TASK 1                              CREATE TABLE COMMENTS   \n",
       "3                 TASK 1                                 CREATE TABLE POSTS   \n",
       "4                 TASK 1                                 CREATE TABLE USERS   \n",
       "5                 TASK 1     COUNT THE NUMBER OF ROWS IN THE COMMENTS TABLE   \n",
       "6                 TASK 1        COUNT THE NUMBER OF ROWS IN THE USERS TABLE   \n",
       "7                 TASK 1        COUNT THE NUMBER OF ROWS IN THE POSTS TABLE   \n",
       "8                 TASK 2                     HOW MANY POSTS HAVE 0 COMMENTS   \n",
       "9                 TASK 2                     HOW MANY POSTS HAVE 1 COMMENTS   \n",
       "10                TASK 2             HOW MANY POSTS HAVE 2 COMMENTS OR MORE   \n",
       "11                TASK 2        FIND THE 5 POSTS WITH THE HIGHEST VIEWCOUNT   \n",
       "12                TASK 2           FIND THE 5 POSTS WITH THE HIGHEST SCORES   \n",
       "14                TASK 2       WHAT ARE THE 5 MOST FREQUENT SCORES ON POSTS   \n",
       "15                TASK 2  HOW MANY POSTS HAVE THE KEYWORD \"DATA\" IN THEI...   \n",
       "16                TASK 2  WHAT ARE THE 5 MOST FREQUENT COMMENTCOUNT FOR ...   \n",
       "17                TASK 2             HOW MANY POSTS HAVE AN ACCEPTED ANSWER   \n",
       "18                TASK 2      WHAT IS THE AVERAGE REPUTATION OF TABLE USERS   \n",
       "19                TASK 2       WHAT ARE THE MIN AND MAX REPUTATION OF USERS   \n",
       "20                TASK 2  WHAT IS THE LENGTH OF THE BODY OF 5 MOST VIEWE...   \n",
       "21                TASK 2  HOW MANY DIFFERENT LOCATIONS ARE THERE IN THE ...   \n",
       "22                TASK 2              WHAT ARE THE TOP 5 LOCATIONS OF USERS   \n",
       "23                TASK 2  RANK THE DAYS OF THE WEEK FROM HIGHEST TO LOWE...   \n",
       "24                TASK 3  HOW MANY POSTS HAVE BEEN CREATED BY A USER THA...   \n",
       "25                TASK 3  CONSIDERING ONLY THE USERS WITH AN \"ABOUTME,\" ...   \n",
       "26                TASK 3  NOT TAKING INTO ACCOUNT THE COMMENTCOUNT FIELD...   \n",
       "27                TASK 3  NOT TAKING INTO ACCOUNT THE COMMENTCOUNT FIELD...   \n",
       "28                TASK 3     WHO ARE THE TOP 10 USERS WHO COMMENT THE MOST?   \n",
       "\n",
       "                                                query  \n",
       "0   \\nSELECT ID, SUM(VIEWS) AS TOTALVIEWS\\n    FRO...  \n",
       "1   \\n    CREATE TABLE \"COMMENTS\" (\\n    \"ID\" INTE...  \n",
       "3   \\n    CREATE TABLE \"POSTS\" (\\n        \"ID\" INT...  \n",
       "4   \\n    CREATE TABLE \"USERS\" (\\n        \"ID\" INT...  \n",
       "5   \\n    SELECT COUNT(*) \\n    FROM \"COMMENTS\" \\n...  \n",
       "6     \\n    SELECT COUNT(*) \\n    FROM \"USERS\" \\n      \n",
       "7     \\n    SELECT COUNT(*) \\n    FROM \"POSTS\" \\n      \n",
       "8   \\n    SELECT COUNT(*) AS COUNT FROM POSTS \\n  ...  \n",
       "9   \\n    SELECT COUNT(*) AS COUNT FROM POSTS \\n  ...  \n",
       "10  \\n    SELECT COUNT(*) AS COUNT FROM POSTS \\n  ...  \n",
       "11  \\n    SELECT * FROM POSTS \\n    ORDER BY VIEWC...  \n",
       "12  \\n    SELECT * FROM POSTS \\n    ORDER BY SCORE...  \n",
       "14  \\n    SELECT SCORE ,COUNT(*) AS COUNT FROM POS...  \n",
       "15  \\n    SELECT COUNT(*) AS COUNT FROM POSTS \\n  ...  \n",
       "16  \\n    SELECT COMMENTCOUNT ,COUNT(*) AS COUNT F...  \n",
       "17  \\n    SELECT COUNT(*) AS COUNT FROM POSTS \\n  ...  \n",
       "18  \\n    SELECT ROUND(AVG(REPUTATION),2) AS AVERA...  \n",
       "19  \\n    SELECT ROUND(MIN(REPUTATION),2) AS MINRE...  \n",
       "20  \\n    SELECT VIEWCOUNT AS MOSTVIEWED ,LEN_BODY...  \n",
       "21  \\n    SELECT COUNT(DISTINCT(LOCATION)) AS LOCA...  \n",
       "22  \\n    SELECT LOCATION,COUNT(*) AS LOCATIONCOUN...  \n",
       "23  \\nSELECT  CASE \\n            WHEN WEEKDAYNUMBE...  \n",
       "24  \\n    SELECT COUNT(*) FROM USERS\\n    INNER JO...  \n",
       "25  \\n   SELECT OWNERUSERID,COUNT(*) \\n    FROM (S...  \n",
       "26  \\n    SELECT POSTID,COUNT(COMMENTS.ID) AS NUMB...  \n",
       "27  \\n    SELECT POSTID,(TOTALCOMSCORE + TOTALPOST...  \n",
       "28  \\n    SELECT USERID, USERS.REPUTATION,COUNT(PO...  "
      ]
     },
     "execution_count": 175,
     "metadata": {},
     "output_type": "execute_result"
    }
   ],
   "source": [
    "for col in queries.columns:\n",
    "    queries[col] = queries[col].str.upper()\n",
    "    \n",
    "queries"
   ]
  },
  {
   "cell_type": "code",
   "execution_count": 176,
   "metadata": {},
   "outputs": [
    {
     "data": {
      "text/plain": [
       "27"
      ]
     },
     "execution_count": 176,
     "metadata": {},
     "output_type": "execute_result"
    }
   ],
   "source": [
    "# Write the now deduped uppercase dataframe back to sqlite and replace the table\n",
    "queries.to_sql('queries', con, if_exists='replace', index=False)"
   ]
  },
  {
   "cell_type": "markdown",
   "metadata": {},
   "source": [
    "## Use Case\n",
    "\n",
    "Now that we have this queries table, lets give you some ideas about how you would use it.\n",
    "\n",
    "Suppose you wanted to find all of the queries where you did a GROUP BY:"
   ]
  },
  {
   "cell_type": "code",
   "execution_count": 177,
   "metadata": {},
   "outputs": [
    {
     "name": "stdout",
     "output_type": "stream",
     "text": [
      " * sqlite:///chatdata.db\n",
      "Done.\n"
     ]
    },
    {
     "data": {
      "text/html": [
       "<table>\n",
       "    <tr>\n",
       "        <th>query</th>\n",
       "    </tr>\n",
       "    <tr>\n",
       "        <td><br>SELECT ID, SUM(VIEWS) AS TOTALVIEWS<br>    FROM USERS<br>        GROUP BY ID<br>            ORDER BY TOTALVIEWS DESC<br>                LIMIT 5<br>                </td>\n",
       "    </tr>\n",
       "    <tr>\n",
       "        <td><br>    SELECT SCORE ,COUNT(*) AS COUNT FROM POSTS <br>    GROUP BY SCORE<br>    ORDER BY COUNT DESC<br>    LIMIT 5;<br>    </td>\n",
       "    </tr>\n",
       "    <tr>\n",
       "        <td><br>    SELECT COMMENTCOUNT ,COUNT(*) AS COUNT FROM POSTS <br>    GROUP BY COMMENTCOUNT<br>    ORDER BY COUNT DESC<br>    LIMIT 5;<br>    </td>\n",
       "    </tr>\n",
       "    <tr>\n",
       "        <td><br>    SELECT COUNT(DISTINCT(LOCATION)) AS LOCATIONCOUNT FROM (<br>    SELECT * FROM USERS <br>        GROUP BY LOCATION<br>    );<br>    </td>\n",
       "    </tr>\n",
       "    <tr>\n",
       "        <td><br>    SELECT LOCATION,COUNT(*) AS LOCATIONCOUNT FROM USERS<br>    GROUP BY LOCATION<br>    ORDER BY LOCATIONCOUNT DESC<br>    LIMIT 5;<br>    </td>\n",
       "    </tr>\n",
       "    <tr>\n",
       "        <td><br>SELECT  CASE <br>            WHEN WEEKDAYNUMBER = 0 THEN &#x27;SUNDAY&#x27;<br>            WHEN WEEKDAYNUMBER = 1 THEN &#x27;MONDAY&#x27;<br>            WHEN WEEKDAYNUMBER = 2 THEN &#x27;TUESDAY&#x27;<br>            WHEN WEEKDAYNUMBER = 3 THEN &#x27;WEDNESDAY&#x27;<br>            WHEN WEEKDAYNUMBER = 4 THEN &#x27;THURSDAY&#x27;<br>            WHEN WEEKDAYNUMBER = 5 THEN &#x27;FRIDAY&#x27;<br>            ELSE &#x27;SATURDAY&#x27; <br>    END AS WEEKDAY,PERCENTAGE_VIEWCOUNT<br>FROM (SELECT CAST (STRFTIME(&#x27;%W&#x27;, CREATIONDATE) AS INTEGER) AS WEEKDAYNUMBER,<br>           ROUND( CAST(SUM(VIEWCOUNT) AS FLOAT)/CAST((SELECT SUM(VIEWCOUNT) FROM POSTS)AS FLOAT) *100.0,2) AS PERCENTAGE_VIEWCOUNT <br>FROM POSTS   <br>GROUP BY WEEKDAYNUMBER<br>ORDER BY PERCENTAGE_VIEWCOUNT DESC);<br>    </td>\n",
       "    </tr>\n",
       "    <tr>\n",
       "        <td><br>   SELECT OWNERUSERID,COUNT(*) <br>    FROM (SELECT * FROM USERS<br>    INNER JOIN POSTS ON POSTS.OWNERUSERID = USERS.ID<br>    WHERE ABOUTME &lt;&gt; &quot;NULL&quot;)<br>    GROUP BY OWNERUSERID;<br>    </td>\n",
       "    </tr>\n",
       "    <tr>\n",
       "        <td><br>    SELECT POSTID,COUNT(COMMENTS.ID) AS NUMBERCOMMENTS FROM POSTS<br>    LEFT OUTER JOIN COMMENTS ON POSTS.ID = COMMENTS.POSTID<br>    GROUP BY POSTID<br>    ORDER BY NUMBERCOMMENTS DESC<br>    LIMIT 10;<br>    </td>\n",
       "    </tr>\n",
       "    <tr>\n",
       "        <td><br>    SELECT POSTID,(TOTALCOMSCORE + TOTALPOSTSCORE ) AS CUMMSCORE FROM<br>    (SELECT POSTID,SUM(COMMENTS.SCORE) AS TOTALCOMSCORE ,SUM(POSTS.SCORE) AS TOTALPOSTSCORE FROM POSTS<br>    LEFT OUTER JOIN COMMENTS ON POSTS.ID = COMMENTS.POSTID<br>    GROUP BY POSTID<br>    ORDER BY TOTALCOMSCORE DESC<br>    LIMIT 10)<br>    ORDER BY CUMMSCORE DESC;<br>    </td>\n",
       "    </tr>\n",
       "    <tr>\n",
       "        <td><br>    SELECT USERID, USERS.REPUTATION,COUNT(POSTID) AS POSTSNUM, COUNT(TEXT) AS NUMCOMMENTS FROM USERS<br>    LEFT OUTER JOIN COMMENTS ON USERS.ID = COMMENTS.USERID<br>    GROUP BY USERID<br>    ORDER BY POSTSNUM DESC<br>    LIMIT 10;<br>    </td>\n",
       "    </tr>\n",
       "</table>"
      ],
      "text/plain": [
       "[('\\nSELECT ID, SUM(VIEWS) AS TOTALVIEWS\\n    FROM USERS\\n        GROUP BY ID\\n            ORDER BY TOTALVIEWS DESC\\n                LIMIT 5\\n                ',),\n",
       " ('\\n    SELECT SCORE ,COUNT(*) AS COUNT FROM POSTS \\n    GROUP BY SCORE\\n    ORDER BY COUNT DESC\\n    LIMIT 5;\\n    ',),\n",
       " ('\\n    SELECT COMMENTCOUNT ,COUNT(*) AS COUNT FROM POSTS \\n    GROUP BY COMMENTCOUNT\\n    ORDER BY COUNT DESC\\n    LIMIT 5;\\n    ',),\n",
       " ('\\n    SELECT COUNT(DISTINCT(LOCATION)) AS LOCATIONCOUNT FROM (\\n    SELECT * FROM USERS \\n        GROUP BY LOCATION\\n    );\\n    ',),\n",
       " ('\\n    SELECT LOCATION,COUNT(*) AS LOCATIONCOUNT FROM USERS\\n    GROUP BY LOCATION\\n    ORDER BY LOCATIONCOUNT DESC\\n    LIMIT 5;\\n    ',),\n",
       " (\"\\nSELECT  CASE \\n            WHEN WEEKDAYNUMBER = 0 THEN 'SUNDAY'\\n            WHEN WEEKDAYNUMBER = 1 THEN 'MONDAY'\\n            WHEN WEEKDAYNUMBER = ... (389 characters truncated) ... VIEWCOUNT) FROM POSTS)AS FLOAT) *100.0,2) AS PERCENTAGE_VIEWCOUNT \\nFROM POSTS   \\nGROUP BY WEEKDAYNUMBER\\nORDER BY PERCENTAGE_VIEWCOUNT DESC);\\n    \",),\n",
       " ('\\n   SELECT OWNERUSERID,COUNT(*) \\n    FROM (SELECT * FROM USERS\\n    INNER JOIN POSTS ON POSTS.OWNERUSERID = USERS.ID\\n    WHERE ABOUTME <> \"NULL\")\\n    GROUP BY OWNERUSERID;\\n    ',),\n",
       " ('\\n    SELECT POSTID,COUNT(COMMENTS.ID) AS NUMBERCOMMENTS FROM POSTS\\n    LEFT OUTER JOIN COMMENTS ON POSTS.ID = COMMENTS.POSTID\\n    GROUP BY POSTID\\n    ORDER BY NUMBERCOMMENTS DESC\\n    LIMIT 10;\\n    ',),\n",
       " ('\\n    SELECT POSTID,(TOTALCOMSCORE + TOTALPOSTSCORE ) AS CUMMSCORE FROM\\n    (SELECT POSTID,SUM(COMMENTS.SCORE) AS TOTALCOMSCORE ,SUM(POSTS.SCORE) AS ... (42 characters truncated) ...  JOIN COMMENTS ON POSTS.ID = COMMENTS.POSTID\\n    GROUP BY POSTID\\n    ORDER BY TOTALCOMSCORE DESC\\n    LIMIT 10)\\n    ORDER BY CUMMSCORE DESC;\\n    ',),\n",
       " ('\\n    SELECT USERID, USERS.REPUTATION,COUNT(POSTID) AS POSTSNUM, COUNT(TEXT) AS NUMCOMMENTS FROM USERS\\n    LEFT OUTER JOIN COMMENTS ON USERS.ID = COMMENTS.USERID\\n    GROUP BY USERID\\n    ORDER BY POSTSNUM DESC\\n    LIMIT 10;\\n    ',)]"
      ]
     },
     "execution_count": 177,
     "metadata": {},
     "output_type": "execute_result"
    }
   ],
   "source": [
    "%%sql\n",
    "SELECT query\n",
    "    FROM queries\n",
    "        WHERE query LIKE '%GROUP BY%'"
   ]
  },
  {
   "cell_type": "markdown",
   "metadata": {},
   "source": [
    "## Now Your Turn\n",
    "Find the queries that have 'DISTINCT' in them. You can do it with the %sql command or with Pandas and sql.\n",
    "\n",
    "<div style=\"background-color:lemonchiffon; border:1px solid; padding:5px; margin:5px; font-weight:bold\"><font color=\"crimson\">\n",
    "TODO: Complete the following code cell\n",
    "    </font></div>"
   ]
  },
  {
   "cell_type": "code",
   "execution_count": 178,
   "metadata": {},
   "outputs": [
    {
     "name": "stdout",
     "output_type": "stream",
     "text": [
      " * sqlite:///chatdata.db\n",
      "Done.\n"
     ]
    },
    {
     "data": {
      "text/html": [
       "<table>\n",
       "    <tr>\n",
       "        <th>query</th>\n",
       "    </tr>\n",
       "    <tr>\n",
       "        <td><br>    SELECT COUNT(DISTINCT(LOCATION)) AS LOCATIONCOUNT FROM (<br>    SELECT * FROM USERS <br>        GROUP BY LOCATION<br>    );<br>    </td>\n",
       "    </tr>\n",
       "</table>"
      ],
      "text/plain": [
       "[('\\n    SELECT COUNT(DISTINCT(LOCATION)) AS LOCATIONCOUNT FROM (\\n    SELECT * FROM USERS \\n        GROUP BY LOCATION\\n    );\\n    ',)]"
      ]
     },
     "execution_count": 178,
     "metadata": {},
     "output_type": "execute_result"
    }
   ],
   "source": [
    "%%sql\n",
    "SELECT query \n",
    "    FROM queries\n",
    "        WHERE query LIKE '%DISTINCT%'"
   ]
  },
  {
   "cell_type": "markdown",
   "metadata": {},
   "source": [
    "# Close SQLite\n",
    "\n",
    "It is good practise to close all relational databases as soon as you are finished updating them."
   ]
  },
  {
   "cell_type": "code",
   "execution_count": 180,
   "metadata": {},
   "outputs": [],
   "source": [
    "con.close()"
   ]
  },
  {
   "cell_type": "markdown",
   "metadata": {},
   "source": [
    "# All Done!\n",
    "\n",
    "Great job. You now have a good idea for how to use sql and pandas with sql. You can create your own databases from csv files and you can do extensive querying using sql. These are valuable skills that will take you a long ways in todays technological world."
   ]
  }
 ],
 "metadata": {
  "kernelspec": {
   "display_name": "Python 3 (ipykernel)",
   "language": "python",
   "name": "python3"
  },
  "language_info": {
   "codemirror_mode": {
    "name": "ipython",
    "version": 3
   },
   "file_extension": ".py",
   "mimetype": "text/x-python",
   "name": "python",
   "nbconvert_exporter": "python",
   "pygments_lexer": "ipython3",
   "version": "3.9.13"
  },
  "toc": {
   "base_numbering": 1,
   "nav_menu": {},
   "number_sections": true,
   "sideBar": true,
   "skip_h1_title": false,
   "title_cell": "Table of Contents",
   "title_sidebar": "Contents",
   "toc_cell": false,
   "toc_position": {
    "height": "calc(100% - 180px)",
    "left": "10px",
    "top": "150px",
    "width": "293.993px"
   },
   "toc_section_display": true,
   "toc_window_display": true
  }
 },
 "nbformat": 4,
 "nbformat_minor": 4
}
